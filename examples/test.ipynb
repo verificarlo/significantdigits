{
 "cells": [
  {
   "cell_type": "code",
   "execution_count": 1,
   "id": "71a74ec4",
   "metadata": {},
   "outputs": [],
   "source": [
    "def _fill_where(dst, src, mask) -> None:\n",
    "    \"\"\"Fill dst with src where mask is True\"\"\"\n",
    "    if dst.ndim == 0 and ~mask:\n",
    "        dst = src\n",
    "    else:\n",
    "        dst[mask] = src[mask]"
   ]
  },
  {
   "cell_type": "code",
   "execution_count": 2,
   "id": "a5016359",
   "metadata": {},
   "outputs": [
    {
     "name": "stdout",
     "output_type": "stream",
     "text": [
      "[('0x1.fffff92d9636ap+0', '1.99999959338148381e+00'), ('-0x1.000042de749ebp+1', '-2.00000797140204645e+00')]\n",
      "[('0x1.fffed028bb419p+0', '1.99998188967152246e+00'), ('-0x1.fffd8c9ef3832p+0', '-1.99996260529179581e+00')]\n",
      "[('0x1.0000ca4329aa9p+1', '2.00002411155158599e+00'), ('-0x1.0000ff9ac0f4cp+1', '-2.00003047043165871e+00')]\n",
      "[('0x1.000108a3895bep+1', '2.00003154740508560e+00'), ('-0x1.00009149ca408p+1', '-2.00001731970815300e+00')]\n",
      "[('0x1.ffff178506bb9p+0', '1.99998614309036626e+00'), ('-0x1.ffff418b9d86ep+0', '-1.99998864801957721e+00')]\n",
      "[('0x1.ffff12fac54d7p+0', '1.99998587248164994e+00'), ('-0x1.fffea9e15aecbp+0', '-1.99997960807643227e+00')]\n",
      "[('0x1.fffd40adcbacep+0', '1.99995807879502108e+00'), ('-0x1.fffc43a4bbdf7p+0', '-1.99994299671004483e+00')]\n",
      "[('0x1.fffffbb1508cep+0', '1.99999974326106011e+00'), ('-0x1.0000256a7078dp+1', '-2.00000446030839507e+00')]\n",
      "[('0x1.0000f0b405b06p+1', '2.00002869405887207e+00'), ('-0x1.0000ba1499536p+1', '-2.00002218251997999e+00')]\n",
      "[('0x1.fffdd13717c60p+0', '1.99996669383087777e+00'), ('-0x1.fffe1aa61bb87p+0', '-1.99997107081773762e+00')]\n"
     ]
    }
   ],
   "source": [
    "from significantdigits._significantdigits import _compute_z, Error, _get_significant_size\n",
    "import numpy as np\n",
    "\n",
    "def print_hex(x):\n",
    "    if isinstance(x, np.ndarray):\n",
    "        for i in x:\n",
    "            print_hex(i)\n",
    "    elif isinstance(x, list):\n",
    "        for i in x:\n",
    "            print_hex(i)\n",
    "    else:\n",
    "        print(x.hex())\n",
    "\n",
    "def inexact(value):\n",
    "    xi = np.random.uniform(-.5, .5)\n",
    "    e_x = np.floor(np.log2(abs(value))) + 1\n",
    "    y = value + 2**(e_x - 40) * xi\n",
    "    # print(f\"value: {value}, e_x: {e_x}, xi: {xi}, y: {y}\")\n",
    "    return y\n",
    "\n",
    "def add(x,y):\n",
    "    return inexact(x+y)\n",
    "\n",
    "def sub(x,y):\n",
    "    return inexact(x-y)\n",
    "\n",
    "def mul(x,y):\n",
    "    return inexact(x*y)\n",
    "\n",
    "def div(x,y):\n",
    "    return inexact(x/y)\n",
    "\n",
    "a = np.array([[0.2161, 0.1441], [1.2969, 0.8648]])\n",
    "b = np.array([0.1440, 0.8642])\n",
    "\n",
    "def cramer(a, b):\n",
    "    det = sub(mul(a[0, 0], a[1, 1]) , mul(a[1, 0],  a[0, 1]))\n",
    "    det0 = sub(mul(b[0] , a[1, 1]) , mul(b[1], a[0, 1]))\n",
    "    det1 = sub(mul(a[0, 0] , b[1]) , mul(a[1, 0],  b[0]))\n",
    "    return np.array([div(det0 , det), div(det1, det)])\n",
    "\n",
    "array = []\n",
    "for i in range(10000):\n",
    "    y= cramer(a, b)\n",
    "    array.append(y)\n",
    "    if i < 10:\n",
    "        print([(i.hex(), f\"{i:.17e}\") for i in y])\n",
    "\n",
    "\n",
    "array = np.array(array)\n",
    "reference = np.array([2,-2])\n",
    "error = Error.Absolute\n",
    "dtype = np.float64\n",
    "axis = 0"
   ]
  },
  {
   "cell_type": "markdown",
   "id": "13942b95",
   "metadata": {},
   "source": [
    "## CNH"
   ]
  },
  {
   "cell_type": "markdown",
   "id": "b73e0ede",
   "metadata": {},
   "source": [
    "### Significant digits"
   ]
  },
  {
   "cell_type": "code",
   "execution_count": 3,
   "id": "7958e910",
   "metadata": {},
   "outputs": [
    {
     "data": {
      "text/plain": [
       "array([15.68105801, 15.55905898])"
      ]
     },
     "execution_count": 3,
     "metadata": {},
     "output_type": "execute_result"
    }
   ],
   "source": [
    "import scipy.stats\n",
    "from significantdigits._significantdigits import _internal_dtype, _default_confidence\n",
    "\n",
    "\n",
    "confidence = 0.95\n",
    "probability = 0.95\n",
    "z, e = _compute_z(\n",
    "    array, reference, error, axis=axis\n",
    ")\n",
    "nb_samples = z.shape[axis]\n",
    "std = z.std(axis=axis, dtype=_internal_dtype)\n",
    "# if std == 0, we set it to the maximum value of z \n",
    "# to avoid returning the maximum number of bits depending on the dtype\n",
    "# while it can be lower (cf. Cramer example)\n",
    "z_eps = np.max(np.abs(z), axis=axis)\n",
    "_fill_where(z_eps, std, std == 0)\n",
    "# We need to mask the std where z_eps == 0\n",
    "# In that case, we have no variance and z = 0\n",
    "std0 = np.ma.array(std, mask=(z_eps == 0))    \n",
    "chi2 = scipy.stats.chi2.interval(confidence, nb_samples - 1)[0]\n",
    "inorm = scipy.stats.norm.ppf((probability + 1) / 2)\n",
    "delta_chn = 0.5 * np.log2((nb_samples - 1) / chi2) + np.log2(inorm)\n",
    "significant = -np.ma.log2(std0) + (e - 1) - delta_chn\n",
    "std0 = np.ma.array(std, mask=std == 0)\n",
    "max_bits = _get_significant_size(z, dtype=dtype) + (e - 1)\n",
    "if significant.ndim == 0:\n",
    "    significant = np.ma.array(significant, mask=std0.mask)\n",
    "significant = significant.filled(fill_value=max_bits - delta_chn)\n",
    "significant\n"
   ]
  },
  {
   "cell_type": "markdown",
   "id": "a325ef65",
   "metadata": {},
   "source": [
    "## General"
   ]
  },
  {
   "cell_type": "markdown",
   "id": "dc9e6509",
   "metadata": {},
   "source": [
    "### Significant digits"
   ]
  },
  {
   "cell_type": "code",
   "execution_count": 4,
   "id": "2ec28970",
   "metadata": {},
   "outputs": [
    {
     "name": "stdout",
     "output_type": "stream",
     "text": [
      "[14. 13.]\n"
     ]
    }
   ],
   "source": [
    "z, e = _compute_z(array, reference, error, axis=axis)\n",
    "sample_shape = tuple(dim for i, dim in enumerate(z.shape) if i != axis)\n",
    "max_bits = _get_significant_size(z, dtype=dtype)\n",
    "significant = np.full(shape=sample_shape, fill_value=max_bits + (e - 1))\n",
    "mask = np.full_like(significant, True, dtype=bool)\n",
    "z = np.abs(z)\n",
    "\n",
    "k_trace = []\n",
    "significant_trace = []\n",
    "proba_trace = []\n",
    "if np.all(z <= 0):\n",
    "    print(significant)\n",
    "else:\n",
    "    # Compute successes\n",
    "    for k in range(0, max_bits + 1):\n",
    "        # min(bool) <=> logical and\n",
    "        kth = k + (e - 1.0)\n",
    "        k_trace.append(kth[0])\n",
    "        proba = np.sum(z<= 2**-kth, axis=axis)[0] / z.shape[0]\n",
    "        proba_trace.append(proba)\n",
    "        successes = np.min(z <= 2**-kth, axis=axis)\n",
    "        mask = np.logical_and(mask, successes)\n",
    "        # Update significant digits\n",
    "        significant[mask] = kth[mask]\n",
    "        significant_trace.append(significant[0])\n",
    "    print(significant)\n"
   ]
  },
  {
   "cell_type": "code",
   "execution_count": 5,
   "id": "4cbbe8e4",
   "metadata": {},
   "outputs": [
    {
     "data": {
      "application/vnd.plotly.v1+json": {
       "config": {
        "plotlyServerURL": "https://plot.ly"
       },
       "data": [
        {
         "hovertemplate": "x=%{x}<br>y=%{y}<extra></extra>",
         "legendgroup": "",
         "marker": {
          "color": "#636efa",
          "symbol": "circle"
         },
         "mode": "markers",
         "name": "",
         "orientation": "v",
         "showlegend": false,
         "type": "scatter",
         "x": {
          "bdata": "AAAAAAAA8D8AAAAAAAAAQAAAAAAAAAhAAAAAAAAAEEAAAAAAAAAUQAAAAAAAABhAAAAAAAAAHEAAAAAAAAAgQAAAAAAAACJAAAAAAAAAJEAAAAAAAAAmQAAAAAAAAChAAAAAAAAAKkAAAAAAAAAsQAAAAAAAAC5AAAAAAAAAMEAAAAAAAAAxQAAAAAAAADJAAAAAAAAAM0AAAAAAAAA0QAAAAAAAADVAAAAAAAAANkAAAAAAAAA3QAAAAAAAADhAAAAAAAAAOUAAAAAAAAA6QAAAAAAAADtAAAAAAAAAPEAAAAAAAAA9QAAAAAAAAD5AAAAAAAAAP0AAAAAAAABAQAAAAAAAgEBAAAAAAAAAQUAAAAAAAIBBQAAAAAAAAEJAAAAAAACAQkAAAAAAAABDQAAAAAAAgENAAAAAAAAAREAAAAAAAIBEQAAAAAAAAEVAAAAAAACARUAAAAAAAABGQAAAAAAAgEZAAAAAAAAAR0AAAAAAAIBHQAAAAAAAAEhAAAAAAACASEAAAAAAAABJQAAAAAAAgElAAAAAAAAASkAAAAAAAIBKQA==",
          "dtype": "f8"
         },
         "xaxis": "x",
         "y": {
          "bdata": "AAAAAAAA8D8AAAAAAADwPwAAAAAAAPA/AAAAAAAA8D8AAAAAAADwPwAAAAAAAPA/AAAAAAAA8D8AAAAAAADwPwAAAAAAAPA/AAAAAAAA8D8AAAAAAADwPwAAAAAAAPA/AAAAAAAA8D8AAAAAAADwPwK8BRIUP+w/OdbFbTSA4T8MAiuHFtnSP636XG3F/sI/hxbZzvdTsz/G3LWEfNCjPyuHFtnO95M/Gy/dJAaBhT+u2F92Tx52P67YX3ZPHmY/+n5qvHSTWD9hMlUwKqkzPy1DHOviNio/LUMc6+I2Gj8tQxzr4jYaPwAAAAAAAAAAAAAAAAAAAAAAAAAAAAAAAAAAAAAAAAAAAAAAAAAAAAAAAAAAAAAAAAAAAAAAAAAAAAAAAAAAAAAAAAAAAAAAAAAAAAAAAAAAAAAAAAAAAAAAAAAAAAAAAAAAAAAAAAAAAAAAAAAAAAAAAAAAAAAAAAAAAAAAAAAAAAAAAAAAAAAAAAAAAAAAAAAAAAAAAAAAAAAAAAAAAAAAAAAAAAAAAAAAAAAAAAAAAAAAAAAAAAAAAAAAAAAAAA==",
          "dtype": "f8"
         },
         "yaxis": "y"
        }
       ],
       "layout": {
        "legend": {
         "tracegroupgap": 0
        },
        "template": {
         "data": {
          "bar": [
           {
            "error_x": {
             "color": "#2a3f5f"
            },
            "error_y": {
             "color": "#2a3f5f"
            },
            "marker": {
             "line": {
              "color": "#E5ECF6",
              "width": 0.5
             },
             "pattern": {
              "fillmode": "overlay",
              "size": 10,
              "solidity": 0.2
             }
            },
            "type": "bar"
           }
          ],
          "barpolar": [
           {
            "marker": {
             "line": {
              "color": "#E5ECF6",
              "width": 0.5
             },
             "pattern": {
              "fillmode": "overlay",
              "size": 10,
              "solidity": 0.2
             }
            },
            "type": "barpolar"
           }
          ],
          "carpet": [
           {
            "aaxis": {
             "endlinecolor": "#2a3f5f",
             "gridcolor": "white",
             "linecolor": "white",
             "minorgridcolor": "white",
             "startlinecolor": "#2a3f5f"
            },
            "baxis": {
             "endlinecolor": "#2a3f5f",
             "gridcolor": "white",
             "linecolor": "white",
             "minorgridcolor": "white",
             "startlinecolor": "#2a3f5f"
            },
            "type": "carpet"
           }
          ],
          "choropleth": [
           {
            "colorbar": {
             "outlinewidth": 0,
             "ticks": ""
            },
            "type": "choropleth"
           }
          ],
          "contour": [
           {
            "colorbar": {
             "outlinewidth": 0,
             "ticks": ""
            },
            "colorscale": [
             [
              0,
              "#0d0887"
             ],
             [
              0.1111111111111111,
              "#46039f"
             ],
             [
              0.2222222222222222,
              "#7201a8"
             ],
             [
              0.3333333333333333,
              "#9c179e"
             ],
             [
              0.4444444444444444,
              "#bd3786"
             ],
             [
              0.5555555555555556,
              "#d8576b"
             ],
             [
              0.6666666666666666,
              "#ed7953"
             ],
             [
              0.7777777777777778,
              "#fb9f3a"
             ],
             [
              0.8888888888888888,
              "#fdca26"
             ],
             [
              1,
              "#f0f921"
             ]
            ],
            "type": "contour"
           }
          ],
          "contourcarpet": [
           {
            "colorbar": {
             "outlinewidth": 0,
             "ticks": ""
            },
            "type": "contourcarpet"
           }
          ],
          "heatmap": [
           {
            "colorbar": {
             "outlinewidth": 0,
             "ticks": ""
            },
            "colorscale": [
             [
              0,
              "#0d0887"
             ],
             [
              0.1111111111111111,
              "#46039f"
             ],
             [
              0.2222222222222222,
              "#7201a8"
             ],
             [
              0.3333333333333333,
              "#9c179e"
             ],
             [
              0.4444444444444444,
              "#bd3786"
             ],
             [
              0.5555555555555556,
              "#d8576b"
             ],
             [
              0.6666666666666666,
              "#ed7953"
             ],
             [
              0.7777777777777778,
              "#fb9f3a"
             ],
             [
              0.8888888888888888,
              "#fdca26"
             ],
             [
              1,
              "#f0f921"
             ]
            ],
            "type": "heatmap"
           }
          ],
          "histogram": [
           {
            "marker": {
             "pattern": {
              "fillmode": "overlay",
              "size": 10,
              "solidity": 0.2
             }
            },
            "type": "histogram"
           }
          ],
          "histogram2d": [
           {
            "colorbar": {
             "outlinewidth": 0,
             "ticks": ""
            },
            "colorscale": [
             [
              0,
              "#0d0887"
             ],
             [
              0.1111111111111111,
              "#46039f"
             ],
             [
              0.2222222222222222,
              "#7201a8"
             ],
             [
              0.3333333333333333,
              "#9c179e"
             ],
             [
              0.4444444444444444,
              "#bd3786"
             ],
             [
              0.5555555555555556,
              "#d8576b"
             ],
             [
              0.6666666666666666,
              "#ed7953"
             ],
             [
              0.7777777777777778,
              "#fb9f3a"
             ],
             [
              0.8888888888888888,
              "#fdca26"
             ],
             [
              1,
              "#f0f921"
             ]
            ],
            "type": "histogram2d"
           }
          ],
          "histogram2dcontour": [
           {
            "colorbar": {
             "outlinewidth": 0,
             "ticks": ""
            },
            "colorscale": [
             [
              0,
              "#0d0887"
             ],
             [
              0.1111111111111111,
              "#46039f"
             ],
             [
              0.2222222222222222,
              "#7201a8"
             ],
             [
              0.3333333333333333,
              "#9c179e"
             ],
             [
              0.4444444444444444,
              "#bd3786"
             ],
             [
              0.5555555555555556,
              "#d8576b"
             ],
             [
              0.6666666666666666,
              "#ed7953"
             ],
             [
              0.7777777777777778,
              "#fb9f3a"
             ],
             [
              0.8888888888888888,
              "#fdca26"
             ],
             [
              1,
              "#f0f921"
             ]
            ],
            "type": "histogram2dcontour"
           }
          ],
          "mesh3d": [
           {
            "colorbar": {
             "outlinewidth": 0,
             "ticks": ""
            },
            "type": "mesh3d"
           }
          ],
          "parcoords": [
           {
            "line": {
             "colorbar": {
              "outlinewidth": 0,
              "ticks": ""
             }
            },
            "type": "parcoords"
           }
          ],
          "pie": [
           {
            "automargin": true,
            "type": "pie"
           }
          ],
          "scatter": [
           {
            "fillpattern": {
             "fillmode": "overlay",
             "size": 10,
             "solidity": 0.2
            },
            "type": "scatter"
           }
          ],
          "scatter3d": [
           {
            "line": {
             "colorbar": {
              "outlinewidth": 0,
              "ticks": ""
             }
            },
            "marker": {
             "colorbar": {
              "outlinewidth": 0,
              "ticks": ""
             }
            },
            "type": "scatter3d"
           }
          ],
          "scattercarpet": [
           {
            "marker": {
             "colorbar": {
              "outlinewidth": 0,
              "ticks": ""
             }
            },
            "type": "scattercarpet"
           }
          ],
          "scattergeo": [
           {
            "marker": {
             "colorbar": {
              "outlinewidth": 0,
              "ticks": ""
             }
            },
            "type": "scattergeo"
           }
          ],
          "scattergl": [
           {
            "marker": {
             "colorbar": {
              "outlinewidth": 0,
              "ticks": ""
             }
            },
            "type": "scattergl"
           }
          ],
          "scattermap": [
           {
            "marker": {
             "colorbar": {
              "outlinewidth": 0,
              "ticks": ""
             }
            },
            "type": "scattermap"
           }
          ],
          "scattermapbox": [
           {
            "marker": {
             "colorbar": {
              "outlinewidth": 0,
              "ticks": ""
             }
            },
            "type": "scattermapbox"
           }
          ],
          "scatterpolar": [
           {
            "marker": {
             "colorbar": {
              "outlinewidth": 0,
              "ticks": ""
             }
            },
            "type": "scatterpolar"
           }
          ],
          "scatterpolargl": [
           {
            "marker": {
             "colorbar": {
              "outlinewidth": 0,
              "ticks": ""
             }
            },
            "type": "scatterpolargl"
           }
          ],
          "scatterternary": [
           {
            "marker": {
             "colorbar": {
              "outlinewidth": 0,
              "ticks": ""
             }
            },
            "type": "scatterternary"
           }
          ],
          "surface": [
           {
            "colorbar": {
             "outlinewidth": 0,
             "ticks": ""
            },
            "colorscale": [
             [
              0,
              "#0d0887"
             ],
             [
              0.1111111111111111,
              "#46039f"
             ],
             [
              0.2222222222222222,
              "#7201a8"
             ],
             [
              0.3333333333333333,
              "#9c179e"
             ],
             [
              0.4444444444444444,
              "#bd3786"
             ],
             [
              0.5555555555555556,
              "#d8576b"
             ],
             [
              0.6666666666666666,
              "#ed7953"
             ],
             [
              0.7777777777777778,
              "#fb9f3a"
             ],
             [
              0.8888888888888888,
              "#fdca26"
             ],
             [
              1,
              "#f0f921"
             ]
            ],
            "type": "surface"
           }
          ],
          "table": [
           {
            "cells": {
             "fill": {
              "color": "#EBF0F8"
             },
             "line": {
              "color": "white"
             }
            },
            "header": {
             "fill": {
              "color": "#C8D4E3"
             },
             "line": {
              "color": "white"
             }
            },
            "type": "table"
           }
          ]
         },
         "layout": {
          "annotationdefaults": {
           "arrowcolor": "#2a3f5f",
           "arrowhead": 0,
           "arrowwidth": 1
          },
          "autotypenumbers": "strict",
          "coloraxis": {
           "colorbar": {
            "outlinewidth": 0,
            "ticks": ""
           }
          },
          "colorscale": {
           "diverging": [
            [
             0,
             "#8e0152"
            ],
            [
             0.1,
             "#c51b7d"
            ],
            [
             0.2,
             "#de77ae"
            ],
            [
             0.3,
             "#f1b6da"
            ],
            [
             0.4,
             "#fde0ef"
            ],
            [
             0.5,
             "#f7f7f7"
            ],
            [
             0.6,
             "#e6f5d0"
            ],
            [
             0.7,
             "#b8e186"
            ],
            [
             0.8,
             "#7fbc41"
            ],
            [
             0.9,
             "#4d9221"
            ],
            [
             1,
             "#276419"
            ]
           ],
           "sequential": [
            [
             0,
             "#0d0887"
            ],
            [
             0.1111111111111111,
             "#46039f"
            ],
            [
             0.2222222222222222,
             "#7201a8"
            ],
            [
             0.3333333333333333,
             "#9c179e"
            ],
            [
             0.4444444444444444,
             "#bd3786"
            ],
            [
             0.5555555555555556,
             "#d8576b"
            ],
            [
             0.6666666666666666,
             "#ed7953"
            ],
            [
             0.7777777777777778,
             "#fb9f3a"
            ],
            [
             0.8888888888888888,
             "#fdca26"
            ],
            [
             1,
             "#f0f921"
            ]
           ],
           "sequentialminus": [
            [
             0,
             "#0d0887"
            ],
            [
             0.1111111111111111,
             "#46039f"
            ],
            [
             0.2222222222222222,
             "#7201a8"
            ],
            [
             0.3333333333333333,
             "#9c179e"
            ],
            [
             0.4444444444444444,
             "#bd3786"
            ],
            [
             0.5555555555555556,
             "#d8576b"
            ],
            [
             0.6666666666666666,
             "#ed7953"
            ],
            [
             0.7777777777777778,
             "#fb9f3a"
            ],
            [
             0.8888888888888888,
             "#fdca26"
            ],
            [
             1,
             "#f0f921"
            ]
           ]
          },
          "colorway": [
           "#636efa",
           "#EF553B",
           "#00cc96",
           "#ab63fa",
           "#FFA15A",
           "#19d3f3",
           "#FF6692",
           "#B6E880",
           "#FF97FF",
           "#FECB52"
          ],
          "font": {
           "color": "#2a3f5f"
          },
          "geo": {
           "bgcolor": "white",
           "lakecolor": "white",
           "landcolor": "#E5ECF6",
           "showlakes": true,
           "showland": true,
           "subunitcolor": "white"
          },
          "hoverlabel": {
           "align": "left"
          },
          "hovermode": "closest",
          "mapbox": {
           "style": "light"
          },
          "paper_bgcolor": "white",
          "plot_bgcolor": "#E5ECF6",
          "polar": {
           "angularaxis": {
            "gridcolor": "white",
            "linecolor": "white",
            "ticks": ""
           },
           "bgcolor": "#E5ECF6",
           "radialaxis": {
            "gridcolor": "white",
            "linecolor": "white",
            "ticks": ""
           }
          },
          "scene": {
           "xaxis": {
            "backgroundcolor": "#E5ECF6",
            "gridcolor": "white",
            "gridwidth": 2,
            "linecolor": "white",
            "showbackground": true,
            "ticks": "",
            "zerolinecolor": "white"
           },
           "yaxis": {
            "backgroundcolor": "#E5ECF6",
            "gridcolor": "white",
            "gridwidth": 2,
            "linecolor": "white",
            "showbackground": true,
            "ticks": "",
            "zerolinecolor": "white"
           },
           "zaxis": {
            "backgroundcolor": "#E5ECF6",
            "gridcolor": "white",
            "gridwidth": 2,
            "linecolor": "white",
            "showbackground": true,
            "ticks": "",
            "zerolinecolor": "white"
           }
          },
          "shapedefaults": {
           "line": {
            "color": "#2a3f5f"
           }
          },
          "ternary": {
           "aaxis": {
            "gridcolor": "white",
            "linecolor": "white",
            "ticks": ""
           },
           "baxis": {
            "gridcolor": "white",
            "linecolor": "white",
            "ticks": ""
           },
           "bgcolor": "#E5ECF6",
           "caxis": {
            "gridcolor": "white",
            "linecolor": "white",
            "ticks": ""
           }
          },
          "title": {
           "x": 0.05
          },
          "xaxis": {
           "automargin": true,
           "gridcolor": "white",
           "linecolor": "white",
           "ticks": "",
           "title": {
            "standoff": 15
           },
           "zerolinecolor": "white",
           "zerolinewidth": 2
          },
          "yaxis": {
           "automargin": true,
           "gridcolor": "white",
           "linecolor": "white",
           "ticks": "",
           "title": {
            "standoff": 15
           },
           "zerolinecolor": "white",
           "zerolinewidth": 2
          }
         }
        },
        "title": {
         "text": "Significant digits probability"
        },
        "xaxis": {
         "anchor": "y",
         "domain": [
          0,
          1
         ],
         "title": {
          "text": "k"
         }
        },
        "yaxis": {
         "anchor": "x",
         "domain": [
          0,
          1
         ],
         "title": {
          "text": "Probability"
         }
        }
       }
      }
     },
     "metadata": {},
     "output_type": "display_data"
    }
   ],
   "source": [
    "import plotly.express as px\n",
    "px.scatter(\n",
    "    x=k_trace, \n",
    "    y=proba_trace, \n",
    "    title=\"Significant digits probability\"\n",
    ").update_xaxes(title=\"k\").update_yaxes(title=\"Probability\").show()"
   ]
  },
  {
   "cell_type": "markdown",
   "id": "6cb35773",
   "metadata": {},
   "source": [
    "### Contributing"
   ]
  },
  {
   "cell_type": "code",
   "execution_count": 6,
   "id": "875a3cee",
   "metadata": {},
   "outputs": [
    {
     "name": "stdout",
     "output_type": "stream",
     "text": [
      "nsample:  10000\n",
      "contributing: [14 13]\n"
     ]
    }
   ],
   "source": [
    "\n",
    "z, e = _compute_z(\n",
    "    array, reference, error, axis=axis\n",
    ")\n",
    "sample_shape = tuple(dim for i, dim in enumerate(z.shape) if i != axis)\n",
    "max_bits = _get_significant_size(z, dtype=dtype)\n",
    "contributing = np.full(shape=sample_shape, fill_value=1)\n",
    "mask = np.full_like(contributing, True, dtype=bool)    \n",
    "z = np.abs(z)\n",
    "k_trace = []\n",
    "k_trace_1 = []\n",
    "proba_trace = []\n",
    "proba_trace_1 = []\n",
    "nsample = z.shape[axis]\n",
    "print(\"nsample: \", nsample)\n",
    "for k in range(1, max_bits + 1):\n",
    "    # scale = ldexp(x,n) = x * 2^n\n",
    "    # floor(scale) & 1 : returns 1 if scale is odd\n",
    "    # taking the max to check if at least one result is odd\n",
    "    # Get the negation to have success as boolean\n",
    "    kth = k - (e - 1.0)\n",
    "    #\n",
    "    k_trace.append(kth[0])\n",
    "    k_trace_1.append(kth[1])\n",
    "    #\n",
    "    kth_bit_z = np.floor(z * 2 ** kth).astype(np.int64)    \n",
    "    successes = np.sum(kth_bit_z, axis=axis) == 0\n",
    "    #\n",
    "    proba = (nsample - np.sum(np.mod(kth_bit_z, 2), axis=axis)) / nsample\n",
    "    proba_trace.append(proba[0])\n",
    "    proba_trace_1.append(proba[1])\n",
    "    #\n",
    "    mask = np.logical_and(mask, successes)\n",
    "    _fill_where(contributing, kth, mask)\n",
    "\n",
    "print(\"contributing:\", contributing)"
   ]
  },
  {
   "cell_type": "code",
   "execution_count": 7,
   "id": "5e8208b8",
   "metadata": {},
   "outputs": [
    {
     "data": {
      "application/vnd.plotly.v1+json": {
       "config": {
        "plotlyServerURL": "https://plot.ly"
       },
       "data": [
        {
         "hovertemplate": "x=%{x}<br>y=%{y}<extra></extra>",
         "legendgroup": "",
         "marker": {
          "color": "#636efa",
          "symbol": "circle"
         },
         "mode": "markers",
         "name": "",
         "orientation": "v",
         "showlegend": false,
         "type": "scatter",
         "x": {
          "bdata": "AAAAAAAAAAAAAAAAAADwPwAAAAAAAABAAAAAAAAACEAAAAAAAAAQQAAAAAAAABRAAAAAAAAAGEAAAAAAAAAcQAAAAAAAACBAAAAAAAAAIkAAAAAAAAAkQAAAAAAAACZAAAAAAAAAKEAAAAAAAAAqQAAAAAAAACxAAAAAAAAALkAAAAAAAAAwQAAAAAAAADFAAAAAAAAAMkAAAAAAAAAzQAAAAAAAADRAAAAAAAAANUAAAAAAAAA2QAAAAAAAADdAAAAAAAAAOEAAAAAAAAA5QAAAAAAAADpAAAAAAAAAO0AAAAAAAAA8QAAAAAAAAD1AAAAAAAAAPkAAAAAAAAA/QAAAAAAAAEBAAAAAAACAQEAAAAAAAABBQAAAAAAAgEFAAAAAAAAAQkAAAAAAAIBCQAAAAAAAAENAAAAAAACAQ0AAAAAAAABEQAAAAAAAgERAAAAAAAAARUAAAAAAAIBFQAAAAAAAAEZAAAAAAACARkAAAAAAAABHQAAAAAAAgEdAAAAAAAAASEAAAAAAAIBIQAAAAAAAAElAAAAAAACASUA=",
          "dtype": "f8"
         },
         "xaxis": "x",
         "y": {
          "bdata": "AAAAAAAA8D8AAAAAAADwPwAAAAAAAPA/AAAAAAAA8D8AAAAAAADwPwAAAAAAAPA/AAAAAAAA8D8AAAAAAADwPwAAAAAAAPA/AAAAAAAA8D8AAAAAAADwPwAAAAAAAPA/AAAAAAAA8D8AAAAAAADwPwAAAAAAAPA/ArwFEhQ/7D9os+pztRXlPxZqTfOOU+I/1CtlGeJY4T9XW7G/7J7gP4EmwoanV+A/zH9Iv30d4D9DHOviNhrgP2fV52or9t8/klz+Q/rt3z/ecYqO5PLfP2x4eqUsQ+A/uECC4seY3z/67evAOSPgP/kx5q4l5N8/Qs9m1edq3z8/NV66SQzgP1TjpZvEIOA/001iEFg54D9DHOviNhrgPyuHFtnO998/p3nHKTqS3z8AAAAAAADgP+hqK/aX3d8/t9EA3gIJ4D/xY8xdS8jfP5Jc/kP67d8/nRGlvcEX4D9n1edqK/bfPxdIUPwYc98/pgpGJXUC4D+dgCbChqffP2x4eqUsQ+A/PnlYqDXN3z/ecYqO5PLfP9QrZRniWN8/rkfhehSu3z8=",
          "dtype": "f8"
         },
         "yaxis": "y"
        }
       ],
       "layout": {
        "legend": {
         "tracegroupgap": 0
        },
        "shapes": [
         {
          "line": {
           "color": "darkred",
           "dash": "dash"
          },
          "opacity": 0.65,
          "type": "line",
          "x0": 0.02,
          "x1": 1,
          "xref": "x domain",
          "y0": 0.5,
          "y1": 0.5,
          "yref": "y"
         }
        ],
        "template": {
         "data": {
          "bar": [
           {
            "error_x": {
             "color": "#2a3f5f"
            },
            "error_y": {
             "color": "#2a3f5f"
            },
            "marker": {
             "line": {
              "color": "#E5ECF6",
              "width": 0.5
             },
             "pattern": {
              "fillmode": "overlay",
              "size": 10,
              "solidity": 0.2
             }
            },
            "type": "bar"
           }
          ],
          "barpolar": [
           {
            "marker": {
             "line": {
              "color": "#E5ECF6",
              "width": 0.5
             },
             "pattern": {
              "fillmode": "overlay",
              "size": 10,
              "solidity": 0.2
             }
            },
            "type": "barpolar"
           }
          ],
          "carpet": [
           {
            "aaxis": {
             "endlinecolor": "#2a3f5f",
             "gridcolor": "white",
             "linecolor": "white",
             "minorgridcolor": "white",
             "startlinecolor": "#2a3f5f"
            },
            "baxis": {
             "endlinecolor": "#2a3f5f",
             "gridcolor": "white",
             "linecolor": "white",
             "minorgridcolor": "white",
             "startlinecolor": "#2a3f5f"
            },
            "type": "carpet"
           }
          ],
          "choropleth": [
           {
            "colorbar": {
             "outlinewidth": 0,
             "ticks": ""
            },
            "type": "choropleth"
           }
          ],
          "contour": [
           {
            "colorbar": {
             "outlinewidth": 0,
             "ticks": ""
            },
            "colorscale": [
             [
              0,
              "#0d0887"
             ],
             [
              0.1111111111111111,
              "#46039f"
             ],
             [
              0.2222222222222222,
              "#7201a8"
             ],
             [
              0.3333333333333333,
              "#9c179e"
             ],
             [
              0.4444444444444444,
              "#bd3786"
             ],
             [
              0.5555555555555556,
              "#d8576b"
             ],
             [
              0.6666666666666666,
              "#ed7953"
             ],
             [
              0.7777777777777778,
              "#fb9f3a"
             ],
             [
              0.8888888888888888,
              "#fdca26"
             ],
             [
              1,
              "#f0f921"
             ]
            ],
            "type": "contour"
           }
          ],
          "contourcarpet": [
           {
            "colorbar": {
             "outlinewidth": 0,
             "ticks": ""
            },
            "type": "contourcarpet"
           }
          ],
          "heatmap": [
           {
            "colorbar": {
             "outlinewidth": 0,
             "ticks": ""
            },
            "colorscale": [
             [
              0,
              "#0d0887"
             ],
             [
              0.1111111111111111,
              "#46039f"
             ],
             [
              0.2222222222222222,
              "#7201a8"
             ],
             [
              0.3333333333333333,
              "#9c179e"
             ],
             [
              0.4444444444444444,
              "#bd3786"
             ],
             [
              0.5555555555555556,
              "#d8576b"
             ],
             [
              0.6666666666666666,
              "#ed7953"
             ],
             [
              0.7777777777777778,
              "#fb9f3a"
             ],
             [
              0.8888888888888888,
              "#fdca26"
             ],
             [
              1,
              "#f0f921"
             ]
            ],
            "type": "heatmap"
           }
          ],
          "histogram": [
           {
            "marker": {
             "pattern": {
              "fillmode": "overlay",
              "size": 10,
              "solidity": 0.2
             }
            },
            "type": "histogram"
           }
          ],
          "histogram2d": [
           {
            "colorbar": {
             "outlinewidth": 0,
             "ticks": ""
            },
            "colorscale": [
             [
              0,
              "#0d0887"
             ],
             [
              0.1111111111111111,
              "#46039f"
             ],
             [
              0.2222222222222222,
              "#7201a8"
             ],
             [
              0.3333333333333333,
              "#9c179e"
             ],
             [
              0.4444444444444444,
              "#bd3786"
             ],
             [
              0.5555555555555556,
              "#d8576b"
             ],
             [
              0.6666666666666666,
              "#ed7953"
             ],
             [
              0.7777777777777778,
              "#fb9f3a"
             ],
             [
              0.8888888888888888,
              "#fdca26"
             ],
             [
              1,
              "#f0f921"
             ]
            ],
            "type": "histogram2d"
           }
          ],
          "histogram2dcontour": [
           {
            "colorbar": {
             "outlinewidth": 0,
             "ticks": ""
            },
            "colorscale": [
             [
              0,
              "#0d0887"
             ],
             [
              0.1111111111111111,
              "#46039f"
             ],
             [
              0.2222222222222222,
              "#7201a8"
             ],
             [
              0.3333333333333333,
              "#9c179e"
             ],
             [
              0.4444444444444444,
              "#bd3786"
             ],
             [
              0.5555555555555556,
              "#d8576b"
             ],
             [
              0.6666666666666666,
              "#ed7953"
             ],
             [
              0.7777777777777778,
              "#fb9f3a"
             ],
             [
              0.8888888888888888,
              "#fdca26"
             ],
             [
              1,
              "#f0f921"
             ]
            ],
            "type": "histogram2dcontour"
           }
          ],
          "mesh3d": [
           {
            "colorbar": {
             "outlinewidth": 0,
             "ticks": ""
            },
            "type": "mesh3d"
           }
          ],
          "parcoords": [
           {
            "line": {
             "colorbar": {
              "outlinewidth": 0,
              "ticks": ""
             }
            },
            "type": "parcoords"
           }
          ],
          "pie": [
           {
            "automargin": true,
            "type": "pie"
           }
          ],
          "scatter": [
           {
            "fillpattern": {
             "fillmode": "overlay",
             "size": 10,
             "solidity": 0.2
            },
            "type": "scatter"
           }
          ],
          "scatter3d": [
           {
            "line": {
             "colorbar": {
              "outlinewidth": 0,
              "ticks": ""
             }
            },
            "marker": {
             "colorbar": {
              "outlinewidth": 0,
              "ticks": ""
             }
            },
            "type": "scatter3d"
           }
          ],
          "scattercarpet": [
           {
            "marker": {
             "colorbar": {
              "outlinewidth": 0,
              "ticks": ""
             }
            },
            "type": "scattercarpet"
           }
          ],
          "scattergeo": [
           {
            "marker": {
             "colorbar": {
              "outlinewidth": 0,
              "ticks": ""
             }
            },
            "type": "scattergeo"
           }
          ],
          "scattergl": [
           {
            "marker": {
             "colorbar": {
              "outlinewidth": 0,
              "ticks": ""
             }
            },
            "type": "scattergl"
           }
          ],
          "scattermap": [
           {
            "marker": {
             "colorbar": {
              "outlinewidth": 0,
              "ticks": ""
             }
            },
            "type": "scattermap"
           }
          ],
          "scattermapbox": [
           {
            "marker": {
             "colorbar": {
              "outlinewidth": 0,
              "ticks": ""
             }
            },
            "type": "scattermapbox"
           }
          ],
          "scatterpolar": [
           {
            "marker": {
             "colorbar": {
              "outlinewidth": 0,
              "ticks": ""
             }
            },
            "type": "scatterpolar"
           }
          ],
          "scatterpolargl": [
           {
            "marker": {
             "colorbar": {
              "outlinewidth": 0,
              "ticks": ""
             }
            },
            "type": "scatterpolargl"
           }
          ],
          "scatterternary": [
           {
            "marker": {
             "colorbar": {
              "outlinewidth": 0,
              "ticks": ""
             }
            },
            "type": "scatterternary"
           }
          ],
          "surface": [
           {
            "colorbar": {
             "outlinewidth": 0,
             "ticks": ""
            },
            "colorscale": [
             [
              0,
              "#0d0887"
             ],
             [
              0.1111111111111111,
              "#46039f"
             ],
             [
              0.2222222222222222,
              "#7201a8"
             ],
             [
              0.3333333333333333,
              "#9c179e"
             ],
             [
              0.4444444444444444,
              "#bd3786"
             ],
             [
              0.5555555555555556,
              "#d8576b"
             ],
             [
              0.6666666666666666,
              "#ed7953"
             ],
             [
              0.7777777777777778,
              "#fb9f3a"
             ],
             [
              0.8888888888888888,
              "#fdca26"
             ],
             [
              1,
              "#f0f921"
             ]
            ],
            "type": "surface"
           }
          ],
          "table": [
           {
            "cells": {
             "fill": {
              "color": "#EBF0F8"
             },
             "line": {
              "color": "white"
             }
            },
            "header": {
             "fill": {
              "color": "#C8D4E3"
             },
             "line": {
              "color": "white"
             }
            },
            "type": "table"
           }
          ]
         },
         "layout": {
          "annotationdefaults": {
           "arrowcolor": "#2a3f5f",
           "arrowhead": 0,
           "arrowwidth": 1
          },
          "autotypenumbers": "strict",
          "coloraxis": {
           "colorbar": {
            "outlinewidth": 0,
            "ticks": ""
           }
          },
          "colorscale": {
           "diverging": [
            [
             0,
             "#8e0152"
            ],
            [
             0.1,
             "#c51b7d"
            ],
            [
             0.2,
             "#de77ae"
            ],
            [
             0.3,
             "#f1b6da"
            ],
            [
             0.4,
             "#fde0ef"
            ],
            [
             0.5,
             "#f7f7f7"
            ],
            [
             0.6,
             "#e6f5d0"
            ],
            [
             0.7,
             "#b8e186"
            ],
            [
             0.8,
             "#7fbc41"
            ],
            [
             0.9,
             "#4d9221"
            ],
            [
             1,
             "#276419"
            ]
           ],
           "sequential": [
            [
             0,
             "#0d0887"
            ],
            [
             0.1111111111111111,
             "#46039f"
            ],
            [
             0.2222222222222222,
             "#7201a8"
            ],
            [
             0.3333333333333333,
             "#9c179e"
            ],
            [
             0.4444444444444444,
             "#bd3786"
            ],
            [
             0.5555555555555556,
             "#d8576b"
            ],
            [
             0.6666666666666666,
             "#ed7953"
            ],
            [
             0.7777777777777778,
             "#fb9f3a"
            ],
            [
             0.8888888888888888,
             "#fdca26"
            ],
            [
             1,
             "#f0f921"
            ]
           ],
           "sequentialminus": [
            [
             0,
             "#0d0887"
            ],
            [
             0.1111111111111111,
             "#46039f"
            ],
            [
             0.2222222222222222,
             "#7201a8"
            ],
            [
             0.3333333333333333,
             "#9c179e"
            ],
            [
             0.4444444444444444,
             "#bd3786"
            ],
            [
             0.5555555555555556,
             "#d8576b"
            ],
            [
             0.6666666666666666,
             "#ed7953"
            ],
            [
             0.7777777777777778,
             "#fb9f3a"
            ],
            [
             0.8888888888888888,
             "#fdca26"
            ],
            [
             1,
             "#f0f921"
            ]
           ]
          },
          "colorway": [
           "#636efa",
           "#EF553B",
           "#00cc96",
           "#ab63fa",
           "#FFA15A",
           "#19d3f3",
           "#FF6692",
           "#B6E880",
           "#FF97FF",
           "#FECB52"
          ],
          "font": {
           "color": "#2a3f5f"
          },
          "geo": {
           "bgcolor": "white",
           "lakecolor": "white",
           "landcolor": "#E5ECF6",
           "showlakes": true,
           "showland": true,
           "subunitcolor": "white"
          },
          "hoverlabel": {
           "align": "left"
          },
          "hovermode": "closest",
          "mapbox": {
           "style": "light"
          },
          "paper_bgcolor": "white",
          "plot_bgcolor": "#E5ECF6",
          "polar": {
           "angularaxis": {
            "gridcolor": "white",
            "linecolor": "white",
            "ticks": ""
           },
           "bgcolor": "#E5ECF6",
           "radialaxis": {
            "gridcolor": "white",
            "linecolor": "white",
            "ticks": ""
           }
          },
          "scene": {
           "xaxis": {
            "backgroundcolor": "#E5ECF6",
            "gridcolor": "white",
            "gridwidth": 2,
            "linecolor": "white",
            "showbackground": true,
            "ticks": "",
            "zerolinecolor": "white"
           },
           "yaxis": {
            "backgroundcolor": "#E5ECF6",
            "gridcolor": "white",
            "gridwidth": 2,
            "linecolor": "white",
            "showbackground": true,
            "ticks": "",
            "zerolinecolor": "white"
           },
           "zaxis": {
            "backgroundcolor": "#E5ECF6",
            "gridcolor": "white",
            "gridwidth": 2,
            "linecolor": "white",
            "showbackground": true,
            "ticks": "",
            "zerolinecolor": "white"
           }
          },
          "shapedefaults": {
           "line": {
            "color": "#2a3f5f"
           }
          },
          "ternary": {
           "aaxis": {
            "gridcolor": "white",
            "linecolor": "white",
            "ticks": ""
           },
           "baxis": {
            "gridcolor": "white",
            "linecolor": "white",
            "ticks": ""
           },
           "bgcolor": "#E5ECF6",
           "caxis": {
            "gridcolor": "white",
            "linecolor": "white",
            "ticks": ""
           }
          },
          "title": {
           "x": 0.05
          },
          "xaxis": {
           "automargin": true,
           "gridcolor": "white",
           "linecolor": "white",
           "ticks": "",
           "title": {
            "standoff": 15
           },
           "zerolinecolor": "white",
           "zerolinewidth": 2
          },
          "yaxis": {
           "automargin": true,
           "gridcolor": "white",
           "linecolor": "white",
           "ticks": "",
           "title": {
            "standoff": 15
           },
           "zerolinecolor": "white",
           "zerolinewidth": 2
          }
         }
        },
        "title": {
         "text": "Contributing significant digits probability"
        },
        "xaxis": {
         "anchor": "y",
         "domain": [
          0,
          1
         ],
         "range": [
          -1,
          54
         ],
         "title": {
          "text": "k"
         }
        },
        "yaxis": {
         "anchor": "x",
         "domain": [
          0,
          1
         ],
         "range": [
          0,
          1.1
         ],
         "title": {
          "text": "proba"
         }
        }
       }
      }
     },
     "metadata": {},
     "output_type": "display_data"
    }
   ],
   "source": [
    "px.scatter(\n",
    "    x=k_trace, \n",
    "    y=proba_trace, \n",
    "    title=\"Contributing significant digits probability\"\n",
    ").update_xaxes(title=\"k\", range=(-1,54)).update_yaxes(\n",
    "    title=\"proba\", range=(0,1.1)).add_hline(\n",
    "        0.5, x0=0.02, x1=1, line=dict(color=\"darkred\", dash=\"dash\"), opacity=.65).show()"
   ]
  },
  {
   "cell_type": "markdown",
   "id": "34ce4aee",
   "metadata": {},
   "source": [
    "## Test Absolute/Relative on simple example"
   ]
  },
  {
   "cell_type": "code",
   "execution_count": 11,
   "id": "960d7124",
   "metadata": {},
   "outputs": [],
   "source": [
    "import plotly.graph_objects as go\n",
    "import significantdigits as sd\n",
    "\n",
    "confidence = 0.95\n",
    "probability = 0.95\n",
    "basis = 10\n",
    "axis = 0\n",
    "dtype = np.float64\n",
    "\n",
    "# Define colors for CNH and General\n",
    "cnh_color = \"blue\"\n",
    "gen_color = \"red\"\n",
    "color = {\"CNH\": cnh_color, \"General\": gen_color}\n",
    "\n",
    "# Define marker symbols for Absolute and Relative\n",
    "absolute_marker = \"circle\"\n",
    "relative_marker = \"square\"\n",
    "marker = {\"Absolute\": absolute_marker, \"Relative\": relative_marker}\n",
    "\n",
    "\n",
    "def get_sd_cnh_abs(\n",
    "    array,\n",
    "    mean,\n",
    "    axis=axis,\n",
    "    confidence=confidence,\n",
    "    probability=probability,\n",
    "    dtype=dtype,\n",
    "    basis=basis,\n",
    "):\n",
    "    \"\"\"Compute the significant digits using the CNH method for absolute error.\"\"\"\n",
    "    return sd.significant_digits(\n",
    "        array,\n",
    "        reference=mean,\n",
    "        error=sd.Error.Absolute,\n",
    "        method=sd.Method.CNH,\n",
    "        axis=axis,\n",
    "        confidence=confidence,\n",
    "        probability=probability,\n",
    "        dtype=dtype,\n",
    "        basis=basis,\n",
    "    )\n",
    "\n",
    "\n",
    "def get_sd_gen_abs(\n",
    "    array,\n",
    "    mean,\n",
    "    axis=axis,\n",
    "    confidence=confidence,\n",
    "    probability=probability,\n",
    "    dtype=dtype,\n",
    "    basis=basis,\n",
    "):\n",
    "    \"\"\"Compute the significant digits using the General method for absolute error.\"\"\"\n",
    "    return sd.significant_digits(\n",
    "        array,\n",
    "        reference=mean,\n",
    "        error=sd.Error.Absolute,\n",
    "        method=sd.Method.General,\n",
    "        axis=axis,\n",
    "        confidence=confidence,\n",
    "        probability=probability,\n",
    "        dtype=dtype,\n",
    "        basis=basis,\n",
    "    )\n",
    "\n",
    "\n",
    "def get_sd_cnh_rel(\n",
    "    array,\n",
    "    mean,\n",
    "    axis=axis,\n",
    "    confidence=confidence,\n",
    "    probability=probability,\n",
    "    dtype=dtype,\n",
    "    basis=basis,\n",
    "):\n",
    "    \"\"\"Compute the significant digits using the CNH method for relative error.\"\"\"\n",
    "    return sd.significant_digits(\n",
    "        array,\n",
    "        reference=mean,\n",
    "        error=sd.Error.Relative,\n",
    "        method=sd.Method.CNH,\n",
    "        axis=axis,\n",
    "        confidence=confidence,\n",
    "        probability=probability,\n",
    "        dtype=dtype,\n",
    "        basis=basis,\n",
    "    )\n",
    "\n",
    "probability = 0.51\n",
    "def get_sd_gen_rel(\n",
    "    array,\n",
    "    mean,\n",
    "    axis=axis,\n",
    "    confidence=confidence,\n",
    "    probability=probability,\n",
    "    dtype=dtype,\n",
    "    basis=basis,\n",
    "):\n",
    "    \"\"\"Compute the significant digits using the General method for relative error.\"\"\"\n",
    "    return sd.significant_digits(\n",
    "        array,\n",
    "        reference=mean,\n",
    "        error=sd.Error.Relative,\n",
    "        method=sd.Method.General,\n",
    "        axis=axis,\n",
    "        confidence=confidence,\n",
    "        probability=probability,\n",
    "        dtype=dtype,\n",
    "        basis=basis,\n",
    "    )\n",
    "\n",
    "def get_cd_cnh_abs(\n",
    "    array,\n",
    "    mean,\n",
    "    axis=axis,\n",
    "    confidence=confidence,\n",
    "    probability=probability,\n",
    "    dtype=dtype,\n",
    "    basis=basis,\n",
    "):\n",
    "    \"\"\"Compute the confidence digits using the CNH method for absolute error.\"\"\"\n",
    "    return sd.contributing_digits(\n",
    "        array,\n",
    "        reference=mean,\n",
    "        error=sd.Error.Absolute,\n",
    "        method=sd.Method.CNH,\n",
    "        axis=axis,\n",
    "        confidence=confidence,\n",
    "        probability=probability,\n",
    "        dtype=dtype,\n",
    "        basis=basis,\n",
    "    )\n",
    "\n",
    "def get_cd_gen_abs(\n",
    "    array,\n",
    "    mean,\n",
    "    axis=axis,\n",
    "    confidence=confidence,\n",
    "    probability=probability,\n",
    "    dtype=dtype,\n",
    "    basis=basis,\n",
    "):\n",
    "    \"\"\"Compute the confidence digits using the General method for absolute error.\"\"\"\n",
    "    return sd.contributing_digits(\n",
    "        array,\n",
    "        reference=mean,\n",
    "        error=sd.Error.Absolute,\n",
    "        method=sd.Method.General,\n",
    "        axis=axis,\n",
    "        confidence=confidence,\n",
    "        probability=probability,\n",
    "        dtype=dtype,\n",
    "        basis=basis,\n",
    "    )\n",
    "\n",
    "def get_cd_cnh_rel(\n",
    "    array,\n",
    "    mean,\n",
    "    axis=axis,\n",
    "    confidence=confidence,\n",
    "    probability=probability,\n",
    "    dtype=dtype,\n",
    "    basis=basis,\n",
    "):\n",
    "    \"\"\"Compute the confidence digits using the CNH method for relative error.\"\"\"\n",
    "    return sd.contributing_digits(\n",
    "        array,\n",
    "        reference=mean,\n",
    "        error=sd.Error.Relative,\n",
    "        method=sd.Method.CNH,\n",
    "        axis=axis,\n",
    "        confidence=confidence,\n",
    "        probability=probability,\n",
    "        dtype=dtype,\n",
    "        basis=basis,\n",
    "    )\n",
    "\n",
    "def get_cd_gen_rel(\n",
    "    array,\n",
    "    mean,\n",
    "    axis=axis,\n",
    "    confidence=confidence,\n",
    "    probability=probability,\n",
    "    dtype=dtype,\n",
    "    basis=basis,\n",
    "):\n",
    "    \"\"\"Compute the confidence digits using the General method for relative error.\"\"\"\n",
    "    return sd.contributing_digits(\n",
    "        array,\n",
    "        reference=mean,\n",
    "        error=sd.Error.Relative,\n",
    "        method=sd.Method.General,\n",
    "        axis=axis,\n",
    "        confidence=confidence,\n",
    "        probability=probability,\n",
    "        dtype=dtype,\n",
    "        basis=basis,\n",
    "    )\n",
    "\n",
    "\n",
    "def add_sig_scatter(fig, x, y, method, error, dim):\n",
    "    # Determine the row and column based on the name\n",
    "    row = 1 if \"Absolute\" in error else 2\n",
    "    fig.add_trace(\n",
    "        go.Scatter(\n",
    "            x=x,\n",
    "            y=[val[dim - 1] for val in y],\n",
    "            mode=\"lines+markers\",\n",
    "            name=method,\n",
    "            marker=dict(symbol=marker[error], color=color[method]),\n",
    "            legendgroup=f\"{error}_Dim{dim+1}\",\n",
    "            legendgrouptitle=dict(text=f\"{error} x[{dim-1}]\"),\n",
    "        ),\n",
    "        row=row,\n",
    "        col=dim,\n",
    "    )\n",
    "\n",
    "\n",
    "def add_ref_scatter(\n",
    "    fig,\n",
    "    x,\n",
    "    y,\n",
    "    method,\n",
    "    error,\n",
    "    dim,\n",
    "    color=\"black\",\n",
    "):\n",
    "    # Determine the row and column based on the name\n",
    "    row = 1 if \"Absolute\" in error else 2\n",
    "    fig.add_trace(\n",
    "        go.Scatter(\n",
    "            x=x,\n",
    "            y=y[:, dim - 1],\n",
    "            mode=\"lines+markers\",\n",
    "            name=method,\n",
    "            marker=dict(symbol=marker[error], color=color),\n",
    "            legendgroup=f\"{error}_Dim{dim+1}\",\n",
    "            legendgrouptitle=dict(text=f\"{error} x[{dim-1}]\"),\n",
    "        ),\n",
    "        row=row,\n",
    "        col=dim,\n",
    "    )\n",
    "\n",
    "def add_parker_scatter(\n",
    "    fig,\n",
    "    x,\n",
    "    y,\n",
    "    method,\n",
    "    error,\n",
    "    dim,\n",
    "    color=\"green\",\n",
    "    marker=\"diamond\",\n",
    "):\n",
    "    # Determine the row and column based on the name\n",
    "    row = 1 if \"Absolute\" in error else 2    \n",
    "    fig.add_trace(\n",
    "        go.Scatter(\n",
    "            x=x,\n",
    "            y=y[:, dim - 1],\n",
    "            mode=\"lines+markers\",\n",
    "            name=method,\n",
    "            marker=dict(symbol=marker, color=color),\n",
    "            legendgroup=f\"{error}_Dim{dim+1}\",\n",
    "            legendgrouptitle=dict(text=f\"{error} x[{dim-1}]\"),\n",
    "        ),\n",
    "        row=row,\n",
    "        col=dim,\n",
    "    )"
   ]
  },
  {
   "cell_type": "code",
   "execution_count": 12,
   "id": "01fbb612",
   "metadata": {},
   "outputs": [
    {
     "name": "stdout",
     "output_type": "stream",
     "text": [
      "\n",
      "Shift:  -8.0\n",
      "Type float64\n",
      "[[-3.16113101e-02  5.74298284e+04 -4.67382081e+11  1.21924034e+18]\n",
      " [-9.31988463e-02 -1.62844554e+05 -5.73947566e+11  1.25026613e+17]\n",
      " [ 4.86059434e-02  1.22939682e+05  5.81403957e+10 -8.62946831e+16]\n",
      " ...\n",
      " [-1.82401050e-01  1.63217802e+04  2.60592089e+11 -1.21694389e+18]\n",
      " [-8.77657366e-02  2.81853105e+04 -1.50860630e+12  2.38296359e+17]\n",
      " [ 2.15839485e-02 -1.01066148e+05 -4.39694032e+11 -9.06428676e+17]]\n",
      "--------------------\n",
      "Theorical Mean [1.e-09 1.e-03 1.e+04 1.e+10]\n",
      "Empirical mean [ 2.72817073e-04 -3.73336880e+02 -3.63380046e+09  2.57874551e+15]\n",
      "Mean diff      [-2.72816073e-04  3.73337880e+02  3.63381046e+09 -2.57873551e+15]\n",
      "--------------------\n",
      "Theorical Std [1.e-01 1.e+05 1.e+12 1.e+18]\n",
      "Empirical std [9.92687812e-02 1.00121959e+05 9.97392106e+11 9.91419161e+17]\n",
      "Std diff      [ 7.31218843e-04 -1.21959269e+02  2.60789413e+09  8.58083904e+15]\n",
      "--------------------\n",
      "CNH s_abs:  [-8.32602244 -8.30913918 -8.38378586 -8.36057733]\n",
      "CNH s_rel:  [-8.29512257 -8.29883922 -8.29717581 -8.29456719]\n",
      "General s_abs:  [0. 0. 0. 0.]\n",
      "General s_rel:  [0. 0. 0. 0.]\n",
      "\n",
      "Shift:  -7.0\n",
      "Type float64\n",
      "[[ 9.51259296e-03 -5.25550334e+03 -5.49792872e+10 -2.18762404e+16]\n",
      " [-1.48849249e-02  1.08055361e+04  1.41359604e+11 -8.76803408e+16]\n",
      " [ 5.86233571e-03 -1.63793241e+03 -1.16882781e+11  4.21830630e+16]\n",
      " ...\n",
      " [ 4.30855293e-03  3.84698696e+03  1.99486688e+10  3.56310592e+16]\n",
      " [ 2.11257166e-03 -5.44969079e+03 -5.36908511e+10  1.11029253e+17]\n",
      " [-2.48008095e-03  6.79418123e+03  1.46171614e+11 -1.03161175e+17]]\n",
      "--------------------\n",
      "Theorical Mean [1.e-09 1.e-03 1.e+04 1.e+10]\n",
      "Empirical mean [ 8.22385833e-05  2.35023299e+00  1.88167937e+08 -8.66418885e+14]\n",
      "Mean diff      [-8.22375833e-05 -2.34923299e+00 -1.88157937e+08  8.66428885e+14]\n",
      "--------------------\n",
      "Theorical Std [1.e-02 1.e+04 1.e+11 1.e+17]\n",
      "Empirical std [1.00128108e-02 1.00027740e+04 9.89114163e+10 1.00707327e+17]\n",
      "Std diff      [-1.28108147e-05 -2.77404094e+00  1.08858366e+09 -7.07327054e+14]\n",
      "--------------------\n",
      "CNH s_abs:  [-7.32976576 -7.30873029 -7.38016636 -7.36738109]\n",
      "CNH s_rel:  [-7.29886589 -7.29843034 -7.2935563  -7.30137095]\n",
      "General s_abs:  [0. 0. 0. 0.]\n",
      "General s_rel:  [0. 0. 0. 0.]\n",
      "\n",
      "Shift:  -6.0\n",
      "Type float64\n",
      "[[ 8.19788665e-04  1.10259776e+03 -1.82853958e+09  1.23712357e+16]\n",
      " [-1.16050150e-03 -4.10846986e+02  1.57512499e+10 -1.97644734e+16]\n",
      " [ 2.88756141e-03  4.63291014e+02  6.75416302e+09 -9.21035922e+15]\n",
      " ...\n",
      " [ 1.12494965e-03 -3.77685972e+02 -1.78614490e+09 -3.67990863e+15]\n",
      " [-1.09392040e-03 -1.95661205e+02  1.30538162e+10  1.52550291e+15]\n",
      " [-4.52166813e-04  5.62852201e+02  9.59335210e+08 -1.99292667e+16]]\n",
      "--------------------\n",
      "Theorical Mean [1.e-09 1.e-03 1.e+04 1.e+10]\n",
      "Empirical mean [-5.54559487e-06 -1.84420438e+01 -1.74207571e+07 -3.02969618e+13]\n",
      "Mean diff      [5.54659487e-06 1.84430438e+01 1.74307571e+07 3.03069618e+13]\n",
      "--------------------\n",
      "Theorical Std [1.e-03 1.e+03 1.e+10 1.e+16]\n",
      "Empirical std [9.86204220e-04 9.91532161e+02 1.00125999e+10 1.00683501e+16]\n",
      "Std diff      [ 1.37957803e-05  8.46783864e+00 -1.25999322e+07 -6.83501076e+13]\n",
      "--------------------\n",
      "CNH s_abs:  [-6.32317661 -6.30491664 -6.3854668  -6.36727833]\n",
      "CNH s_rel:  [-6.29227674 -6.29461669 -6.29885674 -6.30126819]\n",
      "General s_abs:  [0. 0. 0. 0.]\n",
      "General s_rel:  [0. 0. 0. 0.]\n",
      "\n",
      "Shift:  -5.0\n",
      "Type float64\n",
      "[[ 1.35954519e-05  8.52481376e+01 -5.68382188e+08 -1.59637329e+15]\n",
      " [ 3.52012994e-05  1.08399381e+02 -2.58302117e+08 -2.97542598e+14]\n",
      " [-3.99948583e-05  1.10727990e+01 -1.43904009e+09 -1.70832899e+15]\n",
      " ...\n",
      " [-1.33432879e-04  7.59598200e+01 -1.18195231e+09 -2.49227868e+14]\n",
      " [-4.27316083e-05 -1.11487544e+01  1.30965789e+09 -5.91613832e+14]\n",
      " [ 1.75990177e-04  2.38284825e+02  4.69658091e+08  2.25640416e+14]]\n",
      "--------------------\n",
      "Theorical Mean [1.e-09 1.e-03 1.e+04 1.e+10]\n",
      "Empirical mean [ 1.44581076e-06  2.01285634e+00 -4.49881230e+05 -4.57546767e+12]\n",
      "Mean diff      [-1.44481076e-06 -2.01185634e+00  4.59881230e+05  4.58546767e+12]\n",
      "--------------------\n",
      "Theorical Std [1.e-04 1.e+02 1.e+09 1.e+15]\n",
      "Empirical std [9.90999208e-05 9.98309941e+01 9.98553017e+08 1.00170312e+15]\n",
      "Std diff      [ 9.00079249e-07  1.69005878e-01  1.44698331e+06 -1.70312101e+12]\n",
      "--------------------\n",
      "CNH s_abs:  [-5.32528306 -5.30787523 -5.38429106 -5.36505905]\n",
      "CNH s_rel:  [-5.29438319 -5.29757528 -5.29768101 -5.29904891]\n",
      "General s_abs:  [0. 0. 0. 0.]\n",
      "General s_rel:  [0. 0. 0. 0.]\n",
      "\n",
      "Shift:  -4.0\n",
      "Type float64\n",
      "[[ 8.67793595e-06 -3.73650180e+00 -4.43231723e+07 -6.47993758e+13]\n",
      " [ 1.91989797e-05  2.65335284e+01 -1.83320807e+07 -4.67318397e+13]\n",
      " [-1.08774952e-05  8.62752486e+00 -3.19519553e+07 -1.92596765e+13]\n",
      " ...\n",
      " [-2.89800396e-06 -1.76796766e+01  9.15128707e+07 -4.38796295e+13]\n",
      " [ 5.04667101e-06 -4.40685620e+00 -7.31066721e+07 -5.35467377e+13]\n",
      " [-1.42652510e-05 -3.70962677e+00  2.37231429e+08  7.26526360e+13]]\n",
      "--------------------\n",
      "Theorical Mean [1.e-09 1.e-03 1.e+04 1.e+10]\n",
      "Empirical mean [-9.43033383e-08 -7.79752720e-02 -3.61004904e+05 -3.43195375e+11]\n",
      "Mean diff      [9.53033383e-08 7.89752720e-02 3.71004904e+05 3.53195375e+11]\n",
      "--------------------\n",
      "Theorical Std [1.e-05 1.e+01 1.e+08 1.e+14]\n",
      "Empirical std [9.88486658e-06 9.92481606e+00 9.95579135e+07 1.01257471e+14]\n",
      "Std diff      [ 1.15133416e-07  7.51839369e-02  4.42086519e+05 -1.25747129e+12]\n",
      "--------------------\n",
      "CNH s_abs:  [-4.32418056 -4.3053323  -4.38299572 -4.3697471 ]\n",
      "CNH s_rel:  [-4.29328069 -4.29503235 -4.29638567 -4.30373696]\n",
      "General s_abs:  [0. 0. 0. 0.]\n",
      "General s_rel:  [0. 0. 0. 0.]\n",
      "\n",
      "Shift:  -3.0\n",
      "Type float64\n",
      "[[-7.65215432e-07  3.41444352e-01 -5.23908929e+06  1.85546680e+13]\n",
      " [ 5.16409794e-08 -2.37275287e-01 -2.91111579e+06 -4.91418131e+12]\n",
      " [-8.78317432e-07 -9.90924944e-01 -2.17100841e+07 -1.75782849e+13]\n",
      " ...\n",
      " [-8.79258755e-07 -6.48917082e-01 -1.74539500e+06 -2.34319515e+12]\n",
      " [-7.80178214e-07 -3.75235058e-02 -7.30442979e+06 -2.40032047e+12]\n",
      " [ 4.84892909e-07 -1.56962479e+00  2.57543473e+06 -1.21219857e+11]]\n",
      "--------------------\n",
      "Theorical Mean [1.e-09 1.e-03 1.e+04 1.e+10]\n",
      "Empirical mean [ 1.60413888e-08 -1.24059442e-04 -5.13892819e+04 -1.05711556e+11]\n",
      "Mean diff      [-1.50413888e-08  1.12405944e-03  6.13892819e+04  1.15711556e+11]\n",
      "--------------------\n",
      "Theorical Std [1.e-06 1.e+00 1.e+07 1.e+13]\n",
      "Empirical std [1.01206335e-06 9.97653429e-01 9.92832047e+06 1.00478920e+13]\n",
      "Std diff      [-1.20633526e-08  2.34657114e-03  7.16795293e+04 -4.78919660e+10]\n",
      "--------------------\n",
      "CNH s_abs:  [-3.33441745 -3.30758954 -3.38179572 -3.36639498]\n",
      "CNH s_rel:  [-3.30351758 -3.29728958 -3.29518567 -3.30038484]\n",
      "General s_abs:  [0. 0. 0. 0.]\n",
      "General s_rel:  [0. 0. 0. 0.]\n",
      "\n",
      "Shift:  -2.0\n",
      "Type float64\n",
      "[[ 9.19913380e-09  5.26679627e-02 -1.00919596e+06 -1.63987905e+11]\n",
      " [-3.78411810e-08  1.34451057e-01  1.69533662e+06  1.36372385e+10]\n",
      " [-5.39578269e-09  6.61693702e-02  1.88612112e+06 -5.22044223e+10]\n",
      " ...\n",
      " [-1.67633679e-07 -1.60625557e-01  3.94662959e+05 -7.36556955e+11]\n",
      " [-1.53642385e-08 -1.44342270e-01 -1.67440409e+06  1.06757119e+12]\n",
      " [ 3.55171953e-08  9.34771573e-02  2.89365270e+05 -7.06040025e+11]]\n",
      "--------------------\n",
      "Theorical Mean [1.e-09 1.e-03 1.e+04 1.e+10]\n",
      "Empirical mean [1.43732787e-11 6.48970615e-04 2.64779540e+03 1.55709863e+10]\n",
      "Mean diff      [ 9.85626721e-10  3.51029385e-04  7.35220460e+03 -5.57098630e+09]\n",
      "--------------------\n",
      "Theorical Std [1.e-07 1.e-01 1.e+06 1.e+12]\n",
      "Empirical std [9.84544410e-08 1.01096898e-01 9.99999184e+05 9.86854820e+11]\n",
      "Std diff      [ 1.54555897e-09 -1.09689752e-03  8.16061618e-01  1.31451802e+10]\n",
      "--------------------\n",
      "CNH s_abs:  [-2.32244506 -2.31334766 -2.38491958 -2.35857329]\n",
      "CNH s_rel:  [-2.29154519 -2.30304771 -2.29830953 -2.29256315]\n",
      "General s_abs:  [0. 0. 0. 0.]\n",
      "General s_rel:  [0. 0. 0. 0.]\n",
      "\n",
      "Shift:  -1.0\n",
      "Type float64\n",
      "[[ 6.98671007e-10  4.77105273e-03  1.45211307e+05  2.91932960e+10]\n",
      " [-9.95390482e-09  1.12524954e-02 -1.07880577e+05  5.68843828e+10]\n",
      " [ 3.29744226e-09  9.47674887e-03 -1.84107003e+04  3.22995771e+09]\n",
      " ...\n",
      " [-5.88514151e-10 -1.26252936e-03 -1.22404645e+04  2.56888136e+10]\n",
      " [-2.16356058e-08  1.35407599e-04  1.64899942e+05  3.74069822e+10]\n",
      " [ 2.50386349e-09  5.73960693e-04  3.43847460e+04 -2.21299568e+09]]\n",
      "--------------------\n",
      "Theorical Mean [1.e-09 1.e-03 1.e+04 1.e+10]\n",
      "Empirical mean [1.24804041e-09 1.06829027e-03 1.03092234e+04 1.03291485e+10]\n",
      "Mean diff      [-2.48040411e-10 -6.82902675e-05 -3.09223394e+02 -3.29148529e+08]\n",
      "--------------------\n",
      "Theorical Std [1.e-08 1.e-02 1.e+05 1.e+11]\n",
      "Empirical std [9.84027120e-09 1.00115045e-02 1.00921780e+05 9.97788474e+10]\n",
      "Std diff      [ 1.59728805e-10 -1.15045004e-05 -9.21779942e+02  2.21152618e+08]\n",
      "--------------------\n",
      "CNH s_abs:  [-1.32221682 -1.30910918 -1.38890484 -1.36335851]\n",
      "CNH s_rel:  [-1.29131695 -1.29880923 -1.30229478 -1.29734836]\n",
      "General s_abs:  [0. 0. 0. 0.]\n",
      "General s_rel:  [0. 0. 0. 0.]\n",
      "\n",
      "Shift:  0.0\n",
      "Type float64\n",
      "[[ 2.97793455e-09 -1.18414079e-03  4.28484116e+03 -3.38054566e+08]\n",
      " [ 2.41475234e-09  7.48946336e-04  7.65298251e+03  1.83063480e+09]\n",
      " [ 1.15758234e-09  1.58423551e-03 -9.72794939e+03  2.23650162e+10]\n",
      " ...\n",
      " [ 1.34606927e-09  1.65831630e-03  1.55552689e+04  3.04129651e+09]\n",
      " [ 2.00834610e-09  1.16453714e-03 -1.72804935e+04 -1.10536239e+09]\n",
      " [ 2.78049904e-10  2.49607426e-03  5.83721189e+03  2.28938302e+10]]\n",
      "--------------------\n",
      "Theorical Mean [1.e-09 1.e-03 1.e+04 1.e+10]\n",
      "Empirical mean [9.91932544e-10 1.00119950e-03 9.96090353e+03 1.01048201e+10]\n",
      "Mean diff      [ 8.06745565e-12 -1.19950076e-06  3.90964746e+01 -1.04820142e+08]\n",
      "--------------------\n",
      "Theorical Std [1.e-09 1.e-03 1.e+04 1.e+10]\n",
      "Empirical std [9.93832455e-10 1.01276771e-03 1.00680421e+04 9.99383284e+09]\n",
      "Std diff      [ 6.16754477e-12 -1.27677091e-05 -6.80420944e+01  6.16715832e+06]\n",
      "--------------------\n",
      "CNH s_abs:  [-0.32652292 -0.31411968 -0.38786496 -0.3640521 ]\n",
      "CNH s_rel:  [-0.29562305 -0.30381973 -0.3012549  -0.29804196]\n",
      "General s_abs:  [0. 0. 0. 0.]\n",
      "General s_rel:  [0. 0. 0. 0.]\n",
      "\n",
      "Shift:  1.0\n",
      "Type float64\n",
      "[[8.91164790e-10 8.58795131e-04 1.05804441e+04 1.05897714e+10]\n",
      " [9.45343564e-10 1.01125372e-03 9.87370640e+03 8.62653844e+09]\n",
      " [1.01097838e-09 7.47452236e-04 9.08090928e+03 1.25133368e+10]\n",
      " ...\n",
      " [9.34074643e-10 1.03323812e-03 1.11736252e+04 1.02663016e+10]\n",
      " [1.13962462e-09 8.67763517e-04 1.07644940e+04 1.06071664e+10]\n",
      " [1.07900513e-09 1.08631590e-03 1.16779855e+04 9.84794830e+09]]\n",
      "--------------------\n",
      "Theorical Mean [1.e-09 1.e-03 1.e+04 1.e+10]\n",
      "Empirical mean [9.99658589e-10 1.00136932e-03 1.00117727e+04 9.98509300e+09]\n",
      "Mean diff      [ 3.41410731e-13 -1.36931974e-06 -1.17726879e+01  1.49069960e+07]\n",
      "--------------------\n",
      "Theorical Std [1.e-10 1.e-04 1.e+03 1.e+09]\n",
      "Empirical std [1.00324016e-10 9.87340124e-05 9.92341064e+02 9.99163558e+08]\n",
      "Std diff      [-3.24015629e-13  1.26598764e-06  7.65893556e+00  8.36442179e+05]\n",
      "--------------------\n",
      "CNH s_abs:  [0.66938534 0.69692338 0.6184191  0.63604339]\n",
      "CNH s_rel:  [0.70028521 0.70722333 0.70502916 0.70205353]\n",
      "General s_abs:  [0.30103 0.30103 0.30103 0.30103]\n",
      "General s_rel:  [0.30103 0.30103 0.30103 0.30103]\n",
      "\n",
      "Shift:  2.0\n",
      "Type float64\n",
      "[[9.85970095e-10 9.87563930e-04 1.00137484e+04 1.01161566e+10]\n",
      " [9.96087008e-10 9.90090495e-04 1.01059949e+04 1.00653381e+10]\n",
      " [9.98407655e-10 9.91983154e-04 9.95537844e+03 9.95614061e+09]\n",
      " ...\n",
      " [9.86680871e-10 1.00057485e-03 9.97743529e+03 9.95900426e+09]\n",
      " [1.01771553e-09 9.95534802e-04 1.00505255e+04 1.00539240e+10]\n",
      " [1.00550085e-09 1.00617872e-03 9.95150100e+03 1.01405963e+10]]\n",
      "--------------------\n",
      "Theorical Mean [1.e-09 1.e-03 1.e+04 1.e+10]\n",
      "Empirical mean [9.99934108e-10 9.99963213e-04 1.00000056e+04 1.00005525e+10]\n",
      "Mean diff      [ 6.58923273e-14  3.67870945e-08 -5.64278197e-03 -5.52523689e+05]\n",
      "--------------------\n",
      "Theorical Std [1.e-11 1.e-05 1.e+02 1.e+08]\n",
      "Empirical std [9.96535015e-12 1.01313774e-05 1.00907758e+02 1.00000866e+08]\n",
      "Std diff      [ 3.46498468e-14 -1.31377365e-07 -9.07757996e-01 -8.66231872e+02]\n",
      "--------------------\n",
      "CNH s_abs:  [1.67229769 1.68572167 1.61115551 1.63567622]\n",
      "CNH s_rel:  [1.70319756 1.69602163 1.69776556 1.70168636]\n",
      "General s_abs:  [1.20411998 1.20411998 1.20411998 1.20411998]\n",
      "General s_rel:  [1.20411998 1.20411998 1.20411998 1.20411998]\n",
      "\n",
      "Shift:  3.0\n",
      "Type float64\n",
      "[[9.98741559e-10 9.99632556e-04 1.00094659e+04 1.00004637e+10]\n",
      " [1.00152902e-09 9.99814583e-04 1.00047118e+04 9.98325889e+09]\n",
      " [1.00095409e-09 1.00044231e-03 9.99840977e+03 1.00055677e+10]\n",
      " ...\n",
      " [1.00023864e-09 1.00039149e-03 9.99897813e+03 9.99906146e+09]\n",
      " [9.99292169e-10 9.98997514e-04 9.98331966e+03 1.00023613e+10]\n",
      " [9.98757596e-10 1.00077503e-03 9.99183680e+03 1.00007659e+10]]\n",
      "--------------------\n",
      "Theorical Mean [1.e-09 1.e-03 1.e+04 1.e+10]\n",
      "Empirical mean [1.00001536e-09 9.99998271e-04 1.00001507e+04 1.00000466e+10]\n",
      "Mean diff      [-1.53606045e-14  1.72876689e-09 -1.50651391e-01 -4.66482763e+04]\n",
      "--------------------\n",
      "Theorical Std [1.e-12 1.e-06 1.e+01 1.e+07]\n",
      "Empirical std [9.99890775e-13 1.00658688e-06 9.88711506e+00 9.96409544e+06]\n",
      "Std diff      [ 1.09224885e-16 -6.58687925e-09  1.12884939e-01  3.59045618e+04]\n",
      "--------------------\n",
      "CNH s_abs:  [2.67083769 2.6885389  2.62001048 2.6372421 ]\n",
      "CNH s_rel:  [2.70173756 2.69883886 2.70662053 2.70325224]\n",
      "General s_abs:  [2.10720997 2.40823997 2.10720997 2.10720997]\n",
      "General s_rel:  [2.40823997 2.40823997 2.40823997 2.40823997]\n",
      "\n",
      "Shift:  4.0\n",
      "Type float64\n",
      "[[9.99924022e-10 9.99983152e-04 1.00004294e+04 1.00000962e+10]\n",
      " [1.00003952e-09 9.99922923e-04 9.99988937e+03 9.99820924e+09]\n",
      " [9.99955086e-10 9.99962546e-04 1.00007634e+04 9.99771551e+09]\n",
      " ...\n",
      " [9.99826293e-10 9.99977649e-04 1.00006543e+04 9.99778383e+09]\n",
      " [1.00013401e-09 1.00006202e-03 1.00008264e+04 1.00003277e+10]\n",
      " [9.99919270e-10 9.99989232e-04 1.00009681e+04 1.00022443e+10]]\n",
      "--------------------\n",
      "Theorical Mean [1.e-09 1.e-03 1.e+04 1.e+10]\n",
      "Empirical mean [9.99999354e-10 9.99998797e-04 1.00000132e+04 9.99999169e+09]\n",
      "Mean diff      [ 6.46481673e-16  1.20320422e-09 -1.31826034e-02  8.30578439e+03]\n",
      "--------------------\n",
      "Theorical Std [1.e-13 1.e-07 1.e+00 1.e+06]\n",
      "Empirical std [1.00601713e-13 1.00951337e-07 1.00968640e+00 1.00726719e+06]\n",
      "Std diff      [-6.01713112e-16 -9.51336911e-10 -9.68640137e-03 -7.26719227e+03]\n",
      "--------------------\n",
      "CNH s_abs:  [3.66818487 3.68727809 3.61089356 3.63253529]\n",
      "CNH s_rel:  [3.69908474 3.69757805 3.69750361 3.69854543]\n",
      "General s_abs:  [3.31132995 3.31132995 3.01029996 3.31132995]\n",
      "General s_rel:  [3.31132995 3.31132995 3.31132995 3.31132995]\n",
      "\n",
      "Shift:  5.0\n",
      "Type float64\n",
      "[[1.00000059e-09 1.00000601e-03 9.99980194e+03 1.00001332e+10]\n",
      " [1.00000037e-09 1.00001776e-03 9.99982259e+03 9.99998071e+09]\n",
      " [9.99979260e-10 9.99994323e-04 9.99999381e+03 1.00001390e+10]\n",
      " ...\n",
      " [1.00000942e-09 1.00000025e-03 1.00000240e+04 9.99993482e+09]\n",
      " [9.99999614e-10 9.99982448e-04 9.99981437e+03 9.99993975e+09]\n",
      " [9.99996918e-10 9.99994578e-04 1.00001760e+04 1.00000319e+10]]\n",
      "--------------------\n",
      "Theorical Mean [1.e-09 1.e-03 1.e+04 1.e+10]\n",
      "Empirical mean [9.99999900e-10 1.00000007e-03 1.00000000e+04 1.00000013e+10]\n",
      "Mean diff      [ 9.95121475e-17 -7.25595372e-11 -3.23311542e-06 -1.30611424e+03]\n",
      "--------------------\n",
      "Theorical Std [1.e-14 1.e-08 1.e-01 1.e+05]\n",
      "Empirical std [1.00164300e-14 1.00135539e-08 9.96147160e-02 9.92653789e+04]\n",
      "Std diff      [-1.64300378e-17 -1.35539487e-11  3.85284012e-04  7.34621079e+02]\n",
      "--------------------\n",
      "CNH s_abs:  [4.67007729 4.69080192 4.61675656 4.63888217]\n",
      "CNH s_rel:  [4.70097716 4.70110188 4.70336662 4.70489232]\n",
      "General s_abs:  [4.21441994 4.21441994 4.21441994 4.21441994]\n",
      "General s_rel:  [4.21441994 4.21441994 4.21441994 4.21441994]\n",
      "\n",
      "Shift:  6.0\n",
      "Type float64\n",
      "[[9.99999485e-10 9.99997507e-04 9.99998780e+03 1.00000047e+10]\n",
      " [1.00000165e-09 9.99999264e-04 9.99999626e+03 1.00000012e+10]\n",
      " [1.00000024e-09 1.00000065e-03 1.00000087e+04 1.00000049e+10]\n",
      " ...\n",
      " [9.99999483e-10 1.00000298e-03 1.00000004e+04 1.00000065e+10]\n",
      " [1.00000120e-09 9.99998517e-04 9.99999096e+03 9.99999821e+09]\n",
      " [9.99999567e-10 9.99998589e-04 9.99999974e+03 1.00000055e+10]]\n",
      "--------------------\n",
      "Theorical Mean [1.e-09 1.e-03 1.e+04 1.e+10]\n",
      "Empirical mean [1.00000001e-09 1.00000000e-03 9.99999998e+03 1.00000003e+10]\n",
      "Mean diff      [-1.42773651e-17 -5.38433230e-13  1.96326655e-05 -2.72120726e+02]\n",
      "--------------------\n",
      "Theorical Std [1.e-15 1.e-09 1.e-02 1.e+04]\n",
      "Empirical std [1.00331290e-15 1.00202152e-09 1.00457635e-02 9.92535725e+03]\n",
      "Std diff      [-3.31290126e-18 -2.02152008e-12 -4.57635257e-05  7.46427527e+01]\n",
      "--------------------\n",
      "CNH s_abs:  [5.66935385 5.69051311 5.61309711 5.63893383]\n",
      "CNH s_rel:  [5.70025372 5.70081307 5.69970717 5.70494397]\n",
      "General s_abs:  [5.11750993 5.11750993 5.11750993 5.11750993]\n",
      "General s_rel:  [5.41853992 5.11750993 5.11750993 5.11750993]\n",
      "\n",
      "Shift:  7.0\n",
      "Type float64\n",
      "[[9.99999907e-10 9.99999993e-04 1.00000003e+04 9.99999945e+09]\n",
      " [9.99999961e-10 1.00000005e-03 9.99999946e+03 9.99999993e+09]\n",
      " [1.00000014e-09 9.99999900e-04 9.99999976e+03 1.00000002e+10]\n",
      " ...\n",
      " [9.99999926e-10 9.99999910e-04 9.99999988e+03 9.99999952e+09]\n",
      " [9.99999963e-10 1.00000012e-03 1.00000006e+04 1.00000000e+10]\n",
      " [9.99999964e-10 1.00000020e-03 1.00000016e+04 9.99999866e+09]]\n",
      "--------------------\n",
      "Theorical Mean [1.e-09 1.e-03 1.e+04 1.e+10]\n",
      "Empirical mean [9.99999998e-10 9.99999999e-04 1.00000000e+04 9.99999999e+09]\n",
      "Mean diff      [ 1.55891534e-18  7.23791903e-13 -1.47534320e-05  5.81781578e+00]\n",
      "--------------------\n",
      "Theorical Std [1.e-16 1.e-10 1.e-03 1.e+03]\n",
      "Empirical std [1.00584932e-16 1.00962180e-10 9.89693763e-04 9.95910604e+02]\n",
      "Std diff      [-5.84931738e-19 -9.62180388e-13  1.03062372e-05  4.08939621e+00]\n",
      "--------------------\n",
      "CNH s_abs:  [6.66825732 6.68723144 6.61957923 6.63745962]\n",
      "CNH s_rel:  [6.69915719 6.6975314  6.70618929 6.70346976]\n",
      "General s_abs:  [6.32162991 6.32162991 6.02059991 6.32162991]\n",
      "General s_rel:  [6.32162991 6.32162991 6.32162991 6.32162991]\n",
      "e_ref:  [[-8. -2.  5. 11.]\n",
      " [-8. -2.  5. 11.]\n",
      " [-8. -2.  5. 11.]\n",
      " [-8. -2.  5. 11.]\n",
      " [-8. -2.  5. 11.]\n",
      " [-8. -2.  5. 11.]\n",
      " [-8. -2.  5. 11.]\n",
      " [-8. -2.  5. 11.]\n",
      " [-8. -2.  5. 11.]\n",
      " [-8. -2.  5. 11.]\n",
      " [-8. -2.  5. 11.]\n",
      " [-8. -2.  5. 11.]\n",
      " [-8. -2.  5. 11.]\n",
      " [-8. -2.  5. 11.]\n",
      " [-8. -2.  5. 11.]\n",
      " [-8. -2.  5. 11.]]\n",
      "abs_ref_line:  [[-8. -8. -8. -8.]\n",
      " [-7. -7. -7. -7.]\n",
      " [-6. -6. -6. -6.]\n",
      " [-5. -5. -5. -5.]\n",
      " [-4. -4. -4. -4.]\n",
      " [-3. -3. -3. -3.]\n",
      " [-2. -2. -2. -2.]\n",
      " [-1. -1. -1. -1.]\n",
      " [ 0.  0.  0.  0.]\n",
      " [ 1.  1.  1.  1.]\n",
      " [ 2.  2.  2.  2.]\n",
      " [ 3.  3.  3.  3.]\n",
      " [ 4.  4.  4.  4.]\n",
      " [ 5.  5.  5.  5.]\n",
      " [ 6.  6.  6.  6.]\n",
      " [ 7.  7.  7.  7.]]\n",
      "rel_ref_line:  [[-8. -8. -8. -8.]\n",
      " [-7. -7. -7. -7.]\n",
      " [-6. -6. -6. -6.]\n",
      " [-5. -5. -5. -5.]\n",
      " [-4. -4. -4. -4.]\n",
      " [-3. -3. -3. -3.]\n",
      " [-2. -2. -2. -2.]\n",
      " [-1. -1. -1. -1.]\n",
      " [-0. -0. -0. -0.]\n",
      " [ 1.  1.  1.  1.]\n",
      " [ 2.  2.  2.  2.]\n",
      " [ 3.  3.  3.  3.]\n",
      " [ 4.  4.  4.  4.]\n",
      " [ 5.  5.  5.  5.]\n",
      " [ 6.  6.  6.  6.]\n",
      " [ 7.  7.  7.  7.]]\n"
     ]
    },
    {
     "data": {
      "application/vnd.plotly.v1+json": {
       "config": {
        "plotlyServerURL": "https://plot.ly"
       },
       "data": [
        {
         "legendgroup": "Absolute_Dim2",
         "legendgrouptitle": {
          "text": "Absolute x[0]"
         },
         "marker": {
          "color": "blue",
          "size": 12,
          "symbol": "circle"
         },
         "mode": "lines+markers",
         "name": "CNH",
         "type": "scatter",
         "x": [
          -8,
          -7,
          -6,
          -5,
          -4,
          -3,
          -2,
          -1,
          0,
          1,
          2,
          3,
          4,
          5,
          6,
          7
         ],
         "xaxis": "x",
         "y": [
          -8.32602243910932,
          -7.329765760100734,
          -6.3231766059842345,
          -5.325283056743068,
          -4.32418056155689,
          -3.3344174486508082,
          -2.322445060417959,
          -1.3222168171893578,
          -0.3265229247971846,
          0.6693853432754078,
          1.6722976873024094,
          2.6708376887977088,
          3.6681848742072956,
          4.670077288506653,
          5.669353853714262,
          6.668257324924358
         ],
         "yaxis": "y"
        },
        {
         "legendgroup": "Relative_Dim2",
         "legendgrouptitle": {
          "text": "Relative x[0]"
         },
         "marker": {
          "color": "blue",
          "size": 12,
          "symbol": "square"
         },
         "mode": "lines+markers",
         "name": "CNH",
         "type": "scatter",
         "x": [
          -8,
          -7,
          -6,
          -5,
          -4,
          -3,
          -2,
          -1,
          0,
          1,
          2,
          3,
          4,
          5,
          6,
          7
         ],
         "xaxis": "x5",
         "y": [
          -8.295122569189886,
          -7.2988658901812995,
          -6.292276736064798,
          -5.294383186823631,
          -4.293280691637455,
          -3.303517578731372,
          -2.2915451904985233,
          -1.291316947269922,
          -0.29562305487774865,
          0.7002852131948453,
          1.7031975572218436,
          2.701737558717144,
          3.699084744126734,
          4.700977158426113,
          5.700253723633616,
          6.699157194846181
         ],
         "yaxis": "y5"
        },
        {
         "legendgroup": "Absolute_Dim2",
         "legendgrouptitle": {
          "text": "Absolute x[0]"
         },
         "marker": {
          "color": "red",
          "size": 12,
          "symbol": "circle"
         },
         "mode": "lines+markers",
         "name": "General",
         "type": "scatter",
         "x": [
          -8,
          -7,
          -6,
          -5,
          -4,
          -3,
          -2,
          -1,
          0,
          1,
          2,
          3,
          4,
          5,
          6,
          7
         ],
         "xaxis": "x",
         "y": [
          0,
          0,
          0,
          0,
          0,
          0,
          0,
          0,
          0,
          0.30102999566398114,
          1.2041199826559246,
          2.107209969647868,
          3.3113299523037925,
          4.214419939295736,
          5.1175099262876795,
          6.321629908943604
         ],
         "yaxis": "y"
        },
        {
         "legendgroup": "Relative_Dim2",
         "legendgrouptitle": {
          "text": "Relative x[0]"
         },
         "marker": {
          "color": "red",
          "size": 12,
          "symbol": "square"
         },
         "mode": "lines+markers",
         "name": "General",
         "type": "scatter",
         "x": [
          -8,
          -7,
          -6,
          -5,
          -4,
          -3,
          -2,
          -1,
          0,
          1,
          2,
          3,
          4,
          5,
          6,
          7
         ],
         "xaxis": "x5",
         "y": [
          0,
          0,
          0,
          0,
          0,
          0,
          0,
          0,
          0,
          0.30102999566398114,
          1.2041199826559246,
          2.408239965311849,
          3.3113299523037925,
          4.214419939295736,
          5.418539921951661,
          6.321629908943604
         ],
         "yaxis": "y5"
        },
        {
         "legendgroup": "Absolute_Dim3",
         "legendgrouptitle": {
          "text": "Absolute x[1]"
         },
         "marker": {
          "color": "blue",
          "size": 12,
          "symbol": "circle"
         },
         "mode": "lines+markers",
         "name": "CNH",
         "type": "scatter",
         "x": [
          -8,
          -7,
          -6,
          -5,
          -4,
          -3,
          -2,
          -1,
          0,
          1,
          2,
          3,
          4,
          5,
          6,
          7
         ],
         "xaxis": "x2",
         "y": [
          -8.309139175929284,
          -7.308730294638633,
          -6.304916641833476,
          -5.307875232137208,
          -4.3053323029968,
          -3.3075895358066547,
          -2.3133476643596578,
          -1.309109183201887,
          -0.3141196822036045,
          0.6969233774525082,
          1.6857216718171157,
          2.688538898603965,
          3.6872780889863974,
          4.6908019217682995,
          5.690513114891409,
          6.687231442660787
         ],
         "yaxis": "y2"
        },
        {
         "legendgroup": "Relative_Dim3",
         "legendgrouptitle": {
          "text": "Relative x[1]"
         },
         "marker": {
          "color": "blue",
          "size": 12,
          "symbol": "square"
         },
         "mode": "lines+markers",
         "name": "CNH",
         "type": "scatter",
         "x": [
          -8,
          -7,
          -6,
          -5,
          -4,
          -3,
          -2,
          -1,
          0,
          1,
          2,
          3,
          4,
          5,
          6,
          7
         ],
         "xaxis": "x6",
         "y": [
          -8.298839219289471,
          -7.298430337998823,
          -6.294616685193664,
          -5.2975752754973975,
          -4.2950323463569875,
          -3.2972895791668435,
          -2.303047707719847,
          -1.2988092265620756,
          -0.3038197255637934,
          0.7072233340923202,
          1.6960216284569278,
          2.6988388552437774,
          3.6975780456262104,
          4.701101878408134,
          5.700813071531388,
          6.697531399305871
         ],
         "yaxis": "y6"
        },
        {
         "legendgroup": "Absolute_Dim3",
         "legendgrouptitle": {
          "text": "Absolute x[1]"
         },
         "marker": {
          "color": "red",
          "size": 12,
          "symbol": "circle"
         },
         "mode": "lines+markers",
         "name": "General",
         "type": "scatter",
         "x": [
          -8,
          -7,
          -6,
          -5,
          -4,
          -3,
          -2,
          -1,
          0,
          1,
          2,
          3,
          4,
          5,
          6,
          7
         ],
         "xaxis": "x2",
         "y": [
          0,
          0,
          0,
          0,
          0,
          0,
          0,
          0,
          0,
          0.30102999566398114,
          1.2041199826559246,
          2.408239965311849,
          3.3113299523037925,
          4.214419939295736,
          5.1175099262876795,
          6.321629908943604
         ],
         "yaxis": "y2"
        },
        {
         "legendgroup": "Relative_Dim3",
         "legendgrouptitle": {
          "text": "Relative x[1]"
         },
         "marker": {
          "color": "red",
          "size": 12,
          "symbol": "square"
         },
         "mode": "lines+markers",
         "name": "General",
         "type": "scatter",
         "x": [
          -8,
          -7,
          -6,
          -5,
          -4,
          -3,
          -2,
          -1,
          0,
          1,
          2,
          3,
          4,
          5,
          6,
          7
         ],
         "xaxis": "x6",
         "y": [
          0,
          0,
          0,
          0,
          0,
          0,
          0,
          0,
          0,
          0.30102999566398114,
          1.2041199826559246,
          2.408239965311849,
          3.3113299523037925,
          4.214419939295736,
          5.1175099262876795,
          6.321629908943604
         ],
         "yaxis": "y6"
        },
        {
         "legendgroup": "Absolute_Dim4",
         "legendgrouptitle": {
          "text": "Absolute x[2]"
         },
         "marker": {
          "color": "blue",
          "size": 12,
          "symbol": "circle"
         },
         "mode": "lines+markers",
         "name": "CNH",
         "type": "scatter",
         "x": [
          -8,
          -7,
          -6,
          -5,
          -4,
          -3,
          -2,
          -1,
          0,
          1,
          2,
          3,
          4,
          5,
          6,
          7
         ],
         "xaxis": "x3",
         "y": [
          -8.383785862562968,
          -7.380166356677358,
          -6.385466799657818,
          -5.384291064044915,
          -4.3829957221631055,
          -3.3817957230736755,
          -2.384919581595609,
          -1.3889048375065711,
          -0.3878649586696799,
          0.6184191005612952,
          1.6111555070203873,
          2.620010475738002,
          3.6108935568486777,
          4.616756562917968,
          5.613097113211015,
          6.619579230696591
         ],
         "yaxis": "y3"
        },
        {
         "legendgroup": "Relative_Dim4",
         "legendgrouptitle": {
          "text": "Relative x[2]"
         },
         "marker": {
          "color": "blue",
          "size": 12,
          "symbol": "square"
         },
         "mode": "lines+markers",
         "name": "CNH",
         "type": "scatter",
         "x": [
          -8,
          -7,
          -6,
          -5,
          -4,
          -3,
          -2,
          -1,
          0,
          1,
          2,
          3,
          4,
          5,
          6,
          7
         ],
         "xaxis": "x7",
         "y": [
          -8.297175806194725,
          -7.293556300309113,
          -6.298856743289575,
          -5.29768100767667,
          -4.296385665794862,
          -3.2951856667054313,
          -2.2983095252273635,
          -1.3022947811383265,
          -0.3012549023014343,
          0.7050291569295398,
          1.6977655633886328,
          2.7066205321062458,
          3.6975036132169223,
          4.7033666192862285,
          5.699707169579433,
          6.706189287061422
         ],
         "yaxis": "y7"
        },
        {
         "legendgroup": "Absolute_Dim4",
         "legendgrouptitle": {
          "text": "Absolute x[2]"
         },
         "marker": {
          "color": "red",
          "size": 12,
          "symbol": "circle"
         },
         "mode": "lines+markers",
         "name": "General",
         "type": "scatter",
         "x": [
          -8,
          -7,
          -6,
          -5,
          -4,
          -3,
          -2,
          -1,
          0,
          1,
          2,
          3,
          4,
          5,
          6,
          7
         ],
         "xaxis": "x3",
         "y": [
          0,
          0,
          0,
          0,
          0,
          0,
          0,
          0,
          0,
          0.30102999566398114,
          1.2041199826559246,
          2.107209969647868,
          3.0102999566398116,
          4.214419939295736,
          5.1175099262876795,
          6.020599913279623
         ],
         "yaxis": "y3"
        },
        {
         "legendgroup": "Relative_Dim4",
         "legendgrouptitle": {
          "text": "Relative x[2]"
         },
         "marker": {
          "color": "red",
          "size": 12,
          "symbol": "square"
         },
         "mode": "lines+markers",
         "name": "General",
         "type": "scatter",
         "x": [
          -8,
          -7,
          -6,
          -5,
          -4,
          -3,
          -2,
          -1,
          0,
          1,
          2,
          3,
          4,
          5,
          6,
          7
         ],
         "xaxis": "x7",
         "y": [
          0,
          0,
          0,
          0,
          0,
          0,
          0,
          0,
          0,
          0.30102999566398114,
          1.2041199826559246,
          2.408239965311849,
          3.3113299523037925,
          4.214419939295736,
          5.1175099262876795,
          6.321629908943604
         ],
         "yaxis": "y7"
        },
        {
         "legendgroup": "Absolute_Dim5",
         "legendgrouptitle": {
          "text": "Absolute x[3]"
         },
         "marker": {
          "color": "blue",
          "size": 12,
          "symbol": "circle"
         },
         "mode": "lines+markers",
         "name": "CNH",
         "type": "scatter",
         "x": [
          -8,
          -7,
          -6,
          -5,
          -4,
          -3,
          -2,
          -1,
          0,
          1,
          2,
          3,
          4,
          5,
          6,
          7
         ],
         "xaxis": "x4",
         "y": [
          -8.360577330900828,
          -7.367381091924587,
          -6.367278331623577,
          -5.365059049634688,
          -4.369747100243917,
          -3.366394979653657,
          -2.3585732892874924,
          -1.3633585055064101,
          -0.36405210382121994,
          0.6360433915042076,
          1.6356762152918867,
          2.6372420986262446,
          3.6325352885091617,
          4.638882172538415,
          5.638933829822461,
          6.63745962079893
         ],
         "yaxis": "y4"
        },
        {
         "legendgroup": "Relative_Dim5",
         "legendgrouptitle": {
          "text": "Relative x[3]"
         },
         "marker": {
          "color": "blue",
          "size": 12,
          "symbol": "square"
         },
         "mode": "lines+markers",
         "name": "CNH",
         "type": "scatter",
         "x": [
          -8,
          -7,
          -6,
          -5,
          -4,
          -3,
          -2,
          -1,
          0,
          1,
          2,
          3,
          4,
          5,
          6,
          7
         ],
         "xaxis": "x8",
         "y": [
          -8.294567187812206,
          -7.301370948835966,
          -6.301268188534957,
          -5.299048906546066,
          -4.303736957155294,
          -3.3003848365650374,
          -2.2925631461988734,
          -1.2973483624177873,
          -0.29804196073259925,
          0.7020535345928286,
          1.7016863583805069,
          2.703252241714865,
          3.698545431597784,
          4.704892315627033,
          5.7049439729113685,
          6.703469763886456
         ],
         "yaxis": "y8"
        },
        {
         "legendgroup": "Absolute_Dim5",
         "legendgrouptitle": {
          "text": "Absolute x[3]"
         },
         "marker": {
          "color": "red",
          "size": 12,
          "symbol": "circle"
         },
         "mode": "lines+markers",
         "name": "General",
         "type": "scatter",
         "x": [
          -8,
          -7,
          -6,
          -5,
          -4,
          -3,
          -2,
          -1,
          0,
          1,
          2,
          3,
          4,
          5,
          6,
          7
         ],
         "xaxis": "x4",
         "y": [
          0,
          0,
          0,
          0,
          0,
          0,
          0,
          0,
          0,
          0.30102999566398114,
          1.2041199826559246,
          2.107209969647868,
          3.3113299523037925,
          4.214419939295736,
          5.1175099262876795,
          6.321629908943604
         ],
         "yaxis": "y4"
        },
        {
         "legendgroup": "Relative_Dim5",
         "legendgrouptitle": {
          "text": "Relative x[3]"
         },
         "marker": {
          "color": "red",
          "size": 12,
          "symbol": "square"
         },
         "mode": "lines+markers",
         "name": "General",
         "type": "scatter",
         "x": [
          -8,
          -7,
          -6,
          -5,
          -4,
          -3,
          -2,
          -1,
          0,
          1,
          2,
          3,
          4,
          5,
          6,
          7
         ],
         "xaxis": "x8",
         "y": [
          0,
          0,
          0,
          0,
          0,
          0,
          0,
          0,
          0,
          0.30102999566398114,
          1.2041199826559246,
          2.408239965311849,
          3.3113299523037925,
          4.214419939295736,
          5.1175099262876795,
          6.321629908943604
         ],
         "yaxis": "y8"
        },
        {
         "legendgroup": "Absolute_Dim2",
         "legendgrouptitle": {
          "text": "Absolute x[0]"
         },
         "marker": {
          "color": "black",
          "size": 12,
          "symbol": "circle"
         },
         "mode": "lines+markers",
         "name": "Reference",
         "type": "scatter",
         "x": [
          -8,
          -7,
          -6,
          -5,
          -4,
          -3,
          -2,
          -1,
          0,
          1,
          2,
          3,
          4,
          5,
          6,
          7
         ],
         "xaxis": "x",
         "y": {
          "bdata": "AAAAAAAAIMAAAAAAAAAcwAAAAAAAABjAAAAAAAAAFMAAAAAAAAAQwAAAAAAAAAjAAAAAAAAAAMAAAAAAAADwvwAAAAAAAAAAAAAAAAAA8D8AAAAAAAAAQAAAAAAAAAhAAAAAAAAAEEAAAAAAAAAUQAAAAAAAABhAAAAAAAAAHEA=",
          "dtype": "f8"
         },
         "yaxis": "y"
        },
        {
         "legendgroup": "Relative_Dim2",
         "legendgrouptitle": {
          "text": "Relative x[0]"
         },
         "marker": {
          "color": "black",
          "size": 12,
          "symbol": "square"
         },
         "mode": "lines+markers",
         "name": "Reference",
         "type": "scatter",
         "x": [
          -8,
          -7,
          -6,
          -5,
          -4,
          -3,
          -2,
          -1,
          0,
          1,
          2,
          3,
          4,
          5,
          6,
          7
         ],
         "xaxis": "x5",
         "y": {
          "bdata": "AAAAAAAAIMAAAAAAAAAcwAAAAAAAABjAAAAAAAAAFMAAAAAAAAAQwAAAAAAAAAjAAAAAAAAAAMAAAAAAAADwvwAAAAAAAACAAAAAAAAA8D8AAAAAAAAAQAAAAAAAAAhAAAAAAAAAEEAAAAAAAAAUQAAAAAAAABhAAAAAAAAAHEA=",
          "dtype": "f8"
         },
         "yaxis": "y5"
        },
        {
         "legendgroup": "Absolute_Dim3",
         "legendgrouptitle": {
          "text": "Absolute x[1]"
         },
         "marker": {
          "color": "black",
          "size": 12,
          "symbol": "circle"
         },
         "mode": "lines+markers",
         "name": "Reference",
         "type": "scatter",
         "x": [
          -8,
          -7,
          -6,
          -5,
          -4,
          -3,
          -2,
          -1,
          0,
          1,
          2,
          3,
          4,
          5,
          6,
          7
         ],
         "xaxis": "x2",
         "y": {
          "bdata": "AAAAAAAAIMAAAAAAAAAcwAAAAAAAABjAAAAAAAAAFMAAAAAAAAAQwAAAAAAAAAjAAAAAAAAAAMAAAAAAAADwvwAAAAAAAAAAAAAAAAAA8D8AAAAAAAAAQAAAAAAAAAhAAAAAAAAAEEAAAAAAAAAUQAAAAAAAABhAAAAAAAAAHEA=",
          "dtype": "f8"
         },
         "yaxis": "y2"
        },
        {
         "legendgroup": "Relative_Dim3",
         "legendgrouptitle": {
          "text": "Relative x[1]"
         },
         "marker": {
          "color": "black",
          "size": 12,
          "symbol": "square"
         },
         "mode": "lines+markers",
         "name": "Reference",
         "type": "scatter",
         "x": [
          -8,
          -7,
          -6,
          -5,
          -4,
          -3,
          -2,
          -1,
          0,
          1,
          2,
          3,
          4,
          5,
          6,
          7
         ],
         "xaxis": "x6",
         "y": {
          "bdata": "AAAAAAAAIMAAAAAAAAAcwAAAAAAAABjAAAAAAAAAFMAAAAAAAAAQwAAAAAAAAAjAAAAAAAAAAMAAAAAAAADwvwAAAAAAAACAAAAAAAAA8D8AAAAAAAAAQAAAAAAAAAhAAAAAAAAAEEAAAAAAAAAUQAAAAAAAABhAAAAAAAAAHEA=",
          "dtype": "f8"
         },
         "yaxis": "y6"
        },
        {
         "legendgroup": "Absolute_Dim4",
         "legendgrouptitle": {
          "text": "Absolute x[2]"
         },
         "marker": {
          "color": "black",
          "size": 12,
          "symbol": "circle"
         },
         "mode": "lines+markers",
         "name": "Reference",
         "type": "scatter",
         "x": [
          -8,
          -7,
          -6,
          -5,
          -4,
          -3,
          -2,
          -1,
          0,
          1,
          2,
          3,
          4,
          5,
          6,
          7
         ],
         "xaxis": "x3",
         "y": {
          "bdata": "AAAAAAAAIMAAAAAAAAAcwAAAAAAAABjAAAAAAAAAFMAAAAAAAAAQwAAAAAAAAAjAAAAAAAAAAMAAAAAAAADwvwAAAAAAAAAAAAAAAAAA8D8AAAAAAAAAQAAAAAAAAAhAAAAAAAAAEEAAAAAAAAAUQAAAAAAAABhAAAAAAAAAHEA=",
          "dtype": "f8"
         },
         "yaxis": "y3"
        },
        {
         "legendgroup": "Relative_Dim4",
         "legendgrouptitle": {
          "text": "Relative x[2]"
         },
         "marker": {
          "color": "black",
          "size": 12,
          "symbol": "square"
         },
         "mode": "lines+markers",
         "name": "Reference",
         "type": "scatter",
         "x": [
          -8,
          -7,
          -6,
          -5,
          -4,
          -3,
          -2,
          -1,
          0,
          1,
          2,
          3,
          4,
          5,
          6,
          7
         ],
         "xaxis": "x7",
         "y": {
          "bdata": "AAAAAAAAIMAAAAAAAAAcwAAAAAAAABjAAAAAAAAAFMAAAAAAAAAQwAAAAAAAAAjAAAAAAAAAAMAAAAAAAADwvwAAAAAAAACAAAAAAAAA8D8AAAAAAAAAQAAAAAAAAAhAAAAAAAAAEEAAAAAAAAAUQAAAAAAAABhAAAAAAAAAHEA=",
          "dtype": "f8"
         },
         "yaxis": "y7"
        },
        {
         "legendgroup": "Absolute_Dim5",
         "legendgrouptitle": {
          "text": "Absolute x[3]"
         },
         "marker": {
          "color": "black",
          "size": 12,
          "symbol": "circle"
         },
         "mode": "lines+markers",
         "name": "Reference",
         "type": "scatter",
         "x": [
          -8,
          -7,
          -6,
          -5,
          -4,
          -3,
          -2,
          -1,
          0,
          1,
          2,
          3,
          4,
          5,
          6,
          7
         ],
         "xaxis": "x4",
         "y": {
          "bdata": "AAAAAAAAIMAAAAAAAAAcwAAAAAAAABjAAAAAAAAAFMAAAAAAAAAQwAAAAAAAAAjAAAAAAAAAAMAAAAAAAADwvwAAAAAAAAAAAAAAAAAA8D8AAAAAAAAAQAAAAAAAAAhAAAAAAAAAEEAAAAAAAAAUQAAAAAAAABhAAAAAAAAAHEA=",
          "dtype": "f8"
         },
         "yaxis": "y4"
        },
        {
         "legendgroup": "Relative_Dim5",
         "legendgrouptitle": {
          "text": "Relative x[3]"
         },
         "marker": {
          "color": "black",
          "size": 12,
          "symbol": "square"
         },
         "mode": "lines+markers",
         "name": "Reference",
         "type": "scatter",
         "x": [
          -8,
          -7,
          -6,
          -5,
          -4,
          -3,
          -2,
          -1,
          0,
          1,
          2,
          3,
          4,
          5,
          6,
          7
         ],
         "xaxis": "x8",
         "y": {
          "bdata": "AAAAAAAAIMAAAAAAAAAcwAAAAAAAABjAAAAAAAAAFMAAAAAAAAAQwAAAAAAAAAjAAAAAAAAAAMAAAAAAAADwvwAAAAAAAACAAAAAAAAA8D8AAAAAAAAAQAAAAAAAAAhAAAAAAAAAEEAAAAAAAAAUQAAAAAAAABhAAAAAAAAAHEA=",
          "dtype": "f8"
         },
         "yaxis": "y8"
        },
        {
         "legendgroup": "Absolute_Dim2",
         "legendgrouptitle": {
          "text": "Absolute x[0]"
         },
         "marker": {
          "color": "green",
          "size": 12,
          "symbol": "diamond"
         },
         "mode": "lines+markers",
         "name": "Parker",
         "type": "scatter",
         "x": [
          -8,
          -7,
          -6,
          -5,
          -4,
          -3,
          -2,
          -1,
          0,
          1,
          2,
          3,
          4,
          5,
          6,
          7
         ],
         "xaxis": "x",
         "y": {
          "bdata": "AAAAAAAAIMAAAAAAAAAcwAAAAAAAABjAAAAAAAAAFMAAAAAAAAAQwAAAAAAAAAjAAAAAAAAAAMAAAAAAAADwvwAAAAAAAACAAAAAAAAA8D8AAAAAAAAAQAAAAAAAAAhAAAAAAAAAEEAAAAAAAAAUQAAAAAAAABhAAAAAAAAAHEA=",
          "dtype": "f8"
         },
         "yaxis": "y"
        },
        {
         "legendgroup": "Relative_Dim2",
         "legendgrouptitle": {
          "text": "Relative x[0]"
         },
         "marker": {
          "color": "green",
          "size": 12,
          "symbol": "diamond"
         },
         "mode": "lines+markers",
         "name": "Parker",
         "type": "scatter",
         "x": [
          -8,
          -7,
          -6,
          -5,
          -4,
          -3,
          -2,
          -1,
          0,
          1,
          2,
          3,
          4,
          5,
          6,
          7
         ],
         "xaxis": "x5",
         "y": {
          "bdata": "AAAAAAAAIMAAAAAAAAAcwAAAAAAAABjAAAAAAAAAFMAAAAAAAAAQwAAAAAAAAAjAAAAAAAAAAMAAAAAAAADwvwAAAAAAAACAAAAAAAAA8D8AAAAAAAAAQAAAAAAAAAhAAAAAAAAAEEAAAAAAAAAUQAAAAAAAABhAAAAAAAAAHEA=",
          "dtype": "f8"
         },
         "yaxis": "y5"
        },
        {
         "legendgroup": "Absolute_Dim3",
         "legendgrouptitle": {
          "text": "Absolute x[1]"
         },
         "marker": {
          "color": "green",
          "size": 12,
          "symbol": "diamond"
         },
         "mode": "lines+markers",
         "name": "Parker",
         "type": "scatter",
         "x": [
          -8,
          -7,
          -6,
          -5,
          -4,
          -3,
          -2,
          -1,
          0,
          1,
          2,
          3,
          4,
          5,
          6,
          7
         ],
         "xaxis": "x2",
         "y": {
          "bdata": "AAAAAAAAIMAAAAAAAAAcwAAAAAAAABjAAAAAAAAAFMAAAAAAAAAQwAAAAAAAAAjAAAAAAAAAAMAAAAAAAADwvwAAAAAAAACAAAAAAAAA8D8AAAAAAAAAQAAAAAAAAAhAAAAAAAAAEEAAAAAAAAAUQAAAAAAAABhAAAAAAAAAHEA=",
          "dtype": "f8"
         },
         "yaxis": "y2"
        },
        {
         "legendgroup": "Relative_Dim3",
         "legendgrouptitle": {
          "text": "Relative x[1]"
         },
         "marker": {
          "color": "green",
          "size": 12,
          "symbol": "diamond"
         },
         "mode": "lines+markers",
         "name": "Parker",
         "type": "scatter",
         "x": [
          -8,
          -7,
          -6,
          -5,
          -4,
          -3,
          -2,
          -1,
          0,
          1,
          2,
          3,
          4,
          5,
          6,
          7
         ],
         "xaxis": "x6",
         "y": {
          "bdata": "AAAAAAAAIMAAAAAAAAAcwAAAAAAAABjAAAAAAAAAFMAAAAAAAAAQwAAAAAAAAAjAAAAAAAAAAMAAAAAAAADwvwAAAAAAAACAAAAAAAAA8D8AAAAAAAAAQAAAAAAAAAhAAAAAAAAAEEAAAAAAAAAUQAAAAAAAABhAAAAAAAAAHEA=",
          "dtype": "f8"
         },
         "yaxis": "y6"
        },
        {
         "legendgroup": "Absolute_Dim4",
         "legendgrouptitle": {
          "text": "Absolute x[2]"
         },
         "marker": {
          "color": "green",
          "size": 12,
          "symbol": "diamond"
         },
         "mode": "lines+markers",
         "name": "Parker",
         "type": "scatter",
         "x": [
          -8,
          -7,
          -6,
          -5,
          -4,
          -3,
          -2,
          -1,
          0,
          1,
          2,
          3,
          4,
          5,
          6,
          7
         ],
         "xaxis": "x3",
         "y": {
          "bdata": "AAAAAAAAIMAAAAAAAAAcwAAAAAAAABjAAAAAAAAAFMAAAAAAAAAQwAAAAAAAAAjAAAAAAAAAAMAAAAAAAADwvwAAAAAAAACAAAAAAAAA8D8AAAAAAAAAQAAAAAAAAAhAAAAAAAAAEEAAAAAAAAAUQAAAAAAAABhAAAAAAAAAHEA=",
          "dtype": "f8"
         },
         "yaxis": "y3"
        },
        {
         "legendgroup": "Relative_Dim4",
         "legendgrouptitle": {
          "text": "Relative x[2]"
         },
         "marker": {
          "color": "green",
          "size": 12,
          "symbol": "diamond"
         },
         "mode": "lines+markers",
         "name": "Parker",
         "type": "scatter",
         "x": [
          -8,
          -7,
          -6,
          -5,
          -4,
          -3,
          -2,
          -1,
          0,
          1,
          2,
          3,
          4,
          5,
          6,
          7
         ],
         "xaxis": "x7",
         "y": {
          "bdata": "AAAAAAAAIMAAAAAAAAAcwAAAAAAAABjAAAAAAAAAFMAAAAAAAAAQwAAAAAAAAAjAAAAAAAAAAMAAAAAAAADwvwAAAAAAAACAAAAAAAAA8D8AAAAAAAAAQAAAAAAAAAhAAAAAAAAAEEAAAAAAAAAUQAAAAAAAABhAAAAAAAAAHEA=",
          "dtype": "f8"
         },
         "yaxis": "y7"
        },
        {
         "legendgroup": "Absolute_Dim5",
         "legendgrouptitle": {
          "text": "Absolute x[3]"
         },
         "marker": {
          "color": "green",
          "size": 12,
          "symbol": "diamond"
         },
         "mode": "lines+markers",
         "name": "Parker",
         "type": "scatter",
         "x": [
          -8,
          -7,
          -6,
          -5,
          -4,
          -3,
          -2,
          -1,
          0,
          1,
          2,
          3,
          4,
          5,
          6,
          7
         ],
         "xaxis": "x4",
         "y": {
          "bdata": "AAAAAAAAIMAAAAAAAAAcwAAAAAAAABjAAAAAAAAAFMAAAAAAAAAQwAAAAAAAAAjAAAAAAAAAAMAAAAAAAADwvwAAAAAAAACAAAAAAAAA8D8AAAAAAAAAQAAAAAAAAAhAAAAAAAAAEEAAAAAAAAAUQAAAAAAAABhAAAAAAAAAHEA=",
          "dtype": "f8"
         },
         "yaxis": "y4"
        },
        {
         "legendgroup": "Relative_Dim5",
         "legendgrouptitle": {
          "text": "Relative x[3]"
         },
         "marker": {
          "color": "green",
          "size": 12,
          "symbol": "diamond"
         },
         "mode": "lines+markers",
         "name": "Parker",
         "type": "scatter",
         "x": [
          -8,
          -7,
          -6,
          -5,
          -4,
          -3,
          -2,
          -1,
          0,
          1,
          2,
          3,
          4,
          5,
          6,
          7
         ],
         "xaxis": "x8",
         "y": {
          "bdata": "AAAAAAAAIMAAAAAAAAAcwAAAAAAAABjAAAAAAAAAFMAAAAAAAAAQwAAAAAAAAAjAAAAAAAAAAMAAAAAAAADwvwAAAAAAAACAAAAAAAAA8D8AAAAAAAAAQAAAAAAAAAhAAAAAAAAAEEAAAAAAAAAUQAAAAAAAABhAAAAAAAAAHEA=",
          "dtype": "f8"
         },
         "yaxis": "y8"
        }
       ],
       "layout": {
        "annotations": [
         {
          "font": {
           "size": 16
          },
          "showarrow": false,
          "text": "log10(μ)=-9.0, log10(σ)=-9.0-shift",
          "x": 0.10375,
          "xanchor": "center",
          "xref": "paper",
          "y": 1,
          "yanchor": "bottom",
          "yref": "paper"
         },
         {
          "font": {
           "size": 16
          },
          "showarrow": false,
          "text": "log10(μ)=-3.0, log10(σ)=-3.0-shift",
          "x": 0.36124999999999996,
          "xanchor": "center",
          "xref": "paper",
          "y": 1,
          "yanchor": "bottom",
          "yref": "paper"
         },
         {
          "font": {
           "size": 16
          },
          "showarrow": false,
          "text": "log10(μ)=4.0, log10(σ)=4.0-shift",
          "x": 0.61875,
          "xanchor": "center",
          "xref": "paper",
          "y": 1,
          "yanchor": "bottom",
          "yref": "paper"
         },
         {
          "font": {
           "size": 16
          },
          "showarrow": false,
          "text": "log10(μ)=10.0, log10(σ)=10.0-shift",
          "x": 0.87625,
          "xanchor": "center",
          "xref": "paper",
          "y": 1,
          "yanchor": "bottom",
          "yref": "paper"
         },
         {
          "font": {
           "size": 16
          },
          "showarrow": false,
          "text": "Absolute",
          "textangle": 90,
          "x": 0.98,
          "xanchor": "left",
          "xref": "paper",
          "y": 0.7875,
          "yanchor": "middle",
          "yref": "paper"
         },
         {
          "font": {
           "size": 16
          },
          "showarrow": false,
          "text": "Relative",
          "textangle": 90,
          "x": 0.98,
          "xanchor": "left",
          "xref": "paper",
          "y": 0.2125,
          "yanchor": "middle",
          "yref": "paper"
         },
         {
          "font": {
           "size": 16
          },
          "showarrow": false,
          "text": "Shift",
          "x": 0.49,
          "xanchor": "center",
          "xref": "paper",
          "y": 0,
          "yanchor": "top",
          "yref": "paper",
          "yshift": -30
         },
         {
          "font": {
           "size": 16
          },
          "showarrow": false,
          "text": "Significant Digits",
          "textangle": -90,
          "x": 0,
          "xanchor": "right",
          "xref": "paper",
          "xshift": -40,
          "y": 0.5,
          "yanchor": "middle",
          "yref": "paper"
         }
        ],
        "height": 1200,
        "template": {
         "data": {
          "bar": [
           {
            "error_x": {
             "color": "#2a3f5f"
            },
            "error_y": {
             "color": "#2a3f5f"
            },
            "marker": {
             "line": {
              "color": "#E5ECF6",
              "width": 0.5
             },
             "pattern": {
              "fillmode": "overlay",
              "size": 10,
              "solidity": 0.2
             }
            },
            "type": "bar"
           }
          ],
          "barpolar": [
           {
            "marker": {
             "line": {
              "color": "#E5ECF6",
              "width": 0.5
             },
             "pattern": {
              "fillmode": "overlay",
              "size": 10,
              "solidity": 0.2
             }
            },
            "type": "barpolar"
           }
          ],
          "carpet": [
           {
            "aaxis": {
             "endlinecolor": "#2a3f5f",
             "gridcolor": "white",
             "linecolor": "white",
             "minorgridcolor": "white",
             "startlinecolor": "#2a3f5f"
            },
            "baxis": {
             "endlinecolor": "#2a3f5f",
             "gridcolor": "white",
             "linecolor": "white",
             "minorgridcolor": "white",
             "startlinecolor": "#2a3f5f"
            },
            "type": "carpet"
           }
          ],
          "choropleth": [
           {
            "colorbar": {
             "outlinewidth": 0,
             "ticks": ""
            },
            "type": "choropleth"
           }
          ],
          "contour": [
           {
            "colorbar": {
             "outlinewidth": 0,
             "ticks": ""
            },
            "colorscale": [
             [
              0,
              "#0d0887"
             ],
             [
              0.1111111111111111,
              "#46039f"
             ],
             [
              0.2222222222222222,
              "#7201a8"
             ],
             [
              0.3333333333333333,
              "#9c179e"
             ],
             [
              0.4444444444444444,
              "#bd3786"
             ],
             [
              0.5555555555555556,
              "#d8576b"
             ],
             [
              0.6666666666666666,
              "#ed7953"
             ],
             [
              0.7777777777777778,
              "#fb9f3a"
             ],
             [
              0.8888888888888888,
              "#fdca26"
             ],
             [
              1,
              "#f0f921"
             ]
            ],
            "type": "contour"
           }
          ],
          "contourcarpet": [
           {
            "colorbar": {
             "outlinewidth": 0,
             "ticks": ""
            },
            "type": "contourcarpet"
           }
          ],
          "heatmap": [
           {
            "colorbar": {
             "outlinewidth": 0,
             "ticks": ""
            },
            "colorscale": [
             [
              0,
              "#0d0887"
             ],
             [
              0.1111111111111111,
              "#46039f"
             ],
             [
              0.2222222222222222,
              "#7201a8"
             ],
             [
              0.3333333333333333,
              "#9c179e"
             ],
             [
              0.4444444444444444,
              "#bd3786"
             ],
             [
              0.5555555555555556,
              "#d8576b"
             ],
             [
              0.6666666666666666,
              "#ed7953"
             ],
             [
              0.7777777777777778,
              "#fb9f3a"
             ],
             [
              0.8888888888888888,
              "#fdca26"
             ],
             [
              1,
              "#f0f921"
             ]
            ],
            "type": "heatmap"
           }
          ],
          "histogram": [
           {
            "marker": {
             "pattern": {
              "fillmode": "overlay",
              "size": 10,
              "solidity": 0.2
             }
            },
            "type": "histogram"
           }
          ],
          "histogram2d": [
           {
            "colorbar": {
             "outlinewidth": 0,
             "ticks": ""
            },
            "colorscale": [
             [
              0,
              "#0d0887"
             ],
             [
              0.1111111111111111,
              "#46039f"
             ],
             [
              0.2222222222222222,
              "#7201a8"
             ],
             [
              0.3333333333333333,
              "#9c179e"
             ],
             [
              0.4444444444444444,
              "#bd3786"
             ],
             [
              0.5555555555555556,
              "#d8576b"
             ],
             [
              0.6666666666666666,
              "#ed7953"
             ],
             [
              0.7777777777777778,
              "#fb9f3a"
             ],
             [
              0.8888888888888888,
              "#fdca26"
             ],
             [
              1,
              "#f0f921"
             ]
            ],
            "type": "histogram2d"
           }
          ],
          "histogram2dcontour": [
           {
            "colorbar": {
             "outlinewidth": 0,
             "ticks": ""
            },
            "colorscale": [
             [
              0,
              "#0d0887"
             ],
             [
              0.1111111111111111,
              "#46039f"
             ],
             [
              0.2222222222222222,
              "#7201a8"
             ],
             [
              0.3333333333333333,
              "#9c179e"
             ],
             [
              0.4444444444444444,
              "#bd3786"
             ],
             [
              0.5555555555555556,
              "#d8576b"
             ],
             [
              0.6666666666666666,
              "#ed7953"
             ],
             [
              0.7777777777777778,
              "#fb9f3a"
             ],
             [
              0.8888888888888888,
              "#fdca26"
             ],
             [
              1,
              "#f0f921"
             ]
            ],
            "type": "histogram2dcontour"
           }
          ],
          "mesh3d": [
           {
            "colorbar": {
             "outlinewidth": 0,
             "ticks": ""
            },
            "type": "mesh3d"
           }
          ],
          "parcoords": [
           {
            "line": {
             "colorbar": {
              "outlinewidth": 0,
              "ticks": ""
             }
            },
            "type": "parcoords"
           }
          ],
          "pie": [
           {
            "automargin": true,
            "type": "pie"
           }
          ],
          "scatter": [
           {
            "fillpattern": {
             "fillmode": "overlay",
             "size": 10,
             "solidity": 0.2
            },
            "type": "scatter"
           }
          ],
          "scatter3d": [
           {
            "line": {
             "colorbar": {
              "outlinewidth": 0,
              "ticks": ""
             }
            },
            "marker": {
             "colorbar": {
              "outlinewidth": 0,
              "ticks": ""
             }
            },
            "type": "scatter3d"
           }
          ],
          "scattercarpet": [
           {
            "marker": {
             "colorbar": {
              "outlinewidth": 0,
              "ticks": ""
             }
            },
            "type": "scattercarpet"
           }
          ],
          "scattergeo": [
           {
            "marker": {
             "colorbar": {
              "outlinewidth": 0,
              "ticks": ""
             }
            },
            "type": "scattergeo"
           }
          ],
          "scattergl": [
           {
            "marker": {
             "colorbar": {
              "outlinewidth": 0,
              "ticks": ""
             }
            },
            "type": "scattergl"
           }
          ],
          "scattermap": [
           {
            "marker": {
             "colorbar": {
              "outlinewidth": 0,
              "ticks": ""
             }
            },
            "type": "scattermap"
           }
          ],
          "scattermapbox": [
           {
            "marker": {
             "colorbar": {
              "outlinewidth": 0,
              "ticks": ""
             }
            },
            "type": "scattermapbox"
           }
          ],
          "scatterpolar": [
           {
            "marker": {
             "colorbar": {
              "outlinewidth": 0,
              "ticks": ""
             }
            },
            "type": "scatterpolar"
           }
          ],
          "scatterpolargl": [
           {
            "marker": {
             "colorbar": {
              "outlinewidth": 0,
              "ticks": ""
             }
            },
            "type": "scatterpolargl"
           }
          ],
          "scatterternary": [
           {
            "marker": {
             "colorbar": {
              "outlinewidth": 0,
              "ticks": ""
             }
            },
            "type": "scatterternary"
           }
          ],
          "surface": [
           {
            "colorbar": {
             "outlinewidth": 0,
             "ticks": ""
            },
            "colorscale": [
             [
              0,
              "#0d0887"
             ],
             [
              0.1111111111111111,
              "#46039f"
             ],
             [
              0.2222222222222222,
              "#7201a8"
             ],
             [
              0.3333333333333333,
              "#9c179e"
             ],
             [
              0.4444444444444444,
              "#bd3786"
             ],
             [
              0.5555555555555556,
              "#d8576b"
             ],
             [
              0.6666666666666666,
              "#ed7953"
             ],
             [
              0.7777777777777778,
              "#fb9f3a"
             ],
             [
              0.8888888888888888,
              "#fdca26"
             ],
             [
              1,
              "#f0f921"
             ]
            ],
            "type": "surface"
           }
          ],
          "table": [
           {
            "cells": {
             "fill": {
              "color": "#EBF0F8"
             },
             "line": {
              "color": "white"
             }
            },
            "header": {
             "fill": {
              "color": "#C8D4E3"
             },
             "line": {
              "color": "white"
             }
            },
            "type": "table"
           }
          ]
         },
         "layout": {
          "annotationdefaults": {
           "arrowcolor": "#2a3f5f",
           "arrowhead": 0,
           "arrowwidth": 1
          },
          "autotypenumbers": "strict",
          "coloraxis": {
           "colorbar": {
            "outlinewidth": 0,
            "ticks": ""
           }
          },
          "colorscale": {
           "diverging": [
            [
             0,
             "#8e0152"
            ],
            [
             0.1,
             "#c51b7d"
            ],
            [
             0.2,
             "#de77ae"
            ],
            [
             0.3,
             "#f1b6da"
            ],
            [
             0.4,
             "#fde0ef"
            ],
            [
             0.5,
             "#f7f7f7"
            ],
            [
             0.6,
             "#e6f5d0"
            ],
            [
             0.7,
             "#b8e186"
            ],
            [
             0.8,
             "#7fbc41"
            ],
            [
             0.9,
             "#4d9221"
            ],
            [
             1,
             "#276419"
            ]
           ],
           "sequential": [
            [
             0,
             "#0d0887"
            ],
            [
             0.1111111111111111,
             "#46039f"
            ],
            [
             0.2222222222222222,
             "#7201a8"
            ],
            [
             0.3333333333333333,
             "#9c179e"
            ],
            [
             0.4444444444444444,
             "#bd3786"
            ],
            [
             0.5555555555555556,
             "#d8576b"
            ],
            [
             0.6666666666666666,
             "#ed7953"
            ],
            [
             0.7777777777777778,
             "#fb9f3a"
            ],
            [
             0.8888888888888888,
             "#fdca26"
            ],
            [
             1,
             "#f0f921"
            ]
           ],
           "sequentialminus": [
            [
             0,
             "#0d0887"
            ],
            [
             0.1111111111111111,
             "#46039f"
            ],
            [
             0.2222222222222222,
             "#7201a8"
            ],
            [
             0.3333333333333333,
             "#9c179e"
            ],
            [
             0.4444444444444444,
             "#bd3786"
            ],
            [
             0.5555555555555556,
             "#d8576b"
            ],
            [
             0.6666666666666666,
             "#ed7953"
            ],
            [
             0.7777777777777778,
             "#fb9f3a"
            ],
            [
             0.8888888888888888,
             "#fdca26"
            ],
            [
             1,
             "#f0f921"
            ]
           ]
          },
          "colorway": [
           "#636efa",
           "#EF553B",
           "#00cc96",
           "#ab63fa",
           "#FFA15A",
           "#19d3f3",
           "#FF6692",
           "#B6E880",
           "#FF97FF",
           "#FECB52"
          ],
          "font": {
           "color": "#2a3f5f"
          },
          "geo": {
           "bgcolor": "white",
           "lakecolor": "white",
           "landcolor": "#E5ECF6",
           "showlakes": true,
           "showland": true,
           "subunitcolor": "white"
          },
          "hoverlabel": {
           "align": "left"
          },
          "hovermode": "closest",
          "mapbox": {
           "style": "light"
          },
          "paper_bgcolor": "white",
          "plot_bgcolor": "#E5ECF6",
          "polar": {
           "angularaxis": {
            "gridcolor": "white",
            "linecolor": "white",
            "ticks": ""
           },
           "bgcolor": "#E5ECF6",
           "radialaxis": {
            "gridcolor": "white",
            "linecolor": "white",
            "ticks": ""
           }
          },
          "scene": {
           "xaxis": {
            "backgroundcolor": "#E5ECF6",
            "gridcolor": "white",
            "gridwidth": 2,
            "linecolor": "white",
            "showbackground": true,
            "ticks": "",
            "zerolinecolor": "white"
           },
           "yaxis": {
            "backgroundcolor": "#E5ECF6",
            "gridcolor": "white",
            "gridwidth": 2,
            "linecolor": "white",
            "showbackground": true,
            "ticks": "",
            "zerolinecolor": "white"
           },
           "zaxis": {
            "backgroundcolor": "#E5ECF6",
            "gridcolor": "white",
            "gridwidth": 2,
            "linecolor": "white",
            "showbackground": true,
            "ticks": "",
            "zerolinecolor": "white"
           }
          },
          "shapedefaults": {
           "line": {
            "color": "#2a3f5f"
           }
          },
          "ternary": {
           "aaxis": {
            "gridcolor": "white",
            "linecolor": "white",
            "ticks": ""
           },
           "baxis": {
            "gridcolor": "white",
            "linecolor": "white",
            "ticks": ""
           },
           "bgcolor": "#E5ECF6",
           "caxis": {
            "gridcolor": "white",
            "linecolor": "white",
            "ticks": ""
           }
          },
          "title": {
           "x": 0.05
          },
          "xaxis": {
           "automargin": true,
           "gridcolor": "white",
           "linecolor": "white",
           "ticks": "",
           "title": {
            "standoff": 15
           },
           "zerolinecolor": "white",
           "zerolinewidth": 2
          },
          "yaxis": {
           "automargin": true,
           "gridcolor": "white",
           "linecolor": "white",
           "ticks": "",
           "title": {
            "standoff": 15
           },
           "zerolinecolor": "white",
           "zerolinewidth": 2
          }
         }
        },
        "xaxis": {
         "anchor": "y",
         "domain": [
          0,
          0.2075
         ],
         "matches": "x5",
         "showticklabels": false
        },
        "xaxis2": {
         "anchor": "y2",
         "domain": [
          0.2575,
          0.46499999999999997
         ],
         "matches": "x6",
         "showticklabels": false
        },
        "xaxis3": {
         "anchor": "y3",
         "domain": [
          0.515,
          0.7225
         ],
         "matches": "x7",
         "showticklabels": false
        },
        "xaxis4": {
         "anchor": "y4",
         "domain": [
          0.7725,
          0.98
         ],
         "matches": "x8",
         "showticklabels": false
        },
        "xaxis5": {
         "anchor": "y5",
         "domain": [
          0,
          0.2075
         ]
        },
        "xaxis6": {
         "anchor": "y6",
         "domain": [
          0.2575,
          0.46499999999999997
         ]
        },
        "xaxis7": {
         "anchor": "y7",
         "domain": [
          0.515,
          0.7225
         ]
        },
        "xaxis8": {
         "anchor": "y8",
         "domain": [
          0.7725,
          0.98
         ]
        },
        "yaxis": {
         "anchor": "x",
         "domain": [
          0.575,
          1
         ]
        },
        "yaxis2": {
         "anchor": "x2",
         "domain": [
          0.575,
          1
         ],
         "matches": "y",
         "showticklabels": false
        },
        "yaxis3": {
         "anchor": "x3",
         "domain": [
          0.575,
          1
         ],
         "matches": "y",
         "showticklabels": false
        },
        "yaxis4": {
         "anchor": "x4",
         "domain": [
          0.575,
          1
         ],
         "matches": "y",
         "showticklabels": false
        },
        "yaxis5": {
         "anchor": "x5",
         "domain": [
          0,
          0.425
         ]
        },
        "yaxis6": {
         "anchor": "x6",
         "domain": [
          0,
          0.425
         ],
         "matches": "y5",
         "showticklabels": false
        },
        "yaxis7": {
         "anchor": "x7",
         "domain": [
          0,
          0.425
         ],
         "matches": "y5",
         "showticklabels": false
        },
        "yaxis8": {
         "anchor": "x8",
         "domain": [
          0,
          0.425
         ],
         "matches": "y5",
         "showticklabels": false
        }
       }
      }
     },
     "metadata": {},
     "output_type": "display_data"
    }
   ],
   "source": [
    "from plotly.subplots import make_subplots\n",
    "\n",
    "shift = 1.0\n",
    "magnitude = np.array([-9, -3, 4, 10], dtype=np.float64)\n",
    "\n",
    "shifts = []\n",
    "stds = []\n",
    "means = []\n",
    "s_abs_cnh_values = []\n",
    "s_rel_cnh_values = []\n",
    "s_abs_values = []\n",
    "s_rel_values = []\n",
    "\n",
    "for shift in np.arange(-8, 8, dtype=np.float64):\n",
    "    mean = np.power(basis, magnitude)\n",
    "    std = np.power(basis, magnitude - shift)\n",
    "    array = np.random.normal(loc=mean, scale=std, size=(10000, magnitude.size))\n",
    "\n",
    "    stds.append(std)\n",
    "    means.append(mean)\n",
    "\n",
    "    print(\"\\nShift: \", shift)\n",
    "    print(\"Type\", array.dtype)\n",
    "    print(array)\n",
    "    print(\"-\" * 20)\n",
    "\n",
    "    print(\"Theorical Mean\", mean)\n",
    "    print(\"Empirical mean\", array.mean(axis=0))\n",
    "    print(\"Mean diff     \", mean - array.mean(axis=0))\n",
    "    print(\"-\" * 20)\n",
    "\n",
    "    print(\"Theorical Std\", std)\n",
    "    print(\"Empirical std\", array.std(axis=0))\n",
    "    print(\"Std diff     \", std - array.std(axis=0))\n",
    "    print(\"-\" * 20)\n",
    "\n",
    "    s_abs_cnh = get_sd_cnh_abs(array, mean)\n",
    "    s_rel_cnh = get_sd_cnh_rel(array, mean)\n",
    "    s_abs = get_sd_gen_abs(array, mean)\n",
    "    s_rel = get_sd_gen_rel(array, mean)\n",
    "\n",
    "    print(\"CNH s_abs: \", s_abs_cnh)\n",
    "    print(\"CNH s_rel: \", s_rel_cnh)\n",
    "    print(\"General s_abs: \", s_abs)\n",
    "    print(\"General s_rel: \", s_rel)\n",
    "\n",
    "    shifts.append(shift)\n",
    "    s_abs_cnh_values.append(s_abs_cnh)\n",
    "    s_rel_cnh_values.append(s_rel_cnh)\n",
    "    s_abs_values.append(s_abs)\n",
    "    s_rel_values.append(s_rel)\n",
    "\n",
    "column_titles = [\n",
    "    f\"log{basis}(μ)={mag:.1f}, log{basis}(σ)={mag:.1f}-shift\" for mag in magnitude\n",
    "]\n",
    "\n",
    "# Plot the results\n",
    "fig = make_subplots(\n",
    "    rows=2,\n",
    "    cols=magnitude.size,\n",
    "    column_titles=column_titles,\n",
    "    row_titles=[\"Absolute\", \"Relative\"],\n",
    "    x_title=\"Shift\",\n",
    "    y_title=\"Significant Digits\",\n",
    "    shared_xaxes=True,\n",
    "    shared_yaxes=True,\n",
    "    specs=[\n",
    "        [{\"type\": \"scatter\"}] * magnitude.size,\n",
    "        [{\"type\": \"scatter\"}] * magnitude.size,\n",
    "    ],\n",
    ")\n",
    "\n",
    "\n",
    "for dim, _ in enumerate(magnitude, start=1):\n",
    "\n",
    "    add_sig_scatter(fig, shifts, s_abs_cnh_values, \"CNH\", \"Absolute\", dim)\n",
    "    add_sig_scatter(fig, shifts, s_rel_cnh_values, \"CNH\", \"Relative\", dim)\n",
    "    add_sig_scatter(fig, shifts, s_abs_values, \"General\", \"Absolute\", dim)\n",
    "    add_sig_scatter(fig, shifts, s_rel_values, \"General\", \"Relative\", dim)\n",
    "\n",
    "\n",
    "# Group Absolute and Relative traces together\n",
    "fig.data = sorted(fig.data, key=lambda trace: \"Absolute\" in trace.name)\n",
    "\n",
    "means = np.array(means)\n",
    "stds = np.array(stds)\n",
    "\n",
    "if basis == 2:\n",
    "    e_ref = np.floor(np.log2(np.abs(means))) + 1\n",
    "    # Reference line for absolute\n",
    "    abs_ref_line = -np.log2(stds) + (e_ref - 1)\n",
    "    # Reference line for relative\n",
    "    rel_ref_line = -np.log2(stds / np.abs(means))\n",
    "elif basis == 10:\n",
    "    e_ref = np.floor(np.log10(np.abs(means))) + 1\n",
    "    # Reference line for absolute\n",
    "    abs_ref_line = -np.log10(stds) + (e_ref - 1)\n",
    "    # Reference line for relative\n",
    "    rel_ref_line = -np.log10(stds / np.abs(means))\n",
    "else:\n",
    "    e_ref = np.floor(np.log(np.abs(means))) + 1\n",
    "    # Reference line for absolute\n",
    "    abs_ref_line = -np.log(np.array(stds)) + (e_ref - 1)\n",
    "    # Reference line for relative\n",
    "    rel_ref_line = -np.log(np.array(stds) / np.abs(np.array(means)))\n",
    "    # Convert to base basis\n",
    "    abs_ref_line = abs_ref_line / np.log(basis)\n",
    "    rel_ref_line = rel_ref_line / np.log(basis)\n",
    "\n",
    "\n",
    "print(\"e_ref: \", e_ref)\n",
    "print(\"abs_ref_line: \", abs_ref_line)\n",
    "print(\"rel_ref_line: \", rel_ref_line)\n",
    "\n",
    "\n",
    "for dim, _ in enumerate(magnitude, start=1):\n",
    "\n",
    "    add_ref_scatter(fig, shifts, abs_ref_line, \"Reference\", \"Absolute\", dim)\n",
    "    add_ref_scatter(fig, shifts, rel_ref_line, \"Reference\", \"Relative\", dim)\n",
    "\n",
    "\n",
    "# Add significant digits with Parker method\n",
    "if basis == 2:\n",
    "    parker_sd = -np.log2(stds / np.abs(means))\n",
    "elif basis == 10:\n",
    "    parker_sd = -np.log10(stds / np.abs(means))\n",
    "else:\n",
    "    # Reference line for absolute\n",
    "    parker_sd = -np.log(stds / np.abs(means))\n",
    "    # Convert to base basis\n",
    "    parker_sd = parker_sd / np.log(basis)\n",
    "\n",
    "\n",
    "for dim, _ in enumerate(magnitude, start=1):\n",
    "    add_parker_scatter(fig, shifts, parker_sd, \"Parker\", \"Absolute\", dim)\n",
    "    add_parker_scatter(fig, shifts, parker_sd, \"Parker\", \"Relative\", dim)\n",
    "\n",
    "\n",
    "fig.update_traces(marker=dict(size=12))\n",
    "# increase the height of the figure\n",
    "fig.update_layout(height=1200)\n",
    "\n",
    "fig.show()"
   ]
  },
  {
   "cell_type": "code",
   "execution_count": 13,
   "id": "91f4918e",
   "metadata": {},
   "outputs": [
    {
     "name": "stdout",
     "output_type": "stream",
     "text": [
      "\n",
      "Shift:  -8.0\n",
      "Type float64\n",
      "[[ 5.10481070e-02 -1.98864890e+05 -1.82277975e+12 -3.74025671e+17]\n",
      " [-1.33591039e-01 -9.15490856e+04  2.22559450e+12 -1.01141636e+18]\n",
      " [ 3.97395914e-02 -7.75776171e+04 -3.38077711e+10  3.23291130e+17]\n",
      " ...\n",
      " [ 2.70793957e-03 -1.21427335e+05 -2.88798050e+11  2.45584106e+18]\n",
      " [ 1.31809687e-01  4.56316244e+04  1.40185392e+12  4.70658660e+17]\n",
      " [-1.81128023e-02  1.60643673e+04  1.53131889e+12  1.29652664e+18]]\n",
      "--------------------\n",
      "Theorical Mean [1.e-09 1.e-03 1.e+04 1.e+10]\n",
      "Empirical mean [ 5.52872036e-04  1.10114984e+02 -6.73643338e+09  3.07299494e+15]\n",
      "Mean diff      [-5.52871036e-04 -1.10113984e+02  6.73644338e+09 -3.07298494e+15]\n",
      "--------------------\n",
      "Theorical Std [1.e-01 1.e+05 1.e+12 1.e+18]\n",
      "Empirical std [1.01075913e-01 9.98813245e+04 1.00412030e+12 1.00291456e+18]\n",
      "Std diff      [-1.07591331e-03  1.18675504e+02 -4.12029854e+09 -2.91455683e+15]\n",
      "--------------------\n",
      "CNH s_abs:  [-6.74172926 -6.71596597 -6.79457752 -6.7734558 ]\n",
      "CNH s_rel:  [-6.71082939 -6.70566601 -6.70796746 -6.70744565]\n",
      "General s_abs:  [0.30103 0.30103 0.30103 0.30103]\n",
      "General s_rel:  [0.30103 0.30103 0.30103 0.30103]\n",
      "\n",
      "Shift:  -7.0\n",
      "Type float64\n",
      "[[ 5.83792314e-03  1.75710532e+03  1.17618879e+11 -2.09571488e+17]\n",
      " [-1.06376112e-02 -6.93048806e+03  5.34735465e+09 -1.89289724e+16]\n",
      " [-4.10259031e-03 -1.12703504e+04 -8.51016092e+10 -7.94601487e+15]\n",
      " ...\n",
      " [ 3.25340504e-03 -1.68879249e+04  9.01649827e+09  8.79021718e+15]\n",
      " [-4.07605110e-03 -2.66858601e+03 -1.14184885e+11  1.74866843e+17]\n",
      " [-9.63139687e-03 -2.25712726e+03 -2.87552187e+10  8.30282514e+16]]\n",
      "--------------------\n",
      "Theorical Mean [1.e-09 1.e-03 1.e+04 1.e+10]\n",
      "Empirical mean [-1.38307057e-05  1.06516966e+02 -1.25732878e+09 -1.42116993e+15]\n",
      "Mean diff      [ 1.38317057e-05 -1.06515966e+02  1.25733878e+09  1.42117993e+15]\n",
      "--------------------\n",
      "Theorical Std [1.e-02 1.e+04 1.e+11 1.e+17]\n",
      "Empirical std [9.98156639e-03 9.95118908e+03 9.99963460e+10 9.99081557e+16]\n",
      "Std diff      [1.84336130e-05 4.88109245e+01 3.65396683e+06 9.18442928e+13]\n",
      "--------------------\n",
      "CNH s_abs:  [-5.73628029 -5.71435665 -5.79277591 -5.7717928 ]\n",
      "CNH s_rel:  [-5.70538042 -5.7040567  -5.70616585 -5.70578266]\n",
      "General s_abs:  [0.30103 0.30103 0.30103 0.30103]\n",
      "General s_rel:  [0.30103 0.30103 0.30103 0.30103]\n",
      "\n",
      "Shift:  -6.0\n",
      "Type float64\n",
      "[[ 3.95861857e-04 -1.38175821e+03 -1.02391053e+10 -7.95536753e+15]\n",
      " [ 7.71518639e-05 -1.61836854e+03  1.08338793e+10 -2.28519331e+16]\n",
      " [-5.28600091e-04  1.60342888e+03  6.79905496e+09 -6.82533728e+15]\n",
      " ...\n",
      " [ 7.18913476e-04  7.81729287e+01  1.61892081e+10 -4.86673103e+15]\n",
      " [-1.45376754e-03 -7.53143956e+01  1.12897738e+10 -4.27453823e+15]\n",
      " [ 2.31745362e-03  9.23880708e+02 -1.17351351e+10 -1.83597004e+16]]\n",
      "--------------------\n",
      "Theorical Mean [1.e-09 1.e-03 1.e+04 1.e+10]\n",
      "Empirical mean [ 1.21758170e-05  1.52648049e+01 -3.89817908e+07  1.25901844e+13]\n",
      "Mean diff      [-1.21748170e-05 -1.52638049e+01  3.89917908e+07 -1.25801844e+13]\n",
      "--------------------\n",
      "Theorical Std [1.e-03 1.e+03 1.e+10 1.e+16]\n",
      "Empirical std [9.96121928e-04 1.00424716e+03 9.96224167e+09 9.97743703e+15]\n",
      "Std diff      [ 3.87807163e-06 -4.24716489e+00  3.77583318e+07  2.25629653e+13]\n",
      "--------------------\n",
      "CNH s_abs:  [-4.73539409 -4.71832229 -4.79114885 -4.77121086]\n",
      "CNH s_rel:  [-4.70449422 -4.70802233 -4.70453879 -4.70520071]\n",
      "General s_abs:  [0.30103 0.30103 0.30103 0.30103]\n",
      "General s_rel:  [0.30103 0.30103 0.30103 0.30103]\n",
      "\n",
      "Shift:  -5.0\n",
      "Type float64\n",
      "[[-1.51128957e-04  8.98129432e+01  4.00387498e+08  1.61400120e+15]\n",
      " [ 2.09564985e-05  4.56079094e+01 -5.78608649e+08  5.07368723e+14]\n",
      " [ 3.61484084e-05 -6.62785024e+01 -1.74061237e+09  1.50524867e+14]\n",
      " ...\n",
      " [-2.05649706e-06 -6.33617163e+01 -1.56877532e+08 -4.35051380e+13]\n",
      " [ 1.62817017e-04 -3.98650272e+01  1.32051163e+08 -1.82458011e+14]\n",
      " [-3.72835723e-05  4.91967340e+01  9.10160571e+08  1.39702057e+15]]\n",
      "--------------------\n",
      "Theorical Mean [1.e-09 1.e-03 1.e+04 1.e+10]\n",
      "Empirical mean [ 7.82327477e-07  3.67149481e-01  5.49702807e+06 -2.24520213e+13]\n",
      "Mean diff      [-7.81327477e-07 -3.66149481e-01 -5.48702807e+06  2.24620213e+13]\n",
      "--------------------\n",
      "Theorical Std [1.e-04 1.e+02 1.e+09 1.e+15]\n",
      "Empirical std [9.94897126e-05 9.93162344e+01 9.96805023e+08 1.00318672e+15]\n",
      "Std diff      [ 5.10287443e-07  6.83765569e-01  3.19497719e+06 -3.18671781e+12]\n",
      "--------------------\n",
      "CNH s_abs:  [-3.73485976 -3.71350192 -3.79140199 -3.77357364]\n",
      "CNH s_rel:  [-3.70395989 -3.70320196 -3.70479194 -3.70756349]\n",
      "General s_abs:  [0.30103 0.30103 0.30103 0.30103]\n",
      "General s_rel:  [0.30103 0.30103 0.30103 0.30103]\n",
      "\n",
      "Shift:  -4.0\n",
      "Type float64\n",
      "[[ 3.70258387e-06  4.40638947e+00  1.48040537e+08  1.42632383e+14]\n",
      " [-1.22705299e-05  1.03945320e+01  7.56102491e+07  1.15977849e+14]\n",
      " [-1.11485320e-05 -3.25073485e+00 -1.49211644e+06  9.76567391e+13]\n",
      " ...\n",
      " [-2.40142783e-05 -1.04169921e+01 -7.30749889e+07 -6.09353880e+13]\n",
      " [-6.26829061e-06 -8.53480008e+00  3.98218687e+07  1.95633835e+14]\n",
      " [-9.02999768e-06  3.18422866e+00 -1.52757256e+08  1.04352949e+13]]\n",
      "--------------------\n",
      "Theorical Mean [1.e-09 1.e-03 1.e+04 1.e+10]\n",
      "Empirical mean [ 5.81310047e-08 -6.23654260e-02 -2.07685974e+06 -5.15430440e+11]\n",
      "Mean diff      [-5.71310047e-08  6.33654260e-02  2.08685974e+06  5.25430440e+11]\n",
      "--------------------\n",
      "Theorical Std [1.e-05 1.e+01 1.e+08 1.e+14]\n",
      "Empirical std [1.00928475e-05 1.00221544e+01 9.94166724e+07 9.94356936e+13]\n",
      "Std diff      [-9.28475360e-08 -2.21543773e-02  5.83327605e+05  5.64306384e+11]\n",
      "--------------------\n",
      "CNH s_abs:  [-2.7410953  -2.71744276 -2.790251   -2.76973417]\n",
      "CNH s_rel:  [-2.71019543 -2.70714281 -2.70364094 -2.70372403]\n",
      "General s_abs:  [0.30103 0.30103 0.30103 0.30103]\n",
      "General s_rel:  [0.30103 0.30103 0.30103 0.30103]\n",
      "\n",
      "Shift:  -3.0\n",
      "Type float64\n",
      "[[ 5.56303028e-07  8.90733374e-01 -1.14418535e+07 -5.66037010e+12]\n",
      " [-6.09691699e-07 -1.89820113e+00  4.92109477e+05 -8.77869069e+12]\n",
      " [ 1.67164670e-06 -8.84380028e-01  1.97664603e+07  2.22754289e+13]\n",
      " ...\n",
      " [ 9.59763112e-07  2.02978009e+00  4.33494729e+06 -5.18612968e+12]\n",
      " [ 2.37067691e-07 -3.73015200e-01 -6.53424720e+06  7.92385543e+12]\n",
      " [ 1.21310279e-08  2.31749691e-01  1.77601910e+07  1.12838116e+13]]\n",
      "--------------------\n",
      "Theorical Mean [1.e-09 1.e-03 1.e+04 1.e+10]\n",
      "Empirical mean [ 1.84029248e-08 -2.69632632e-03 -2.34944409e+04 -8.72708069e+10]\n",
      "Mean diff      [-1.74029248e-08  3.69632632e-03  3.34944409e+04  9.72708069e+10]\n",
      "--------------------\n",
      "Theorical Std [1.e-06 1.e+00 1.e+07 1.e+13]\n",
      "Empirical std [1.00405077e-06 9.96189405e-01 1.01619287e+07 1.00630104e+13]\n",
      "Std diff      [-4.05076549e-09  3.81059480e-03 -1.61928699e+05 -6.30104212e+10]\n",
      "--------------------\n",
      "CNH s_abs:  [-1.73883726 -1.71482359 -1.79976792 -1.77491978]\n",
      "CNH s_rel:  [-1.70793739 -1.70452364 -1.71315786 -1.70890964]\n",
      "General s_abs:  [0.30103 0.30103 0.30103 0.30103]\n",
      "General s_rel:  [0.30103 0.30103 0.30103 0.30103]\n",
      "\n",
      "Shift:  -2.0\n",
      "Type float64\n",
      "[[ 4.38781098e-08 -1.77064997e-01  8.14013356e+05  1.57525972e+12]\n",
      " [-8.08096774e-09 -3.78562230e-02  1.77263440e+06  6.66543492e+11]\n",
      " [ 9.30805916e-08  2.27424263e-02  4.46094462e+05  4.71770671e+11]\n",
      " ...\n",
      " [ 1.19419237e-07  3.48069953e-02 -1.91633471e+05  6.44229346e+11]\n",
      " [-8.06917094e-08  2.90887635e-02  2.91436896e+05 -4.05677477e+11]\n",
      " [-1.95258431e-08 -1.17266603e-03  2.47401162e+04  3.65026718e+11]]\n",
      "--------------------\n",
      "Theorical Mean [1.e-09 1.e-03 1.e+04 1.e+10]\n",
      "Empirical mean [ 1.69720949e-09  5.23388875e-04 -3.66275991e+03  5.52238906e+09]\n",
      "Mean diff      [-6.97209487e-10  4.76611125e-04  1.36627599e+04  4.47761094e+09]\n",
      "--------------------\n",
      "Theorical Std [1.e-07 1.e-01 1.e+06 1.e+12]\n",
      "Empirical std [1.00477887e-07 9.98817851e-02 1.00082681e+06 9.93927450e+11]\n",
      "Std diff      [-4.77886908e-10  1.18214900e-04 -8.26810649e+02  6.07254951e+09]\n",
      "--------------------\n",
      "CNH s_abs:  [-0.73915208 -0.71596797 -0.79315071 -0.76954655]\n",
      "CNH s_rel:  [-0.70825221 -0.70566801 -0.70654065 -0.7035364 ]\n",
      "General s_abs:  [0.30103 0.30103 0.30103 0.30103]\n",
      "General s_rel:  [0.30103 0.30103 0.30103 0.30103]\n",
      "\n",
      "Shift:  -1.0\n",
      "Type float64\n",
      "[[ 2.67154887e-09 -7.12489849e-03  3.18679722e+04 -8.05028715e+09]\n",
      " [ 1.27219496e-08 -2.65742485e-03  1.26738075e+05  1.48466442e+11]\n",
      " [ 6.47001328e-09 -5.18285181e-03  7.09157034e+04 -2.73531407e+10]\n",
      " ...\n",
      " [ 7.73345743e-09 -1.21420484e-02 -1.10798497e+04 -5.49426177e+10]\n",
      " [ 1.15227245e-09 -5.51698036e-03 -1.02601787e+04  5.08321433e+10]\n",
      " [-8.97719103e-09  1.57314200e-02 -2.83412151e+04 -6.86589649e+10]]\n",
      "--------------------\n",
      "Theorical Mean [1.e-09 1.e-03 1.e+04 1.e+10]\n",
      "Empirical mean [1.10140817e-09 9.98898819e-04 1.04882994e+04 1.15996657e+10]\n",
      "Mean diff      [-1.01408171e-10  1.10118071e-06 -4.88299434e+02 -1.59966571e+09]\n",
      "--------------------\n",
      "Theorical Std [1.e-08 1.e-02 1.e+05 1.e+11]\n",
      "Empirical std [1.00118512e-08 9.96838164e-03 9.94716837e+04 1.00106768e+11]\n",
      "Std diff      [-1.18512204e-11  3.16183586e-05  5.28316325e+02 -1.06767931e+08]\n",
      "--------------------\n",
      "CNH s_abs:  [0.26240402 0.28489367 0.20950876 0.2273447 ]\n",
      "CNH s_rel:  [0.29330389 0.29519362 0.29611881 0.29335484]\n",
      "General s_abs:  [0.30103 0.30103 0.30103 0.30103]\n",
      "General s_rel:  [0.30103 0.30103 0.30103 0.30103]\n",
      "\n",
      "Shift:  0.0\n",
      "Type float64\n",
      "[[ 3.59885831e-09  2.01155444e-03  1.87189926e+04  2.30097896e+10]\n",
      " [ 1.13426073e-09  7.78004455e-04  1.10694925e+04 -2.73489627e+09]\n",
      " [-6.32415511e-10 -1.11213241e-03 -8.10219558e+03  4.34631293e+09]\n",
      " ...\n",
      " [ 2.02887740e-09  1.04671557e-03  7.60781294e+02 -7.84988830e+09]\n",
      " [ 1.93512081e-09  7.64710701e-04  1.76280764e+02 -1.21795247e+10]\n",
      " [ 2.86718031e-09  6.23058641e-04  1.59079376e+04  1.42760977e+10]]\n",
      "--------------------\n",
      "Theorical Mean [1.e-09 1.e-03 1.e+04 1.e+10]\n",
      "Empirical mean [9.98192793e-10 9.94175763e-04 9.97894235e+03 9.97510201e+09]\n",
      "Mean diff      [1.80720702e-12 5.82423749e-06 2.10576480e+01 2.48979897e+07]\n",
      "--------------------\n",
      "Theorical Std [1.e-09 1.e-03 1.e+04 1.e+10]\n",
      "Empirical std [9.97707964e-10 9.86287198e-04 1.00091125e+04 1.00213029e+10]\n",
      "Std diff      [ 2.29203592e-12  1.37128019e-05 -9.11250135e+00 -2.13028649e+07]\n",
      "--------------------\n",
      "CNH s_abs:  [1.26391497 1.28951493 1.20681265 1.22688395]\n",
      "CNH s_rel:  [1.29481484 1.29981489 1.29342271 1.29289409]\n",
      "General s_abs:  [0.30103 0.30103 0.30103 0.30103]\n",
      "General s_rel:  [0.30103 0.30103 0.30103 0.30103]\n",
      "\n",
      "Shift:  1.0\n",
      "Type float64\n",
      "[[1.04249367e-09 8.96315884e-04 9.01833064e+03 1.08197157e+10]\n",
      " [9.35105854e-10 9.74044564e-04 1.13176277e+04 9.61780476e+09]\n",
      " [1.16328748e-09 9.37934210e-04 8.67725377e+03 1.12940066e+10]\n",
      " ...\n",
      " [1.02322340e-09 9.81732681e-04 1.09291699e+04 7.83522233e+09]\n",
      " [1.01371406e-09 1.28204890e-03 1.05455631e+04 8.14763266e+09]\n",
      " [9.73377613e-10 1.05319946e-03 9.42671369e+03 1.00890936e+10]]\n",
      "--------------------\n",
      "Theorical Mean [1.e-09 1.e-03 1.e+04 1.e+10]\n",
      "Empirical mean [1.00050350e-09 1.00098566e-03 1.00066167e+04 1.00073483e+10]\n",
      "Mean diff      [-5.03502415e-13 -9.85662236e-07 -6.61665476e+00 -7.34834967e+06]\n",
      "--------------------\n",
      "Theorical Std [1.e-10 1.e-04 1.e+03 1.e+09]\n",
      "Empirical std [1.00582152e-10 1.00288184e-04 1.00320729e+03 9.94211863e+08]\n",
      "Std diff      [-5.82151776e-13 -2.88183917e-07 -3.20728835e+00  5.78813661e+06]\n",
      "--------------------\n",
      "CNH s_abs:  [2.26039749 2.28226856 2.20581755 2.2303292 ]\n",
      "CNH s_rel:  [2.29129736 2.29256851 2.2924276  2.29633934]\n",
      "General s_abs:  [0.30103 0.30103 0.30103 0.30103]\n",
      "General s_rel:  [0.30103 0.30103 0.30103 0.30103]\n",
      "\n",
      "Shift:  2.0\n",
      "Type float64\n",
      "[[1.01045743e-09 1.00012711e-03 1.01128143e+04 1.00106938e+10]\n",
      " [1.01326998e-09 1.00791339e-03 1.01359040e+04 1.00013608e+10]\n",
      " [1.01124761e-09 9.94831340e-04 9.87568783e+03 1.00629169e+10]\n",
      " ...\n",
      " [1.01684462e-09 1.00666146e-03 9.81319766e+03 9.94927349e+09]\n",
      " [9.89572126e-10 9.97455692e-04 1.00470945e+04 1.00170601e+10]\n",
      " [1.00160822e-09 9.94506209e-04 1.01244864e+04 9.91834690e+09]]\n",
      "--------------------\n",
      "Theorical Mean [1.e-09 1.e-03 1.e+04 1.e+10]\n",
      "Empirical mean [9.99845068e-10 9.99867069e-04 1.00010522e+04 9.99774492e+09]\n",
      "Mean diff      [ 1.54932462e-13  1.32930819e-07 -1.05221899e+00  2.25507822e+06]\n",
      "--------------------\n",
      "Theorical Std [1.e-11 1.e-05 1.e+02 1.e+08]\n",
      "Empirical std [9.95565028e-12 1.00661084e-05 9.92630503e+01 1.00001226e+08]\n",
      "Std diff      [ 4.43497216e-14 -6.61083946e-08  7.36949702e-01 -1.22559443e+03]\n",
      "--------------------\n",
      "CNH s_abs:  [3.26484878 3.28065672 3.21042061 3.22780282]\n",
      "CNH s_rel:  [3.29574865 3.29095668 3.29703066 3.29381296]\n",
      "General s_abs:  [1.20411998 1.20411998 1.20411998 1.20411998]\n",
      "General s_rel:  [1.20411998 1.20411998 1.20411998 1.20411998]\n",
      "\n",
      "Shift:  3.0\n",
      "Type float64\n",
      "[[1.00192943e-09 1.00118352e-03 9.98937793e+03 1.00143864e+10]\n",
      " [9.99349728e-10 9.99513743e-04 9.99443076e+03 9.99870245e+09]\n",
      " [9.99914530e-10 9.97881686e-04 1.00004522e+04 1.00095859e+10]\n",
      " ...\n",
      " [9.99010809e-10 9.98768811e-04 1.00076905e+04 9.98833322e+09]\n",
      " [9.99562756e-10 9.99941198e-04 9.97819569e+03 9.99691153e+09]\n",
      " [9.98973886e-10 9.99450490e-04 1.00128756e+04 9.99644691e+09]]\n",
      "--------------------\n",
      "Theorical Mean [1.e-09 1.e-03 1.e+04 1.e+10]\n",
      "Empirical mean [1.00001523e-09 1.00001279e-03 1.00000433e+04 1.00000046e+10]\n",
      "Mean diff      [-1.52293780e-14 -1.27882283e-08 -4.32689381e-02 -4.59726935e+03]\n",
      "--------------------\n",
      "Theorical Std [1.e-12 1.e-06 1.e+01 1.e+07]\n",
      "Empirical std [9.87756638e-13 9.96493996e-07 1.00693775e+01 1.00983011e+07]\n",
      "Std diff      [ 1.22433621e-14  3.50600373e-09 -6.93774616e-02 -9.83010842e+04]\n",
      "--------------------\n",
      "CNH s_abs:  [4.26826845 4.28504364 4.2042056  4.22355982]\n",
      "CNH s_rel:  [4.29916832 4.2953436  4.29081566 4.28956997]\n",
      "General s_abs:  [2.10720997 2.40823997 2.10720997 2.10720997]\n",
      "General s_rel:  [2.10720997 2.40823997 2.10720997 2.10720997]\n",
      "\n",
      "Shift:  4.0\n",
      "Type float64\n",
      "[[9.99894007e-10 9.99934316e-04 1.00000116e+04 9.99920183e+09]\n",
      " [9.99932169e-10 9.99913818e-04 1.00011507e+04 9.99949466e+09]\n",
      " [1.00007553e-09 9.99931959e-04 9.99928097e+03 9.99951802e+09]\n",
      " ...\n",
      " [9.99931767e-10 9.99816272e-04 9.99956615e+03 9.99971462e+09]\n",
      " [9.99925736e-10 1.00003015e-03 9.99983166e+03 9.99829552e+09]\n",
      " [9.99883385e-10 9.99882726e-04 1.00024488e+04 9.99928121e+09]]\n",
      "--------------------\n",
      "Theorical Mean [1.e-09 1.e-03 1.e+04 1.e+10]\n",
      "Empirical mean [1.00000039e-09 1.00000229e-03 9.99999876e+03 1.00000043e+10]\n",
      "Mean diff      [-3.91412334e-16 -2.29144133e-09  1.23973644e-03 -4.34662393e+03]\n",
      "--------------------\n",
      "Theorical Std [1.e-13 1.e-07 1.e+00 1.e+06]\n",
      "Empirical std [9.99510321e-14 9.88097011e-08 1.00745805e+00 1.00275590e+06]\n",
      "Std diff      [ 4.89679156e-17  1.19029886e-09 -7.45805268e-03 -2.75590196e+03]\n",
      "--------------------\n",
      "CNH s_abs:  [5.26313113 5.28871874 5.20398125 5.22661291]\n",
      "CNH s_rel:  [5.294031   5.2990187  5.29059131 5.29262305]\n",
      "General s_abs:  [3.31132995 3.31132995 3.31132995 3.31132995]\n",
      "General s_rel:  [3.31132995 3.31132995 3.31132995 3.31132995]\n",
      "\n",
      "Shift:  5.0\n",
      "Type float64\n",
      "[[1.00000309e-09 9.99994584e-04 9.99984257e+03 9.99992264e+09]\n",
      " [1.00000647e-09 9.99988521e-04 1.00000583e+04 9.99990551e+09]\n",
      " [1.00000397e-09 1.00000440e-03 1.00000966e+04 9.99987406e+09]\n",
      " ...\n",
      " [9.99999394e-10 9.99979866e-04 1.00000223e+04 9.99993921e+09]\n",
      " [1.00000450e-09 9.99995785e-04 9.99993070e+03 9.99993258e+09]\n",
      " [1.00001733e-09 9.99994291e-04 1.00000580e+04 9.99986905e+09]]\n",
      "--------------------\n",
      "Theorical Mean [1.e-09 1.e-03 1.e+04 1.e+10]\n",
      "Empirical mean [9.99999998e-10 1.00000013e-03 9.99999922e+03 1.00000010e+10]\n",
      "Mean diff      [ 2.18698468e-18 -1.28114993e-10  7.79601280e-04 -1.03379570e+03]\n",
      "--------------------\n",
      "Theorical Std [1.e-14 1.e-08 1.e-01 1.e+05]\n",
      "Empirical std [9.98172392e-15 9.86111075e-09 9.93633931e-02 1.00653833e+05]\n",
      "Std diff      [ 1.82760782e-17  1.38889245e-10  6.36606899e-04 -6.53832935e+02]\n",
      "--------------------\n",
      "CNH s_abs:  [6.26371286 6.28959249 6.20998181 6.22497782]\n",
      "CNH s_rel:  [6.29461273 6.29989244 6.29659187 6.29098796]\n",
      "General s_abs:  [4.21441994 4.21441994 4.21441994 4.21441994]\n",
      "General s_rel:  [4.21441994 4.21441994 4.21441994 4.21441994]\n",
      "\n",
      "Shift:  6.0\n",
      "Type float64\n",
      "[[1.00000179e-09 1.00000091e-03 1.00000087e+04 1.00000013e+10]\n",
      " [9.99999641e-10 1.00000107e-03 9.99999305e+03 9.99998990e+09]\n",
      " [1.00000057e-09 1.00000060e-03 9.99998659e+03 1.00000144e+10]\n",
      " ...\n",
      " [9.99998021e-10 9.99998117e-04 1.00000000e+04 9.99999578e+09]\n",
      " [1.00000158e-09 1.00000010e-03 9.99999674e+03 1.00000136e+10]\n",
      " [9.99999129e-10 9.99999018e-04 1.00000179e+04 1.00000064e+10]]\n",
      "--------------------\n",
      "Theorical Mean [1.e-09 1.e-03 1.e+04 1.e+10]\n",
      "Empirical mean [9.99999999e-10 1.00000000e-03 9.99999997e+03 1.00000001e+10]\n",
      "Mean diff      [ 1.09015891e-18 -2.53474867e-12  2.54622646e-05 -5.09725399e+01]\n",
      "--------------------\n",
      "Theorical Std [1.e-15 1.e-09 1.e-02 1.e+04]\n",
      "Empirical std [1.00499303e-15 1.00911529e-09 9.98437732e-03 1.00373878e+04]\n",
      "Std diff      [-4.99302993e-18 -9.11529307e-12  1.56226785e-05 -3.73878266e+01]\n",
      "--------------------\n",
      "CNH s_abs:  [7.26075536 7.27957754 7.20788724 7.22618743]\n",
      "CNH s_rel:  [7.29165523 7.28987749 7.2944973  7.29219758]\n",
      "General s_abs:  [5.11750993 5.11750993 5.11750993 5.11750993]\n",
      "General s_rel:  [5.11750993 5.11750993 5.41853992 5.11750993]\n",
      "\n",
      "Shift:  7.0\n",
      "Type float64\n",
      "[[9.99999918e-10 1.00000010e-03 1.00000001e+04 9.99999992e+09]\n",
      " [9.99999963e-10 9.99999957e-04 9.99999933e+03 1.00000006e+10]\n",
      " [9.99999903e-10 1.00000005e-03 1.00000005e+04 9.99999888e+09]\n",
      " ...\n",
      " [9.99999976e-10 1.00000010e-03 1.00000008e+04 1.00000017e+10]\n",
      " [1.00000002e-09 1.00000005e-03 1.00000008e+04 9.99999956e+09]\n",
      " [1.00000012e-09 1.00000014e-03 1.00000009e+04 1.00000005e+10]]\n",
      "--------------------\n",
      "Theorical Mean [1.e-09 1.e-03 1.e+04 1.e+10]\n",
      "Empirical mean [9.99999999e-10 1.00000000e-03 1.00000000e+04 1.00000000e+10]\n",
      "Mean diff      [ 7.58938626e-19  3.85007347e-13 -1.80782044e-05 -1.47865047e+01]\n",
      "--------------------\n",
      "Theorical Std [1.e-16 1.e-10 1.e-03 1.e+03]\n",
      "Empirical std [1.01089321e-16 9.91723568e-11 1.00067274e-03 1.00604761e+03]\n",
      "Std diff      [-1.08932087e-18  8.27643191e-13 -6.72741644e-07 -6.04761024e+00]\n",
      "--------------------\n",
      "CNH s_abs:  [8.25821313 8.28712769 8.20691616 8.2251896 ]\n",
      "CNH s_rel:  [8.289113   8.29742765 8.29352621 8.29119975]\n",
      "General s_abs:  [6.32162991 6.32162991 6.32162991 6.32162991]\n",
      "General s_rel:  [6.32162991 6.32162991 6.32162991 6.32162991]\n",
      "e_ref:  [[-8. -2.  5. 11.]\n",
      " [-8. -2.  5. 11.]\n",
      " [-8. -2.  5. 11.]\n",
      " [-8. -2.  5. 11.]\n",
      " [-8. -2.  5. 11.]\n",
      " [-8. -2.  5. 11.]\n",
      " [-8. -2.  5. 11.]\n",
      " [-8. -2.  5. 11.]\n",
      " [-8. -2.  5. 11.]\n",
      " [-8. -2.  5. 11.]\n",
      " [-8. -2.  5. 11.]\n",
      " [-8. -2.  5. 11.]\n",
      " [-8. -2.  5. 11.]\n",
      " [-8. -2.  5. 11.]\n",
      " [-8. -2.  5. 11.]\n",
      " [-8. -2.  5. 11.]]\n",
      "abs_ref_line:  [[-8. -8. -8. -8.]\n",
      " [-7. -7. -7. -7.]\n",
      " [-6. -6. -6. -6.]\n",
      " [-5. -5. -5. -5.]\n",
      " [-4. -4. -4. -4.]\n",
      " [-3. -3. -3. -3.]\n",
      " [-2. -2. -2. -2.]\n",
      " [-1. -1. -1. -1.]\n",
      " [ 0.  0.  0.  0.]\n",
      " [ 1.  1.  1.  1.]\n",
      " [ 2.  2.  2.  2.]\n",
      " [ 3.  3.  3.  3.]\n",
      " [ 4.  4.  4.  4.]\n",
      " [ 5.  5.  5.  5.]\n",
      " [ 6.  6.  6.  6.]\n",
      " [ 7.  7.  7.  7.]]\n",
      "rel_ref_line:  [[-8. -8. -8. -8.]\n",
      " [-7. -7. -7. -7.]\n",
      " [-6. -6. -6. -6.]\n",
      " [-5. -5. -5. -5.]\n",
      " [-4. -4. -4. -4.]\n",
      " [-3. -3. -3. -3.]\n",
      " [-2. -2. -2. -2.]\n",
      " [-1. -1. -1. -1.]\n",
      " [-0. -0. -0. -0.]\n",
      " [ 1.  1.  1.  1.]\n",
      " [ 2.  2.  2.  2.]\n",
      " [ 3.  3.  3.  3.]\n",
      " [ 4.  4.  4.  4.]\n",
      " [ 5.  5.  5.  5.]\n",
      " [ 6.  6.  6.  6.]\n",
      " [ 7.  7.  7.  7.]]\n"
     ]
    },
    {
     "data": {
      "application/vnd.plotly.v1+json": {
       "config": {
        "plotlyServerURL": "https://plot.ly"
       },
       "data": [
        {
         "legendgroup": "Absolute_Dim2",
         "legendgrouptitle": {
          "text": "Absolute x[0]"
         },
         "marker": {
          "color": "blue",
          "size": 12,
          "symbol": "circle"
         },
         "mode": "lines+markers",
         "name": "CNH",
         "type": "scatter",
         "x": [
          -8,
          -7,
          -6,
          -5,
          -4,
          -3,
          -2,
          -1,
          0,
          1,
          2,
          3,
          4,
          5,
          6,
          7
         ],
         "xaxis": "x",
         "y": [
          -6.741729262655431,
          -5.736280287969683,
          -4.7353940890305255,
          -3.7348597644978656,
          -2.741095301168237,
          -1.7388372599705768,
          -0.7391520814769647,
          0.2624040244027519,
          1.263914972683884,
          2.2603974892782466,
          3.264848779288585,
          4.268268454702035,
          5.2631311286600955,
          6.263712857798758,
          7.2607553618742005,
          8.258213132713003
         ],
         "yaxis": "y"
        },
        {
         "legendgroup": "Relative_Dim2",
         "legendgrouptitle": {
          "text": "Relative x[0]"
         },
         "marker": {
          "color": "blue",
          "size": 12,
          "symbol": "square"
         },
         "mode": "lines+markers",
         "name": "CNH",
         "type": "scatter",
         "x": [
          -8,
          -7,
          -6,
          -5,
          -4,
          -3,
          -2,
          -1,
          0,
          1,
          2,
          3,
          4,
          5,
          6,
          7
         ],
         "xaxis": "x5",
         "y": [
          -6.710829392735996,
          -5.705380418050246,
          -4.704494219111089,
          -3.7039598945784302,
          -2.7101954312488017,
          -1.707937390051141,
          -0.7082522115575293,
          0.2933038943221872,
          1.2948148426033206,
          2.2912973591976824,
          3.2957486492080217,
          4.29916832462147,
          5.294030998579533,
          6.294612727718192,
          7.291655231793424,
          8.289113002635302
         ],
         "yaxis": "y5"
        },
        {
         "legendgroup": "Absolute_Dim2",
         "legendgrouptitle": {
          "text": "Absolute x[0]"
         },
         "marker": {
          "color": "red",
          "size": 12,
          "symbol": "circle"
         },
         "mode": "lines+markers",
         "name": "General",
         "type": "scatter",
         "x": [
          -8,
          -7,
          -6,
          -5,
          -4,
          -3,
          -2,
          -1,
          0,
          1,
          2,
          3,
          4,
          5,
          6,
          7
         ],
         "xaxis": "x",
         "y": [
          0.30102999566398114,
          0.30102999566398114,
          0.30102999566398114,
          0.30102999566398114,
          0.30102999566398114,
          0.30102999566398114,
          0.30102999566398114,
          0.30102999566398114,
          0.30102999566398114,
          0.30102999566398114,
          1.2041199826559246,
          2.107209969647868,
          3.3113299523037925,
          4.214419939295736,
          5.1175099262876795,
          6.321629908943604
         ],
         "yaxis": "y"
        },
        {
         "legendgroup": "Relative_Dim2",
         "legendgrouptitle": {
          "text": "Relative x[0]"
         },
         "marker": {
          "color": "red",
          "size": 12,
          "symbol": "square"
         },
         "mode": "lines+markers",
         "name": "General",
         "type": "scatter",
         "x": [
          -8,
          -7,
          -6,
          -5,
          -4,
          -3,
          -2,
          -1,
          0,
          1,
          2,
          3,
          4,
          5,
          6,
          7
         ],
         "xaxis": "x5",
         "y": [
          0.30102999566398114,
          0.30102999566398114,
          0.30102999566398114,
          0.30102999566398114,
          0.30102999566398114,
          0.30102999566398114,
          0.30102999566398114,
          0.30102999566398114,
          0.30102999566398114,
          0.30102999566398114,
          1.2041199826559246,
          2.107209969647868,
          3.3113299523037925,
          4.214419939295736,
          5.1175099262876795,
          6.321629908943604
         ],
         "yaxis": "y5"
        },
        {
         "legendgroup": "Absolute_Dim3",
         "legendgrouptitle": {
          "text": "Absolute x[1]"
         },
         "marker": {
          "color": "blue",
          "size": 12,
          "symbol": "circle"
         },
         "mode": "lines+markers",
         "name": "CNH",
         "type": "scatter",
         "x": [
          -8,
          -7,
          -6,
          -5,
          -4,
          -3,
          -2,
          -1,
          0,
          1,
          2,
          3,
          4,
          5,
          6,
          7
         ],
         "xaxis": "x2",
         "y": [
          -6.7159659678677945,
          -5.714356653141328,
          -4.718322289440415,
          -3.713501920047408,
          -2.717442763259284,
          -1.7148235936572607,
          -0.7159679706184358,
          0.2848936682173285,
          1.289514928832218,
          2.282268558000019,
          3.280656722212303,
          4.285043638416288,
          5.288718739180634,
          6.289592488297178,
          7.279577536974507,
          8.287127690629971
         ],
         "yaxis": "y2"
        },
        {
         "legendgroup": "Relative_Dim3",
         "legendgrouptitle": {
          "text": "Relative x[1]"
         },
         "marker": {
          "color": "blue",
          "size": 12,
          "symbol": "square"
         },
         "mode": "lines+markers",
         "name": "CNH",
         "type": "scatter",
         "x": [
          -8,
          -7,
          -6,
          -5,
          -4,
          -3,
          -2,
          -1,
          0,
          1,
          2,
          3,
          4,
          5,
          6,
          7
         ],
         "xaxis": "x6",
         "y": [
          -6.705666011227983,
          -5.704056696501514,
          -4.708022332800604,
          -3.7032019634075954,
          -2.7071428066194727,
          -1.7045236370174492,
          -0.7056680139786243,
          0.29519362485713974,
          1.2998148854720286,
          2.2925685146398296,
          3.290956678852117,
          4.2953435950560985,
          5.299018695820449,
          6.2998924449370035,
          7.289877493614659,
          8.297427647274286
         ],
         "yaxis": "y6"
        },
        {
         "legendgroup": "Absolute_Dim3",
         "legendgrouptitle": {
          "text": "Absolute x[1]"
         },
         "marker": {
          "color": "red",
          "size": 12,
          "symbol": "circle"
         },
         "mode": "lines+markers",
         "name": "General",
         "type": "scatter",
         "x": [
          -8,
          -7,
          -6,
          -5,
          -4,
          -3,
          -2,
          -1,
          0,
          1,
          2,
          3,
          4,
          5,
          6,
          7
         ],
         "xaxis": "x2",
         "y": [
          0.30102999566398114,
          0.30102999566398114,
          0.30102999566398114,
          0.30102999566398114,
          0.30102999566398114,
          0.30102999566398114,
          0.30102999566398114,
          0.30102999566398114,
          0.30102999566398114,
          0.30102999566398114,
          1.2041199826559246,
          2.408239965311849,
          3.3113299523037925,
          4.214419939295736,
          5.1175099262876795,
          6.321629908943604
         ],
         "yaxis": "y2"
        },
        {
         "legendgroup": "Relative_Dim3",
         "legendgrouptitle": {
          "text": "Relative x[1]"
         },
         "marker": {
          "color": "red",
          "size": 12,
          "symbol": "square"
         },
         "mode": "lines+markers",
         "name": "General",
         "type": "scatter",
         "x": [
          -8,
          -7,
          -6,
          -5,
          -4,
          -3,
          -2,
          -1,
          0,
          1,
          2,
          3,
          4,
          5,
          6,
          7
         ],
         "xaxis": "x6",
         "y": [
          0.30102999566398114,
          0.30102999566398114,
          0.30102999566398114,
          0.30102999566398114,
          0.30102999566398114,
          0.30102999566398114,
          0.30102999566398114,
          0.30102999566398114,
          0.30102999566398114,
          0.30102999566398114,
          1.2041199826559246,
          2.408239965311849,
          3.3113299523037925,
          4.214419939295736,
          5.1175099262876795,
          6.321629908943604
         ],
         "yaxis": "y6"
        },
        {
         "legendgroup": "Absolute_Dim4",
         "legendgrouptitle": {
          "text": "Absolute x[2]"
         },
         "marker": {
          "color": "blue",
          "size": 12,
          "symbol": "circle"
         },
         "mode": "lines+markers",
         "name": "CNH",
         "type": "scatter",
         "x": [
          -8,
          -7,
          -6,
          -5,
          -4,
          -3,
          -2,
          -1,
          0,
          1,
          2,
          3,
          4,
          5,
          6,
          7
         ],
         "xaxis": "x3",
         "y": [
          -6.794577521364182,
          -5.792775905563455,
          -4.791148847648169,
          -3.791401992521795,
          -2.7902509974769805,
          -1.7997679181913073,
          -0.7931507057687982,
          0.20950875622269227,
          1.20681265446957,
          2.2058175465013896,
          3.210420608478918,
          4.204205604006317,
          5.203981252608944,
          6.209981811620722,
          7.207887240014981,
          8.20691615541913
         ],
         "yaxis": "y3"
        },
        {
         "legendgroup": "Relative_Dim4",
         "legendgrouptitle": {
          "text": "Relative x[2]"
         },
         "marker": {
          "color": "blue",
          "size": 12,
          "symbol": "square"
         },
         "mode": "lines+markers",
         "name": "CNH",
         "type": "scatter",
         "x": [
          -8,
          -7,
          -6,
          -5,
          -4,
          -3,
          -2,
          -1,
          0,
          1,
          2,
          3,
          4,
          5,
          6,
          7
         ],
         "xaxis": "x7",
         "y": [
          -6.707967464995939,
          -5.70616584919521,
          -4.7045387912799255,
          -3.7047919361535504,
          -2.703640941108736,
          -1.713157861823062,
          -0.7065406494005549,
          0.2961188125909358,
          1.2934227108378142,
          2.2924276028696347,
          3.2970306648471603,
          4.290815660374562,
          5.290591308977196,
          6.296591867988986,
          7.294497296383188,
          8.2935262117895
         ],
         "yaxis": "y7"
        },
        {
         "legendgroup": "Absolute_Dim4",
         "legendgrouptitle": {
          "text": "Absolute x[2]"
         },
         "marker": {
          "color": "red",
          "size": 12,
          "symbol": "circle"
         },
         "mode": "lines+markers",
         "name": "General",
         "type": "scatter",
         "x": [
          -8,
          -7,
          -6,
          -5,
          -4,
          -3,
          -2,
          -1,
          0,
          1,
          2,
          3,
          4,
          5,
          6,
          7
         ],
         "xaxis": "x3",
         "y": [
          0.30102999566398114,
          0.30102999566398114,
          0.30102999566398114,
          0.30102999566398114,
          0.30102999566398114,
          0.30102999566398114,
          0.30102999566398114,
          0.30102999566398114,
          0.30102999566398114,
          0.30102999566398114,
          1.2041199826559246,
          2.107209969647868,
          3.3113299523037925,
          4.214419939295736,
          5.1175099262876795,
          6.321629908943604
         ],
         "yaxis": "y3"
        },
        {
         "legendgroup": "Relative_Dim4",
         "legendgrouptitle": {
          "text": "Relative x[2]"
         },
         "marker": {
          "color": "red",
          "size": 12,
          "symbol": "square"
         },
         "mode": "lines+markers",
         "name": "General",
         "type": "scatter",
         "x": [
          -8,
          -7,
          -6,
          -5,
          -4,
          -3,
          -2,
          -1,
          0,
          1,
          2,
          3,
          4,
          5,
          6,
          7
         ],
         "xaxis": "x7",
         "y": [
          0.30102999566398114,
          0.30102999566398114,
          0.30102999566398114,
          0.30102999566398114,
          0.30102999566398114,
          0.30102999566398114,
          0.30102999566398114,
          0.30102999566398114,
          0.30102999566398114,
          0.30102999566398114,
          1.2041199826559246,
          2.107209969647868,
          3.3113299523037925,
          4.214419939295736,
          5.418539921951661,
          6.321629908943604
         ],
         "yaxis": "y7"
        },
        {
         "legendgroup": "Absolute_Dim5",
         "legendgrouptitle": {
          "text": "Absolute x[3]"
         },
         "marker": {
          "color": "blue",
          "size": 12,
          "symbol": "circle"
         },
         "mode": "lines+markers",
         "name": "CNH",
         "type": "scatter",
         "x": [
          -8,
          -7,
          -6,
          -5,
          -4,
          -3,
          -2,
          -1,
          0,
          1,
          2,
          3,
          4,
          5,
          6,
          7
         ],
         "xaxis": "x4",
         "y": [
          -6.773455796488011,
          -5.7717928035706745,
          -4.771210857284177,
          -3.7735736350160707,
          -2.7697341690671435,
          -1.774919783994464,
          -0.769546546749929,
          0.2273446985740154,
          1.2268839508241085,
          2.2303291974148522,
          3.227802815793555,
          4.22355982326234,
          5.226612911642365,
          6.224977820814587,
          7.226187433618276,
          8.225189604671574
         ],
         "yaxis": "y4"
        },
        {
         "legendgroup": "Relative_Dim5",
         "legendgrouptitle": {
          "text": "Relative x[3]"
         },
         "marker": {
          "color": "blue",
          "size": 12,
          "symbol": "square"
         },
         "mode": "lines+markers",
         "name": "CNH",
         "type": "scatter",
         "x": [
          -8,
          -7,
          -6,
          -5,
          -4,
          -3,
          -2,
          -1,
          0,
          1,
          2,
          3,
          4,
          5,
          6,
          7
         ],
         "xaxis": "x8",
         "y": [
          -6.707445653399391,
          -5.705782660482052,
          -4.705200714195559,
          -3.707563491927449,
          -2.7037240259785205,
          -1.708909640905843,
          -0.7035364036613079,
          0.2933548416626349,
          1.2928940939127296,
          2.296339340503473,
          3.293812958882175,
          4.289569966350961,
          5.292623054730989,
          6.290987963903223,
          7.292197576707051,
          8.291199747760867
         ],
         "yaxis": "y8"
        },
        {
         "legendgroup": "Absolute_Dim5",
         "legendgrouptitle": {
          "text": "Absolute x[3]"
         },
         "marker": {
          "color": "red",
          "size": 12,
          "symbol": "circle"
         },
         "mode": "lines+markers",
         "name": "General",
         "type": "scatter",
         "x": [
          -8,
          -7,
          -6,
          -5,
          -4,
          -3,
          -2,
          -1,
          0,
          1,
          2,
          3,
          4,
          5,
          6,
          7
         ],
         "xaxis": "x4",
         "y": [
          0.30102999566398114,
          0.30102999566398114,
          0.30102999566398114,
          0.30102999566398114,
          0.30102999566398114,
          0.30102999566398114,
          0.30102999566398114,
          0.30102999566398114,
          0.30102999566398114,
          0.30102999566398114,
          1.2041199826559246,
          2.107209969647868,
          3.3113299523037925,
          4.214419939295736,
          5.1175099262876795,
          6.321629908943604
         ],
         "yaxis": "y4"
        },
        {
         "legendgroup": "Relative_Dim5",
         "legendgrouptitle": {
          "text": "Relative x[3]"
         },
         "marker": {
          "color": "red",
          "size": 12,
          "symbol": "square"
         },
         "mode": "lines+markers",
         "name": "General",
         "type": "scatter",
         "x": [
          -8,
          -7,
          -6,
          -5,
          -4,
          -3,
          -2,
          -1,
          0,
          1,
          2,
          3,
          4,
          5,
          6,
          7
         ],
         "xaxis": "x8",
         "y": [
          0.30102999566398114,
          0.30102999566398114,
          0.30102999566398114,
          0.30102999566398114,
          0.30102999566398114,
          0.30102999566398114,
          0.30102999566398114,
          0.30102999566398114,
          0.30102999566398114,
          0.30102999566398114,
          1.2041199826559246,
          2.107209969647868,
          3.3113299523037925,
          4.214419939295736,
          5.1175099262876795,
          6.321629908943604
         ],
         "yaxis": "y8"
        },
        {
         "legendgroup": "Absolute_Dim2",
         "legendgrouptitle": {
          "text": "Absolute x[0]"
         },
         "marker": {
          "color": "black",
          "size": 12,
          "symbol": "circle"
         },
         "mode": "lines+markers",
         "name": "Reference",
         "type": "scatter",
         "x": [
          -8,
          -7,
          -6,
          -5,
          -4,
          -3,
          -2,
          -1,
          0,
          1,
          2,
          3,
          4,
          5,
          6,
          7
         ],
         "xaxis": "x",
         "y": {
          "bdata": "AAAAAAAAIMAAAAAAAAAcwAAAAAAAABjAAAAAAAAAFMAAAAAAAAAQwAAAAAAAAAjAAAAAAAAAAMAAAAAAAADwvwAAAAAAAAAAAAAAAAAA8D8AAAAAAAAAQAAAAAAAAAhAAAAAAAAAEEAAAAAAAAAUQAAAAAAAABhAAAAAAAAAHEA=",
          "dtype": "f8"
         },
         "yaxis": "y"
        },
        {
         "legendgroup": "Relative_Dim2",
         "legendgrouptitle": {
          "text": "Relative x[0]"
         },
         "marker": {
          "color": "black",
          "size": 12,
          "symbol": "square"
         },
         "mode": "lines+markers",
         "name": "Reference",
         "type": "scatter",
         "x": [
          -8,
          -7,
          -6,
          -5,
          -4,
          -3,
          -2,
          -1,
          0,
          1,
          2,
          3,
          4,
          5,
          6,
          7
         ],
         "xaxis": "x5",
         "y": {
          "bdata": "AAAAAAAAIMAAAAAAAAAcwAAAAAAAABjAAAAAAAAAFMAAAAAAAAAQwAAAAAAAAAjAAAAAAAAAAMAAAAAAAADwvwAAAAAAAACAAAAAAAAA8D8AAAAAAAAAQAAAAAAAAAhAAAAAAAAAEEAAAAAAAAAUQAAAAAAAABhAAAAAAAAAHEA=",
          "dtype": "f8"
         },
         "yaxis": "y5"
        },
        {
         "legendgroup": "Absolute_Dim3",
         "legendgrouptitle": {
          "text": "Absolute x[1]"
         },
         "marker": {
          "color": "black",
          "size": 12,
          "symbol": "circle"
         },
         "mode": "lines+markers",
         "name": "Reference",
         "type": "scatter",
         "x": [
          -8,
          -7,
          -6,
          -5,
          -4,
          -3,
          -2,
          -1,
          0,
          1,
          2,
          3,
          4,
          5,
          6,
          7
         ],
         "xaxis": "x2",
         "y": {
          "bdata": "AAAAAAAAIMAAAAAAAAAcwAAAAAAAABjAAAAAAAAAFMAAAAAAAAAQwAAAAAAAAAjAAAAAAAAAAMAAAAAAAADwvwAAAAAAAAAAAAAAAAAA8D8AAAAAAAAAQAAAAAAAAAhAAAAAAAAAEEAAAAAAAAAUQAAAAAAAABhAAAAAAAAAHEA=",
          "dtype": "f8"
         },
         "yaxis": "y2"
        },
        {
         "legendgroup": "Relative_Dim3",
         "legendgrouptitle": {
          "text": "Relative x[1]"
         },
         "marker": {
          "color": "black",
          "size": 12,
          "symbol": "square"
         },
         "mode": "lines+markers",
         "name": "Reference",
         "type": "scatter",
         "x": [
          -8,
          -7,
          -6,
          -5,
          -4,
          -3,
          -2,
          -1,
          0,
          1,
          2,
          3,
          4,
          5,
          6,
          7
         ],
         "xaxis": "x6",
         "y": {
          "bdata": "AAAAAAAAIMAAAAAAAAAcwAAAAAAAABjAAAAAAAAAFMAAAAAAAAAQwAAAAAAAAAjAAAAAAAAAAMAAAAAAAADwvwAAAAAAAACAAAAAAAAA8D8AAAAAAAAAQAAAAAAAAAhAAAAAAAAAEEAAAAAAAAAUQAAAAAAAABhAAAAAAAAAHEA=",
          "dtype": "f8"
         },
         "yaxis": "y6"
        },
        {
         "legendgroup": "Absolute_Dim4",
         "legendgrouptitle": {
          "text": "Absolute x[2]"
         },
         "marker": {
          "color": "black",
          "size": 12,
          "symbol": "circle"
         },
         "mode": "lines+markers",
         "name": "Reference",
         "type": "scatter",
         "x": [
          -8,
          -7,
          -6,
          -5,
          -4,
          -3,
          -2,
          -1,
          0,
          1,
          2,
          3,
          4,
          5,
          6,
          7
         ],
         "xaxis": "x3",
         "y": {
          "bdata": "AAAAAAAAIMAAAAAAAAAcwAAAAAAAABjAAAAAAAAAFMAAAAAAAAAQwAAAAAAAAAjAAAAAAAAAAMAAAAAAAADwvwAAAAAAAAAAAAAAAAAA8D8AAAAAAAAAQAAAAAAAAAhAAAAAAAAAEEAAAAAAAAAUQAAAAAAAABhAAAAAAAAAHEA=",
          "dtype": "f8"
         },
         "yaxis": "y3"
        },
        {
         "legendgroup": "Relative_Dim4",
         "legendgrouptitle": {
          "text": "Relative x[2]"
         },
         "marker": {
          "color": "black",
          "size": 12,
          "symbol": "square"
         },
         "mode": "lines+markers",
         "name": "Reference",
         "type": "scatter",
         "x": [
          -8,
          -7,
          -6,
          -5,
          -4,
          -3,
          -2,
          -1,
          0,
          1,
          2,
          3,
          4,
          5,
          6,
          7
         ],
         "xaxis": "x7",
         "y": {
          "bdata": "AAAAAAAAIMAAAAAAAAAcwAAAAAAAABjAAAAAAAAAFMAAAAAAAAAQwAAAAAAAAAjAAAAAAAAAAMAAAAAAAADwvwAAAAAAAACAAAAAAAAA8D8AAAAAAAAAQAAAAAAAAAhAAAAAAAAAEEAAAAAAAAAUQAAAAAAAABhAAAAAAAAAHEA=",
          "dtype": "f8"
         },
         "yaxis": "y7"
        },
        {
         "legendgroup": "Absolute_Dim5",
         "legendgrouptitle": {
          "text": "Absolute x[3]"
         },
         "marker": {
          "color": "black",
          "size": 12,
          "symbol": "circle"
         },
         "mode": "lines+markers",
         "name": "Reference",
         "type": "scatter",
         "x": [
          -8,
          -7,
          -6,
          -5,
          -4,
          -3,
          -2,
          -1,
          0,
          1,
          2,
          3,
          4,
          5,
          6,
          7
         ],
         "xaxis": "x4",
         "y": {
          "bdata": "AAAAAAAAIMAAAAAAAAAcwAAAAAAAABjAAAAAAAAAFMAAAAAAAAAQwAAAAAAAAAjAAAAAAAAAAMAAAAAAAADwvwAAAAAAAAAAAAAAAAAA8D8AAAAAAAAAQAAAAAAAAAhAAAAAAAAAEEAAAAAAAAAUQAAAAAAAABhAAAAAAAAAHEA=",
          "dtype": "f8"
         },
         "yaxis": "y4"
        },
        {
         "legendgroup": "Relative_Dim5",
         "legendgrouptitle": {
          "text": "Relative x[3]"
         },
         "marker": {
          "color": "black",
          "size": 12,
          "symbol": "square"
         },
         "mode": "lines+markers",
         "name": "Reference",
         "type": "scatter",
         "x": [
          -8,
          -7,
          -6,
          -5,
          -4,
          -3,
          -2,
          -1,
          0,
          1,
          2,
          3,
          4,
          5,
          6,
          7
         ],
         "xaxis": "x8",
         "y": {
          "bdata": "AAAAAAAAIMAAAAAAAAAcwAAAAAAAABjAAAAAAAAAFMAAAAAAAAAQwAAAAAAAAAjAAAAAAAAAAMAAAAAAAADwvwAAAAAAAACAAAAAAAAA8D8AAAAAAAAAQAAAAAAAAAhAAAAAAAAAEEAAAAAAAAAUQAAAAAAAABhAAAAAAAAAHEA=",
          "dtype": "f8"
         },
         "yaxis": "y8"
        },
        {
         "legendgroup": "Absolute_Dim2",
         "legendgrouptitle": {
          "text": "Absolute x[0]"
         },
         "marker": {
          "color": "green",
          "size": 12,
          "symbol": "diamond"
         },
         "mode": "lines+markers",
         "name": "Parker",
         "type": "scatter",
         "x": [
          -8,
          -7,
          -6,
          -5,
          -4,
          -3,
          -2,
          -1,
          0,
          1,
          2,
          3,
          4,
          5,
          6,
          7
         ],
         "xaxis": "x",
         "y": {
          "bdata": "AAAAAAAAIMAAAAAAAAAcwAAAAAAAABjAAAAAAAAAFMAAAAAAAAAQwAAAAAAAAAjAAAAAAAAAAMAAAAAAAADwvwAAAAAAAACAAAAAAAAA8D8AAAAAAAAAQAAAAAAAAAhAAAAAAAAAEEAAAAAAAAAUQAAAAAAAABhAAAAAAAAAHEA=",
          "dtype": "f8"
         },
         "yaxis": "y"
        },
        {
         "legendgroup": "Relative_Dim2",
         "legendgrouptitle": {
          "text": "Relative x[0]"
         },
         "marker": {
          "color": "green",
          "size": 12,
          "symbol": "diamond"
         },
         "mode": "lines+markers",
         "name": "Parker",
         "type": "scatter",
         "x": [
          -8,
          -7,
          -6,
          -5,
          -4,
          -3,
          -2,
          -1,
          0,
          1,
          2,
          3,
          4,
          5,
          6,
          7
         ],
         "xaxis": "x5",
         "y": {
          "bdata": "AAAAAAAAIMAAAAAAAAAcwAAAAAAAABjAAAAAAAAAFMAAAAAAAAAQwAAAAAAAAAjAAAAAAAAAAMAAAAAAAADwvwAAAAAAAACAAAAAAAAA8D8AAAAAAAAAQAAAAAAAAAhAAAAAAAAAEEAAAAAAAAAUQAAAAAAAABhAAAAAAAAAHEA=",
          "dtype": "f8"
         },
         "yaxis": "y5"
        },
        {
         "legendgroup": "Absolute_Dim3",
         "legendgrouptitle": {
          "text": "Absolute x[1]"
         },
         "marker": {
          "color": "green",
          "size": 12,
          "symbol": "diamond"
         },
         "mode": "lines+markers",
         "name": "Parker",
         "type": "scatter",
         "x": [
          -8,
          -7,
          -6,
          -5,
          -4,
          -3,
          -2,
          -1,
          0,
          1,
          2,
          3,
          4,
          5,
          6,
          7
         ],
         "xaxis": "x2",
         "y": {
          "bdata": "AAAAAAAAIMAAAAAAAAAcwAAAAAAAABjAAAAAAAAAFMAAAAAAAAAQwAAAAAAAAAjAAAAAAAAAAMAAAAAAAADwvwAAAAAAAACAAAAAAAAA8D8AAAAAAAAAQAAAAAAAAAhAAAAAAAAAEEAAAAAAAAAUQAAAAAAAABhAAAAAAAAAHEA=",
          "dtype": "f8"
         },
         "yaxis": "y2"
        },
        {
         "legendgroup": "Relative_Dim3",
         "legendgrouptitle": {
          "text": "Relative x[1]"
         },
         "marker": {
          "color": "green",
          "size": 12,
          "symbol": "diamond"
         },
         "mode": "lines+markers",
         "name": "Parker",
         "type": "scatter",
         "x": [
          -8,
          -7,
          -6,
          -5,
          -4,
          -3,
          -2,
          -1,
          0,
          1,
          2,
          3,
          4,
          5,
          6,
          7
         ],
         "xaxis": "x6",
         "y": {
          "bdata": "AAAAAAAAIMAAAAAAAAAcwAAAAAAAABjAAAAAAAAAFMAAAAAAAAAQwAAAAAAAAAjAAAAAAAAAAMAAAAAAAADwvwAAAAAAAACAAAAAAAAA8D8AAAAAAAAAQAAAAAAAAAhAAAAAAAAAEEAAAAAAAAAUQAAAAAAAABhAAAAAAAAAHEA=",
          "dtype": "f8"
         },
         "yaxis": "y6"
        },
        {
         "legendgroup": "Absolute_Dim4",
         "legendgrouptitle": {
          "text": "Absolute x[2]"
         },
         "marker": {
          "color": "green",
          "size": 12,
          "symbol": "diamond"
         },
         "mode": "lines+markers",
         "name": "Parker",
         "type": "scatter",
         "x": [
          -8,
          -7,
          -6,
          -5,
          -4,
          -3,
          -2,
          -1,
          0,
          1,
          2,
          3,
          4,
          5,
          6,
          7
         ],
         "xaxis": "x3",
         "y": {
          "bdata": "AAAAAAAAIMAAAAAAAAAcwAAAAAAAABjAAAAAAAAAFMAAAAAAAAAQwAAAAAAAAAjAAAAAAAAAAMAAAAAAAADwvwAAAAAAAACAAAAAAAAA8D8AAAAAAAAAQAAAAAAAAAhAAAAAAAAAEEAAAAAAAAAUQAAAAAAAABhAAAAAAAAAHEA=",
          "dtype": "f8"
         },
         "yaxis": "y3"
        },
        {
         "legendgroup": "Relative_Dim4",
         "legendgrouptitle": {
          "text": "Relative x[2]"
         },
         "marker": {
          "color": "green",
          "size": 12,
          "symbol": "diamond"
         },
         "mode": "lines+markers",
         "name": "Parker",
         "type": "scatter",
         "x": [
          -8,
          -7,
          -6,
          -5,
          -4,
          -3,
          -2,
          -1,
          0,
          1,
          2,
          3,
          4,
          5,
          6,
          7
         ],
         "xaxis": "x7",
         "y": {
          "bdata": "AAAAAAAAIMAAAAAAAAAcwAAAAAAAABjAAAAAAAAAFMAAAAAAAAAQwAAAAAAAAAjAAAAAAAAAAMAAAAAAAADwvwAAAAAAAACAAAAAAAAA8D8AAAAAAAAAQAAAAAAAAAhAAAAAAAAAEEAAAAAAAAAUQAAAAAAAABhAAAAAAAAAHEA=",
          "dtype": "f8"
         },
         "yaxis": "y7"
        },
        {
         "legendgroup": "Absolute_Dim5",
         "legendgrouptitle": {
          "text": "Absolute x[3]"
         },
         "marker": {
          "color": "green",
          "size": 12,
          "symbol": "diamond"
         },
         "mode": "lines+markers",
         "name": "Parker",
         "type": "scatter",
         "x": [
          -8,
          -7,
          -6,
          -5,
          -4,
          -3,
          -2,
          -1,
          0,
          1,
          2,
          3,
          4,
          5,
          6,
          7
         ],
         "xaxis": "x4",
         "y": {
          "bdata": "AAAAAAAAIMAAAAAAAAAcwAAAAAAAABjAAAAAAAAAFMAAAAAAAAAQwAAAAAAAAAjAAAAAAAAAAMAAAAAAAADwvwAAAAAAAACAAAAAAAAA8D8AAAAAAAAAQAAAAAAAAAhAAAAAAAAAEEAAAAAAAAAUQAAAAAAAABhAAAAAAAAAHEA=",
          "dtype": "f8"
         },
         "yaxis": "y4"
        },
        {
         "legendgroup": "Relative_Dim5",
         "legendgrouptitle": {
          "text": "Relative x[3]"
         },
         "marker": {
          "color": "green",
          "size": 12,
          "symbol": "diamond"
         },
         "mode": "lines+markers",
         "name": "Parker",
         "type": "scatter",
         "x": [
          -8,
          -7,
          -6,
          -5,
          -4,
          -3,
          -2,
          -1,
          0,
          1,
          2,
          3,
          4,
          5,
          6,
          7
         ],
         "xaxis": "x8",
         "y": {
          "bdata": "AAAAAAAAIMAAAAAAAAAcwAAAAAAAABjAAAAAAAAAFMAAAAAAAAAQwAAAAAAAAAjAAAAAAAAAAMAAAAAAAADwvwAAAAAAAACAAAAAAAAA8D8AAAAAAAAAQAAAAAAAAAhAAAAAAAAAEEAAAAAAAAAUQAAAAAAAABhAAAAAAAAAHEA=",
          "dtype": "f8"
         },
         "yaxis": "y8"
        }
       ],
       "layout": {
        "annotations": [
         {
          "font": {
           "size": 16
          },
          "showarrow": false,
          "text": "log10(μ)=-9.0, log10(σ)=-9.0-shift",
          "x": 0.10375,
          "xanchor": "center",
          "xref": "paper",
          "y": 1,
          "yanchor": "bottom",
          "yref": "paper"
         },
         {
          "font": {
           "size": 16
          },
          "showarrow": false,
          "text": "log10(μ)=-3.0, log10(σ)=-3.0-shift",
          "x": 0.36124999999999996,
          "xanchor": "center",
          "xref": "paper",
          "y": 1,
          "yanchor": "bottom",
          "yref": "paper"
         },
         {
          "font": {
           "size": 16
          },
          "showarrow": false,
          "text": "log10(μ)=4.0, log10(σ)=4.0-shift",
          "x": 0.61875,
          "xanchor": "center",
          "xref": "paper",
          "y": 1,
          "yanchor": "bottom",
          "yref": "paper"
         },
         {
          "font": {
           "size": 16
          },
          "showarrow": false,
          "text": "log10(μ)=10.0, log10(σ)=10.0-shift",
          "x": 0.87625,
          "xanchor": "center",
          "xref": "paper",
          "y": 1,
          "yanchor": "bottom",
          "yref": "paper"
         },
         {
          "font": {
           "size": 16
          },
          "showarrow": false,
          "text": "Absolute",
          "textangle": 90,
          "x": 0.98,
          "xanchor": "left",
          "xref": "paper",
          "y": 0.7875,
          "yanchor": "middle",
          "yref": "paper"
         },
         {
          "font": {
           "size": 16
          },
          "showarrow": false,
          "text": "Relative",
          "textangle": 90,
          "x": 0.98,
          "xanchor": "left",
          "xref": "paper",
          "y": 0.2125,
          "yanchor": "middle",
          "yref": "paper"
         },
         {
          "font": {
           "size": 16
          },
          "showarrow": false,
          "text": "Shift",
          "x": 0.49,
          "xanchor": "center",
          "xref": "paper",
          "y": 0,
          "yanchor": "top",
          "yref": "paper",
          "yshift": -30
         },
         {
          "font": {
           "size": 16
          },
          "showarrow": false,
          "text": "Significant Digits",
          "textangle": -90,
          "x": 0,
          "xanchor": "right",
          "xref": "paper",
          "xshift": -40,
          "y": 0.5,
          "yanchor": "middle",
          "yref": "paper"
         }
        ],
        "height": 1200,
        "template": {
         "data": {
          "bar": [
           {
            "error_x": {
             "color": "#2a3f5f"
            },
            "error_y": {
             "color": "#2a3f5f"
            },
            "marker": {
             "line": {
              "color": "#E5ECF6",
              "width": 0.5
             },
             "pattern": {
              "fillmode": "overlay",
              "size": 10,
              "solidity": 0.2
             }
            },
            "type": "bar"
           }
          ],
          "barpolar": [
           {
            "marker": {
             "line": {
              "color": "#E5ECF6",
              "width": 0.5
             },
             "pattern": {
              "fillmode": "overlay",
              "size": 10,
              "solidity": 0.2
             }
            },
            "type": "barpolar"
           }
          ],
          "carpet": [
           {
            "aaxis": {
             "endlinecolor": "#2a3f5f",
             "gridcolor": "white",
             "linecolor": "white",
             "minorgridcolor": "white",
             "startlinecolor": "#2a3f5f"
            },
            "baxis": {
             "endlinecolor": "#2a3f5f",
             "gridcolor": "white",
             "linecolor": "white",
             "minorgridcolor": "white",
             "startlinecolor": "#2a3f5f"
            },
            "type": "carpet"
           }
          ],
          "choropleth": [
           {
            "colorbar": {
             "outlinewidth": 0,
             "ticks": ""
            },
            "type": "choropleth"
           }
          ],
          "contour": [
           {
            "colorbar": {
             "outlinewidth": 0,
             "ticks": ""
            },
            "colorscale": [
             [
              0,
              "#0d0887"
             ],
             [
              0.1111111111111111,
              "#46039f"
             ],
             [
              0.2222222222222222,
              "#7201a8"
             ],
             [
              0.3333333333333333,
              "#9c179e"
             ],
             [
              0.4444444444444444,
              "#bd3786"
             ],
             [
              0.5555555555555556,
              "#d8576b"
             ],
             [
              0.6666666666666666,
              "#ed7953"
             ],
             [
              0.7777777777777778,
              "#fb9f3a"
             ],
             [
              0.8888888888888888,
              "#fdca26"
             ],
             [
              1,
              "#f0f921"
             ]
            ],
            "type": "contour"
           }
          ],
          "contourcarpet": [
           {
            "colorbar": {
             "outlinewidth": 0,
             "ticks": ""
            },
            "type": "contourcarpet"
           }
          ],
          "heatmap": [
           {
            "colorbar": {
             "outlinewidth": 0,
             "ticks": ""
            },
            "colorscale": [
             [
              0,
              "#0d0887"
             ],
             [
              0.1111111111111111,
              "#46039f"
             ],
             [
              0.2222222222222222,
              "#7201a8"
             ],
             [
              0.3333333333333333,
              "#9c179e"
             ],
             [
              0.4444444444444444,
              "#bd3786"
             ],
             [
              0.5555555555555556,
              "#d8576b"
             ],
             [
              0.6666666666666666,
              "#ed7953"
             ],
             [
              0.7777777777777778,
              "#fb9f3a"
             ],
             [
              0.8888888888888888,
              "#fdca26"
             ],
             [
              1,
              "#f0f921"
             ]
            ],
            "type": "heatmap"
           }
          ],
          "histogram": [
           {
            "marker": {
             "pattern": {
              "fillmode": "overlay",
              "size": 10,
              "solidity": 0.2
             }
            },
            "type": "histogram"
           }
          ],
          "histogram2d": [
           {
            "colorbar": {
             "outlinewidth": 0,
             "ticks": ""
            },
            "colorscale": [
             [
              0,
              "#0d0887"
             ],
             [
              0.1111111111111111,
              "#46039f"
             ],
             [
              0.2222222222222222,
              "#7201a8"
             ],
             [
              0.3333333333333333,
              "#9c179e"
             ],
             [
              0.4444444444444444,
              "#bd3786"
             ],
             [
              0.5555555555555556,
              "#d8576b"
             ],
             [
              0.6666666666666666,
              "#ed7953"
             ],
             [
              0.7777777777777778,
              "#fb9f3a"
             ],
             [
              0.8888888888888888,
              "#fdca26"
             ],
             [
              1,
              "#f0f921"
             ]
            ],
            "type": "histogram2d"
           }
          ],
          "histogram2dcontour": [
           {
            "colorbar": {
             "outlinewidth": 0,
             "ticks": ""
            },
            "colorscale": [
             [
              0,
              "#0d0887"
             ],
             [
              0.1111111111111111,
              "#46039f"
             ],
             [
              0.2222222222222222,
              "#7201a8"
             ],
             [
              0.3333333333333333,
              "#9c179e"
             ],
             [
              0.4444444444444444,
              "#bd3786"
             ],
             [
              0.5555555555555556,
              "#d8576b"
             ],
             [
              0.6666666666666666,
              "#ed7953"
             ],
             [
              0.7777777777777778,
              "#fb9f3a"
             ],
             [
              0.8888888888888888,
              "#fdca26"
             ],
             [
              1,
              "#f0f921"
             ]
            ],
            "type": "histogram2dcontour"
           }
          ],
          "mesh3d": [
           {
            "colorbar": {
             "outlinewidth": 0,
             "ticks": ""
            },
            "type": "mesh3d"
           }
          ],
          "parcoords": [
           {
            "line": {
             "colorbar": {
              "outlinewidth": 0,
              "ticks": ""
             }
            },
            "type": "parcoords"
           }
          ],
          "pie": [
           {
            "automargin": true,
            "type": "pie"
           }
          ],
          "scatter": [
           {
            "fillpattern": {
             "fillmode": "overlay",
             "size": 10,
             "solidity": 0.2
            },
            "type": "scatter"
           }
          ],
          "scatter3d": [
           {
            "line": {
             "colorbar": {
              "outlinewidth": 0,
              "ticks": ""
             }
            },
            "marker": {
             "colorbar": {
              "outlinewidth": 0,
              "ticks": ""
             }
            },
            "type": "scatter3d"
           }
          ],
          "scattercarpet": [
           {
            "marker": {
             "colorbar": {
              "outlinewidth": 0,
              "ticks": ""
             }
            },
            "type": "scattercarpet"
           }
          ],
          "scattergeo": [
           {
            "marker": {
             "colorbar": {
              "outlinewidth": 0,
              "ticks": ""
             }
            },
            "type": "scattergeo"
           }
          ],
          "scattergl": [
           {
            "marker": {
             "colorbar": {
              "outlinewidth": 0,
              "ticks": ""
             }
            },
            "type": "scattergl"
           }
          ],
          "scattermap": [
           {
            "marker": {
             "colorbar": {
              "outlinewidth": 0,
              "ticks": ""
             }
            },
            "type": "scattermap"
           }
          ],
          "scattermapbox": [
           {
            "marker": {
             "colorbar": {
              "outlinewidth": 0,
              "ticks": ""
             }
            },
            "type": "scattermapbox"
           }
          ],
          "scatterpolar": [
           {
            "marker": {
             "colorbar": {
              "outlinewidth": 0,
              "ticks": ""
             }
            },
            "type": "scatterpolar"
           }
          ],
          "scatterpolargl": [
           {
            "marker": {
             "colorbar": {
              "outlinewidth": 0,
              "ticks": ""
             }
            },
            "type": "scatterpolargl"
           }
          ],
          "scatterternary": [
           {
            "marker": {
             "colorbar": {
              "outlinewidth": 0,
              "ticks": ""
             }
            },
            "type": "scatterternary"
           }
          ],
          "surface": [
           {
            "colorbar": {
             "outlinewidth": 0,
             "ticks": ""
            },
            "colorscale": [
             [
              0,
              "#0d0887"
             ],
             [
              0.1111111111111111,
              "#46039f"
             ],
             [
              0.2222222222222222,
              "#7201a8"
             ],
             [
              0.3333333333333333,
              "#9c179e"
             ],
             [
              0.4444444444444444,
              "#bd3786"
             ],
             [
              0.5555555555555556,
              "#d8576b"
             ],
             [
              0.6666666666666666,
              "#ed7953"
             ],
             [
              0.7777777777777778,
              "#fb9f3a"
             ],
             [
              0.8888888888888888,
              "#fdca26"
             ],
             [
              1,
              "#f0f921"
             ]
            ],
            "type": "surface"
           }
          ],
          "table": [
           {
            "cells": {
             "fill": {
              "color": "#EBF0F8"
             },
             "line": {
              "color": "white"
             }
            },
            "header": {
             "fill": {
              "color": "#C8D4E3"
             },
             "line": {
              "color": "white"
             }
            },
            "type": "table"
           }
          ]
         },
         "layout": {
          "annotationdefaults": {
           "arrowcolor": "#2a3f5f",
           "arrowhead": 0,
           "arrowwidth": 1
          },
          "autotypenumbers": "strict",
          "coloraxis": {
           "colorbar": {
            "outlinewidth": 0,
            "ticks": ""
           }
          },
          "colorscale": {
           "diverging": [
            [
             0,
             "#8e0152"
            ],
            [
             0.1,
             "#c51b7d"
            ],
            [
             0.2,
             "#de77ae"
            ],
            [
             0.3,
             "#f1b6da"
            ],
            [
             0.4,
             "#fde0ef"
            ],
            [
             0.5,
             "#f7f7f7"
            ],
            [
             0.6,
             "#e6f5d0"
            ],
            [
             0.7,
             "#b8e186"
            ],
            [
             0.8,
             "#7fbc41"
            ],
            [
             0.9,
             "#4d9221"
            ],
            [
             1,
             "#276419"
            ]
           ],
           "sequential": [
            [
             0,
             "#0d0887"
            ],
            [
             0.1111111111111111,
             "#46039f"
            ],
            [
             0.2222222222222222,
             "#7201a8"
            ],
            [
             0.3333333333333333,
             "#9c179e"
            ],
            [
             0.4444444444444444,
             "#bd3786"
            ],
            [
             0.5555555555555556,
             "#d8576b"
            ],
            [
             0.6666666666666666,
             "#ed7953"
            ],
            [
             0.7777777777777778,
             "#fb9f3a"
            ],
            [
             0.8888888888888888,
             "#fdca26"
            ],
            [
             1,
             "#f0f921"
            ]
           ],
           "sequentialminus": [
            [
             0,
             "#0d0887"
            ],
            [
             0.1111111111111111,
             "#46039f"
            ],
            [
             0.2222222222222222,
             "#7201a8"
            ],
            [
             0.3333333333333333,
             "#9c179e"
            ],
            [
             0.4444444444444444,
             "#bd3786"
            ],
            [
             0.5555555555555556,
             "#d8576b"
            ],
            [
             0.6666666666666666,
             "#ed7953"
            ],
            [
             0.7777777777777778,
             "#fb9f3a"
            ],
            [
             0.8888888888888888,
             "#fdca26"
            ],
            [
             1,
             "#f0f921"
            ]
           ]
          },
          "colorway": [
           "#636efa",
           "#EF553B",
           "#00cc96",
           "#ab63fa",
           "#FFA15A",
           "#19d3f3",
           "#FF6692",
           "#B6E880",
           "#FF97FF",
           "#FECB52"
          ],
          "font": {
           "color": "#2a3f5f"
          },
          "geo": {
           "bgcolor": "white",
           "lakecolor": "white",
           "landcolor": "#E5ECF6",
           "showlakes": true,
           "showland": true,
           "subunitcolor": "white"
          },
          "hoverlabel": {
           "align": "left"
          },
          "hovermode": "closest",
          "mapbox": {
           "style": "light"
          },
          "paper_bgcolor": "white",
          "plot_bgcolor": "#E5ECF6",
          "polar": {
           "angularaxis": {
            "gridcolor": "white",
            "linecolor": "white",
            "ticks": ""
           },
           "bgcolor": "#E5ECF6",
           "radialaxis": {
            "gridcolor": "white",
            "linecolor": "white",
            "ticks": ""
           }
          },
          "scene": {
           "xaxis": {
            "backgroundcolor": "#E5ECF6",
            "gridcolor": "white",
            "gridwidth": 2,
            "linecolor": "white",
            "showbackground": true,
            "ticks": "",
            "zerolinecolor": "white"
           },
           "yaxis": {
            "backgroundcolor": "#E5ECF6",
            "gridcolor": "white",
            "gridwidth": 2,
            "linecolor": "white",
            "showbackground": true,
            "ticks": "",
            "zerolinecolor": "white"
           },
           "zaxis": {
            "backgroundcolor": "#E5ECF6",
            "gridcolor": "white",
            "gridwidth": 2,
            "linecolor": "white",
            "showbackground": true,
            "ticks": "",
            "zerolinecolor": "white"
           }
          },
          "shapedefaults": {
           "line": {
            "color": "#2a3f5f"
           }
          },
          "ternary": {
           "aaxis": {
            "gridcolor": "white",
            "linecolor": "white",
            "ticks": ""
           },
           "baxis": {
            "gridcolor": "white",
            "linecolor": "white",
            "ticks": ""
           },
           "bgcolor": "#E5ECF6",
           "caxis": {
            "gridcolor": "white",
            "linecolor": "white",
            "ticks": ""
           }
          },
          "title": {
           "x": 0.05
          },
          "xaxis": {
           "automargin": true,
           "gridcolor": "white",
           "linecolor": "white",
           "ticks": "",
           "title": {
            "standoff": 15
           },
           "zerolinecolor": "white",
           "zerolinewidth": 2
          },
          "yaxis": {
           "automargin": true,
           "gridcolor": "white",
           "linecolor": "white",
           "ticks": "",
           "title": {
            "standoff": 15
           },
           "zerolinecolor": "white",
           "zerolinewidth": 2
          }
         }
        },
        "xaxis": {
         "anchor": "y",
         "domain": [
          0,
          0.2075
         ],
         "matches": "x5",
         "showticklabels": false
        },
        "xaxis2": {
         "anchor": "y2",
         "domain": [
          0.2575,
          0.46499999999999997
         ],
         "matches": "x6",
         "showticklabels": false
        },
        "xaxis3": {
         "anchor": "y3",
         "domain": [
          0.515,
          0.7225
         ],
         "matches": "x7",
         "showticklabels": false
        },
        "xaxis4": {
         "anchor": "y4",
         "domain": [
          0.7725,
          0.98
         ],
         "matches": "x8",
         "showticklabels": false
        },
        "xaxis5": {
         "anchor": "y5",
         "domain": [
          0,
          0.2075
         ]
        },
        "xaxis6": {
         "anchor": "y6",
         "domain": [
          0.2575,
          0.46499999999999997
         ]
        },
        "xaxis7": {
         "anchor": "y7",
         "domain": [
          0.515,
          0.7225
         ]
        },
        "xaxis8": {
         "anchor": "y8",
         "domain": [
          0.7725,
          0.98
         ]
        },
        "yaxis": {
         "anchor": "x",
         "domain": [
          0.575,
          1
         ]
        },
        "yaxis2": {
         "anchor": "x2",
         "domain": [
          0.575,
          1
         ],
         "matches": "y",
         "showticklabels": false
        },
        "yaxis3": {
         "anchor": "x3",
         "domain": [
          0.575,
          1
         ],
         "matches": "y",
         "showticklabels": false
        },
        "yaxis4": {
         "anchor": "x4",
         "domain": [
          0.575,
          1
         ],
         "matches": "y",
         "showticklabels": false
        },
        "yaxis5": {
         "anchor": "x5",
         "domain": [
          0,
          0.425
         ]
        },
        "yaxis6": {
         "anchor": "x6",
         "domain": [
          0,
          0.425
         ],
         "matches": "y5",
         "showticklabels": false
        },
        "yaxis7": {
         "anchor": "x7",
         "domain": [
          0,
          0.425
         ],
         "matches": "y5",
         "showticklabels": false
        },
        "yaxis8": {
         "anchor": "x8",
         "domain": [
          0,
          0.425
         ],
         "matches": "y5",
         "showticklabels": false
        }
       }
      }
     },
     "metadata": {},
     "output_type": "display_data"
    }
   ],
   "source": [
    "from plotly.subplots import make_subplots\n",
    "\n",
    "shift = 1.0\n",
    "magnitude = np.array([-9, -3, 4, 10], dtype=np.float64)\n",
    "\n",
    "shifts = []\n",
    "stds = []\n",
    "means = []\n",
    "c_abs_cnh_values = []\n",
    "c_rel_cnh_values = []\n",
    "c_abs_values = []\n",
    "c_rel_values = []\n",
    "\n",
    "for shift in np.arange(-8, 8, dtype=np.float64):\n",
    "    mean = np.power(basis, magnitude)\n",
    "    std = np.power(basis, magnitude - shift)\n",
    "    array = np.random.normal(loc=mean, scale=std, size=(10000, magnitude.size))\n",
    "\n",
    "    stds.append(std)\n",
    "    means.append(mean)\n",
    "\n",
    "    print(\"\\nShift: \", shift)\n",
    "    print(\"Type\", array.dtype)\n",
    "    print(array)\n",
    "    print(\"-\" * 20)\n",
    "\n",
    "    print(\"Theorical Mean\", mean)\n",
    "    print(\"Empirical mean\", array.mean(axis=0))\n",
    "    print(\"Mean diff     \", mean - array.mean(axis=0))\n",
    "    print(\"-\" * 20)\n",
    "\n",
    "    print(\"Theorical Std\", std)\n",
    "    print(\"Empirical std\", array.std(axis=0))\n",
    "    print(\"Std diff     \", std - array.std(axis=0))\n",
    "    print(\"-\" * 20)\n",
    "\n",
    "    c_abs_cnh = get_cd_cnh_abs(array, mean)\n",
    "    c_rel_cnh = get_cd_cnh_rel(array, mean)\n",
    "    c_abs = get_cd_gen_abs(array, mean)\n",
    "    c_rel = get_cd_gen_rel(array, mean)\n",
    "\n",
    "    print(\"CNH s_abs: \", c_abs_cnh)\n",
    "    print(\"CNH s_rel: \", c_rel_cnh)\n",
    "    print(\"General s_abs: \", c_abs)\n",
    "    print(\"General s_rel: \", c_rel)\n",
    "\n",
    "    shifts.append(shift)\n",
    "    c_abs_cnh_values.append(c_abs_cnh)\n",
    "    c_rel_cnh_values.append(c_rel_cnh)\n",
    "    c_abs_values.append(c_abs)\n",
    "    c_rel_values.append(c_rel)\n",
    "\n",
    "column_titles = [\n",
    "    f\"log{basis}(μ)={mag:.1f}, log{basis}(σ)={mag:.1f}-shift\" for mag in magnitude\n",
    "]\n",
    "\n",
    "# Plot the results\n",
    "fig = make_subplots(\n",
    "    rows=2,\n",
    "    cols=magnitude.size,\n",
    "    column_titles=column_titles,\n",
    "    row_titles=[\"Absolute\", \"Relative\"],\n",
    "    x_title=\"Shift\",\n",
    "    y_title=\"Significant Digits\",\n",
    "    shared_xaxes=True,\n",
    "    shared_yaxes=True,\n",
    "    specs=[\n",
    "        [{\"type\": \"scatter\"}] * magnitude.size,\n",
    "        [{\"type\": \"scatter\"}] * magnitude.size,\n",
    "    ],\n",
    ")\n",
    "\n",
    "\n",
    "for dim, _ in enumerate(magnitude, start=1):\n",
    "\n",
    "    add_sig_scatter(fig, shifts, c_abs_cnh_values, \"CNH\", \"Absolute\", dim)\n",
    "    add_sig_scatter(fig, shifts, c_rel_cnh_values, \"CNH\", \"Relative\", dim)\n",
    "    add_sig_scatter(fig, shifts, c_abs_values, \"General\", \"Absolute\", dim)\n",
    "    add_sig_scatter(fig, shifts, c_rel_values, \"General\", \"Relative\", dim)\n",
    "\n",
    "\n",
    "# Group Absolute and Relative traces together\n",
    "fig.data = sorted(fig.data, key=lambda trace: \"Absolute\" in trace.name)\n",
    "\n",
    "means = np.array(means)\n",
    "stds = np.array(stds)\n",
    "\n",
    "if basis == 2:\n",
    "    e_ref = np.floor(np.log2(np.abs(means))) + 1\n",
    "    # Reference line for absolute\n",
    "    abs_ref_line = -np.log2(stds) + (e_ref - 1)\n",
    "    # Reference line for relative\n",
    "    rel_ref_line = -np.log2(stds / np.abs(means))\n",
    "elif basis == 10:\n",
    "    e_ref = np.floor(np.log10(np.abs(means))) + 1\n",
    "    # Reference line for absolute\n",
    "    abs_ref_line = -np.log10(stds) + (e_ref - 1)\n",
    "    # Reference line for relative\n",
    "    rel_ref_line = -np.log10(stds / np.abs(means))\n",
    "else:\n",
    "    e_ref = np.floor(np.log(np.abs(means))) + 1\n",
    "    # Reference line for absolute\n",
    "    abs_ref_line = -np.log(np.array(stds)) + (e_ref - 1)\n",
    "    # Reference line for relative\n",
    "    rel_ref_line = -np.log(np.array(stds) / np.abs(np.array(means)))\n",
    "    # Convert to base basis\n",
    "    abs_ref_line = abs_ref_line / np.log(basis)\n",
    "    rel_ref_line = rel_ref_line / np.log(basis)\n",
    "\n",
    "\n",
    "print(\"e_ref: \", e_ref)\n",
    "print(\"abs_ref_line: \", abs_ref_line)\n",
    "print(\"rel_ref_line: \", rel_ref_line)\n",
    "\n",
    "\n",
    "for dim, _ in enumerate(magnitude, start=1):\n",
    "\n",
    "    add_ref_scatter(fig, shifts, abs_ref_line, \"Reference\", \"Absolute\", dim)\n",
    "    add_ref_scatter(fig, shifts, rel_ref_line, \"Reference\", \"Relative\", dim)\n",
    "\n",
    "\n",
    "# Add significant digits with Parker method\n",
    "if basis == 2:\n",
    "    parker_sd = -np.log2(stds / np.abs(means))\n",
    "elif basis == 10:\n",
    "    parker_sd = -np.log10(stds / np.abs(means))\n",
    "else:\n",
    "    # Reference line for absolute\n",
    "    parker_sd = -np.log(stds / np.abs(means))\n",
    "    # Convert to base basis\n",
    "    parker_sd = parker_sd / np.log(basis)\n",
    "\n",
    "\n",
    "for dim, _ in enumerate(magnitude, start=1):\n",
    "    add_parker_scatter(fig, shifts, parker_sd, \"Parker\", \"Absolute\", dim)\n",
    "    add_parker_scatter(fig, shifts, parker_sd, \"Parker\", \"Relative\", dim)\n",
    "\n",
    "\n",
    "fig.update_traces(marker=dict(size=12))\n",
    "# increase the height of the figure\n",
    "fig.update_layout(height=1200)\n",
    "\n",
    "fig.show()"
   ]
  }
 ],
 "metadata": {
  "kernelspec": {
   "display_name": "venv",
   "language": "python",
   "name": "python3"
  },
  "language_info": {
   "codemirror_mode": {
    "name": "ipython",
    "version": 3
   },
   "file_extension": ".py",
   "mimetype": "text/x-python",
   "name": "python",
   "nbconvert_exporter": "python",
   "pygments_lexer": "ipython3",
   "version": "3.12.3"
  }
 },
 "nbformat": 4,
 "nbformat_minor": 5
}
